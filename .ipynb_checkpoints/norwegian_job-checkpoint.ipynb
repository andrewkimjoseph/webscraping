{
 "cells": [
  {
   "cell_type": "code",
   "execution_count": 1,
   "id": "4afbe025",
   "metadata": {},
   "outputs": [],
   "source": [
    "import requests"
   ]
  },
  {
   "cell_type": "code",
   "execution_count": 2,
   "id": "a1c0195f",
   "metadata": {},
   "outputs": [],
   "source": [
    "import bs4"
   ]
  },
  {
   "cell_type": "code",
   "execution_count": null,
   "id": "b0e3944d",
   "metadata": {},
   "outputs": [],
   "source": []
  },
  {
   "cell_type": "code",
   "execution_count": 3,
   "id": "59c9c3ad",
   "metadata": {},
   "outputs": [],
   "source": [
    "# Link one because there is info to be scraped in yet another webpage\n",
    "\n",
    "link_one = 'https://minnesider.no/index.php?sign=39cb4f8d032fe87e47bc628d237134e1'"
   ]
  },
  {
   "cell_type": "code",
   "execution_count": null,
   "id": "2254ec16",
   "metadata": {},
   "outputs": [],
   "source": []
  },
  {
   "cell_type": "code",
   "execution_count": 4,
   "id": "79de09c8",
   "metadata": {},
   "outputs": [],
   "source": [
    "# Later, we will send another response\n",
    "\n",
    "response_one  = requests.get(link_one)"
   ]
  },
  {
   "cell_type": "code",
   "execution_count": null,
   "id": "da35ff71",
   "metadata": {},
   "outputs": [],
   "source": []
  },
  {
   "cell_type": "code",
   "execution_count": 5,
   "id": "41fe8277",
   "metadata": {},
   "outputs": [],
   "source": [
    "# Soup one is from the first link\n",
    "\n",
    "soup_one = bs4.BeautifulSoup(response_one.text, 'lxml')"
   ]
  },
  {
   "cell_type": "code",
   "execution_count": null,
   "id": "ad668f31",
   "metadata": {},
   "outputs": [],
   "source": []
  },
  {
   "cell_type": "code",
   "execution_count": 6,
   "id": "dc227f10",
   "metadata": {},
   "outputs": [],
   "source": [
    "# This user_text class has name, date, and place information\n",
    "\n",
    "user_text = soup_one.select('.user_text') "
   ]
  },
  {
   "cell_type": "code",
   "execution_count": null,
   "id": "7b95fdc1",
   "metadata": {},
   "outputs": [],
   "source": []
  },
  {
   "cell_type": "code",
   "execution_count": 7,
   "id": "b5fd033b",
   "metadata": {},
   "outputs": [],
   "source": [
    "dp = 49"
   ]
  },
  {
   "cell_type": "markdown",
   "id": "ff27d920",
   "metadata": {},
   "source": [
    "# Getting the NAME"
   ]
  },
  {
   "cell_type": "code",
   "execution_count": 8,
   "id": "87bb2175",
   "metadata": {},
   "outputs": [
    {
     "name": "stdout",
     "output_type": "stream",
     "text": [
      "The Full Name is:\n",
      "Grethe Berg Hagerupsen\n"
     ]
    }
   ],
   "source": [
    "full_name = user_text[dp]('h4')[0].getText()\n",
    "\n",
    "print(f'The Full Name is:\\n{full_name}')"
   ]
  },
  {
   "cell_type": "markdown",
   "id": "cddc4d2c",
   "metadata": {},
   "source": [
    "## NAMES IN THREE PARTS"
   ]
  },
  {
   "cell_type": "code",
   "execution_count": 9,
   "id": "c1a3e28f",
   "metadata": {},
   "outputs": [
    {
     "name": "stdout",
     "output_type": "stream",
     "text": [
      "The First Name is: \n",
      "Grethe \n",
      "\n",
      "The Second Name is: \n",
      "Berg \n",
      "\n",
      "The Last Name is: \n",
      "Hagerupsen\n"
     ]
    }
   ],
   "source": [
    "names = full_name.split()\n",
    "\n",
    "if len(names) == 3:\n",
    "    first_name = names[0]\n",
    "    second_name = names[1]\n",
    "    last_name = names[2]\n",
    "    print(f'The First Name is: \\n{first_name} \\n')\n",
    "    print(f'The Second Name is: \\n{second_name} \\n')\n",
    "    print(f'The Last Name is: \\n{last_name}')\n",
    "\n",
    "elif len(names) == 2:\n",
    "    first_name = names[0]\n",
    "    second_name = '-'\n",
    "    last_name = names[1]\n",
    "    print(f'The First Name is: \\n{first_name} \\n')\n",
    "    print(f'The Last Name is: \\n{last_name}')\n",
    "\n",
    "elif len(names) == 1:\n",
    "    first_name = names[0]\n",
    "    second_name = '-'\n",
    "    last_name = '-'\n",
    "    print(f'The First Name is: \\n{first_name} \\n')"
   ]
  },
  {
   "cell_type": "markdown",
   "id": "41a44d62",
   "metadata": {},
   "source": [
    " # Getting the DATES"
   ]
  },
  {
   "cell_type": "code",
   "execution_count": 10,
   "id": "b31b6a5f",
   "metadata": {},
   "outputs": [
    {
     "data": {
      "text/plain": [
       "'1956\\xa0-\\xa016.03.2022\\xa0Sandefjord'"
      ]
     },
     "execution_count": 10,
     "metadata": {},
     "output_type": "execute_result"
    }
   ],
   "source": [
    "all_dates = user_text[dp]('span')[0].getText()\n",
    "\n",
    "all_dates"
   ]
  },
  {
   "cell_type": "markdown",
   "id": "b4168de0",
   "metadata": {},
   "source": [
    "## ONLY DATE"
   ]
  },
  {
   "cell_type": "code",
   "execution_count": 11,
   "id": "f9c8957c",
   "metadata": {},
   "outputs": [
    {
     "data": {
      "text/plain": [
       "['1956', '16.03.2022']"
      ]
     },
     "execution_count": 11,
     "metadata": {},
     "output_type": "execute_result"
    }
   ],
   "source": [
    "date_list = all_dates.split()\n",
    "\n",
    "date_list.remove('-')\n",
    "\n",
    "date_list.pop()\n",
    "\n",
    "date_list"
   ]
  },
  {
   "cell_type": "code",
   "execution_count": 12,
   "id": "90a97cf8",
   "metadata": {},
   "outputs": [
    {
     "data": {
      "text/plain": [
       "'16.03'"
      ]
     },
     "execution_count": 12,
     "metadata": {},
     "output_type": "execute_result"
    }
   ],
   "source": [
    "only_date = date_list[1][:5]\n",
    "\n",
    "only_date"
   ]
  },
  {
   "cell_type": "markdown",
   "id": "a9ebdbc2",
   "metadata": {},
   "source": [
    "## YEAR OF BIRTH"
   ]
  },
  {
   "cell_type": "code",
   "execution_count": 13,
   "id": "931572de",
   "metadata": {},
   "outputs": [
    {
     "data": {
      "text/plain": [
       "'1956'"
      ]
     },
     "execution_count": 13,
     "metadata": {},
     "output_type": "execute_result"
    }
   ],
   "source": [
    "birth_year = date_list[0]\n",
    "\n",
    "birth_year"
   ]
  },
  {
   "cell_type": "markdown",
   "id": "ac089db2",
   "metadata": {},
   "source": [
    "## YEAR OF DEATH"
   ]
  },
  {
   "cell_type": "code",
   "execution_count": 14,
   "id": "42eccf0c",
   "metadata": {},
   "outputs": [
    {
     "data": {
      "text/plain": [
       "'2022'"
      ]
     },
     "execution_count": 14,
     "metadata": {},
     "output_type": "execute_result"
    }
   ],
   "source": [
    "death_year = date_list[1][6::]\n",
    "\n",
    "death_year"
   ]
  },
  {
   "cell_type": "markdown",
   "id": "61a150ac",
   "metadata": {},
   "source": [
    "## AGE OF DEATH"
   ]
  },
  {
   "cell_type": "code",
   "execution_count": 15,
   "id": "3734fb74",
   "metadata": {},
   "outputs": [
    {
     "data": {
      "text/plain": [
       "66"
      ]
     },
     "execution_count": 15,
     "metadata": {},
     "output_type": "execute_result"
    }
   ],
   "source": [
    "birth_year = int(birth_year)\n",
    "\n",
    "death_year = int(death_year)\n",
    "\n",
    "age = death_year - birth_year\n",
    "\n",
    "age"
   ]
  },
  {
   "cell_type": "markdown",
   "id": "70729dab",
   "metadata": {},
   "source": [
    "# Getting the PLACE "
   ]
  },
  {
   "cell_type": "code",
   "execution_count": 16,
   "id": "842867a8",
   "metadata": {},
   "outputs": [
    {
     "data": {
      "text/plain": [
       "'Sandefjord'"
      ]
     },
     "execution_count": 16,
     "metadata": {},
     "output_type": "execute_result"
    }
   ],
   "source": [
    "place_list = all_dates.split()\n",
    "\n",
    "place = place_list.pop()\n",
    "\n",
    "place"
   ]
  },
  {
   "cell_type": "markdown",
   "id": "6b609418",
   "metadata": {},
   "source": [
    "# Getting the TEXT"
   ]
  },
  {
   "cell_type": "markdown",
   "id": "183f12a0",
   "metadata": {},
   "source": [
    "## 1/5. We Get the Link to the Deceased's Page"
   ]
  },
  {
   "cell_type": "code",
   "execution_count": 17,
   "id": "cc40466f",
   "metadata": {},
   "outputs": [],
   "source": [
    "lnk = user_text[dp].find(href=True)\n",
    "\n",
    "link_two = lnk['href']"
   ]
  },
  {
   "cell_type": "code",
   "execution_count": 18,
   "id": "67a0954b",
   "metadata": {},
   "outputs": [
    {
     "name": "stdout",
     "output_type": "stream",
     "text": [
      "https://boebegravelse.vareminnesider.no/memorial_page/memorial_page_personal_info.php?order_id=4005086&set_site_id=208&cat=home&sign=6525af58d077c2083a6253af358a0540\n"
     ]
    }
   ],
   "source": [
    "print(link_two)"
   ]
  },
  {
   "cell_type": "markdown",
   "id": "f9f32638",
   "metadata": {},
   "source": [
    "## 2/5. We Use the Generated Link to Get to the Obituary Page"
   ]
  },
  {
   "cell_type": "code",
   "execution_count": 19,
   "id": "87edbdce",
   "metadata": {},
   "outputs": [],
   "source": [
    "response_two = requests.get(link_one)\n",
    "\n",
    "soup_two = bs4.BeautifulSoup(response_two.text, 'lxml')\n",
    "\n",
    "obituary = soup_two.select('.portal_buttons_box')\n",
    "\n",
    "lnk1 = obituary[dp].find(href=True)\n",
    "\n",
    "link_three = lnk1['href']"
   ]
  },
  {
   "cell_type": "code",
   "execution_count": 20,
   "id": "faf17f98",
   "metadata": {},
   "outputs": [
    {
     "name": "stdout",
     "output_type": "stream",
     "text": [
      "https://boebegravelse.vareminnesider.no/order_info.php?order_id=4005086&set_site_id=208&memorial_page_created=1&design=vareminnesider-no&sign=c0fc115d66b644771e5d61b8ad2fe93e\n"
     ]
    }
   ],
   "source": [
    "print(link_three)"
   ]
  },
  {
   "cell_type": "markdown",
   "id": "cccdadb2",
   "metadata": {},
   "source": [
    "## 3/5. We Pick the Link to the Image with the Text on the Obituary Page"
   ]
  },
  {
   "cell_type": "code",
   "execution_count": 21,
   "id": "5676c0c7",
   "metadata": {},
   "outputs": [],
   "source": [
    "response_three = requests.get(link_three)\n",
    "\n",
    "soup_three = bs4.BeautifulSoup(response_three.text, 'lxml')\n",
    "\n",
    "img_link = soup_three.findAll('img')[0]['src']"
   ]
  },
  {
   "cell_type": "code",
   "execution_count": null,
   "id": "721f4175",
   "metadata": {},
   "outputs": [],
   "source": []
  },
  {
   "cell_type": "code",
   "execution_count": null,
   "id": "0635e7dd",
   "metadata": {},
   "outputs": [],
   "source": []
  },
  {
   "cell_type": "code",
   "execution_count": 22,
   "id": "dbe1cd63",
   "metadata": {},
   "outputs": [
    {
     "name": "stdout",
     "output_type": "stream",
     "text": [
      "https://fe.adstate.net/stream_file.php?booking_id=2264160&type=ad_preview_image_print&sign=fbccb8d89a93ccc2f325e5a4e50428a2\n"
     ]
    }
   ],
   "source": [
    "print(img_link)"
   ]
  },
  {
   "cell_type": "code",
   "execution_count": 23,
   "id": "b56ad285",
   "metadata": {},
   "outputs": [],
   "source": [
    "zero_list = list(soup_three.select('.death_notice_hide'))"
   ]
  },
  {
   "cell_type": "code",
   "execution_count": 24,
   "id": "3fc06d00",
   "metadata": {},
   "outputs": [
    {
     "data": {
      "text/plain": [
       "True"
      ]
     },
     "execution_count": 24,
     "metadata": {},
     "output_type": "execute_result"
    }
   ],
   "source": [
    "blank_list = []\n",
    "\n",
    "blank_list == zero_list"
   ]
  },
  {
   "cell_type": "code",
   "execution_count": null,
   "id": "6d0de69e",
   "metadata": {},
   "outputs": [],
   "source": []
  },
  {
   "cell_type": "markdown",
   "id": "65aac18d",
   "metadata": {},
   "source": [
    "## 4/5. We Download the Image Using the Link to the Image"
   ]
  },
  {
   "cell_type": "code",
   "execution_count": 25,
   "id": "5a9871e4",
   "metadata": {},
   "outputs": [
    {
     "data": {
      "text/plain": [
       "165502"
      ]
     },
     "execution_count": 25,
     "metadata": {},
     "output_type": "execute_result"
    }
   ],
   "source": [
    "response_four = requests.get(img_link)\n",
    "\n",
    "img_file = open(f'{full_name}.jpg', 'wb')\n",
    "\n",
    "img_file.write(response_four.content)"
   ]
  },
  {
   "cell_type": "markdown",
   "id": "fcee6666",
   "metadata": {},
   "source": [
    "## 5/5. We Read the Text from the Image"
   ]
  },
  {
   "cell_type": "code",
   "execution_count": 26,
   "id": "3f9b502f",
   "metadata": {},
   "outputs": [],
   "source": [
    "from PIL import Image\n",
    "\n",
    "from pytesseract import pytesseract\n",
    "\n",
    "exe_path = r'C:/Program Files (x86)/Tesseract-OCR/tesseract.exe'\n",
    "\n",
    "image_path = img_file.name\n",
    "\n",
    "the_img = Image.open(image_path)\n",
    "\n",
    "pytesseract.tesseract_cmd = exe_path\n",
    "\n",
    "img_text = pytesseract.image_to_string(the_img)\n",
    "\n",
    "text_list = img_text[:-1].splitlines()\n",
    "\n",
    "all_text = ''\n",
    "\n",
    "for each_item in text_list:\n",
    "    all_text += each_item\n",
    "    \n",
    "img_file.close()"
   ]
  },
  {
   "cell_type": "markdown",
   "id": "5f705739",
   "metadata": {},
   "source": [
    "# Bringing Everything Together"
   ]
  },
  {
   "cell_type": "code",
   "execution_count": 27,
   "id": "7b798df2",
   "metadata": {},
   "outputs": [
    {
     "data": {
      "text/plain": [
       "[['OnlyDate',\n",
       "  'FirstName',\n",
       "  'SecondName',\n",
       "  'LastName',\n",
       "  'YearofBirth',\n",
       "  'YearofDeath',\n",
       "  'Age',\n",
       "  'Place',\n",
       "  'Text']]"
      ]
     },
     "execution_count": 27,
     "metadata": {},
     "output_type": "execute_result"
    }
   ],
   "source": [
    "deceased = []\n",
    "\n",
    "col_heads = ['OnlyDate', 'FirstName', 'SecondName', 'LastName', 'YearofBirth', 'YearofDeath', 'Age', 'Place', 'Text']\n",
    "\n",
    "deceased.append(col_heads)\n",
    "\n",
    "deceased"
   ]
  },
  {
   "cell_type": "code",
   "execution_count": 28,
   "id": "975e8375",
   "metadata": {},
   "outputs": [
    {
     "name": "stdout",
     "output_type": "stream",
     "text": [
      "Only Date: \n",
      "16.03\n",
      "\n",
      "First Name: \n",
      "Grethe\n",
      "\n",
      "Second Name: \n",
      "Berg\n",
      "\n",
      "Last Name: \n",
      "Hagerupsen\n",
      "\n",
      "Year of Birth: \n",
      "1956\n",
      "\n",
      "Year of Death: \n",
      "\n",
      "2022\n",
      "\n",
      "Age: \n",
      "66\n",
      "\n",
      "Place: \n",
      "Sandefjord\n",
      "\n",
      "Text: \n",
      "C?Min kjaere, Varme kone,Véir kjaere mamma,svigermor, farmer, oldemor,sqaster, svigerinne og tanteGrethe BergHagerupsenf¢dt 16. august 1956sovnet fredfullt innetter lang tids sykdom.Sandefjord, 16. mars 2022.Hwyt var du elsket,dypt blir du savnet.GunnarTommy CherrylRichardGunnhild NidalBarnebarn og oldebarnElse Unni (sgzbster)Qvrig familieBisettes fra Orelund kapellfredag 1. april kl. 12.00.Like kjaert som blomsterer en gave til LHL.boebegI'aVelse.n0\n"
     ]
    }
   ],
   "source": [
    "print(f'Only Date: \\n{only_date}\\n')\n",
    "\n",
    "print(f'First Name: \\n{first_name}\\n')\n",
    "\n",
    "print(f'Second Name: \\n{second_name}\\n')\n",
    "\n",
    "print(f'Last Name: \\n{last_name}\\n')\n",
    "\n",
    "print(f'Year of Birth: \\n{birth_year}\\n')\n",
    "\n",
    "print(f'Year of Death: \\n\\n{death_year}\\n')\n",
    "\n",
    "print(f'Age: \\n{age}\\n')\n",
    "\n",
    "print(f'Place: \\n{place}\\n')\n",
    "\n",
    "print(f'Text: \\n{all_text}')"
   ]
  },
  {
   "cell_type": "code",
   "execution_count": null,
   "id": "90dbbeba",
   "metadata": {},
   "outputs": [],
   "source": []
  },
  {
   "cell_type": "code",
   "execution_count": 29,
   "id": "86f51344",
   "metadata": {},
   "outputs": [
    {
     "data": {
      "text/plain": [
       "['16.03',\n",
       " 'Grethe',\n",
       " 'Berg',\n",
       " 'Hagerupsen',\n",
       " 1956,\n",
       " 2022,\n",
       " 66,\n",
       " 'Sandefjord',\n",
       " \"C?Min kjaere, Varme kone,Véir kjaere mamma,svigermor, farmer, oldemor,sqaster, svigerinne og tanteGrethe BergHagerupsenf¢dt 16. august 1956sovnet fredfullt innetter lang tids sykdom.Sandefjord, 16. mars 2022.Hwyt var du elsket,dypt blir du savnet.GunnarTommy CherrylRichardGunnhild NidalBarnebarn og oldebarnElse Unni (sgzbster)Qvrig familieBisettes fra Orelund kapellfredag 1. april kl. 12.00.Like kjaert som blomsterer en gave til LHL.boebegI'aVelse.n0\"]"
      ]
     },
     "execution_count": 29,
     "metadata": {},
     "output_type": "execute_result"
    }
   ],
   "source": [
    "record = [only_date, first_name, second_name, last_name, birth_year, death_year, age, place, all_text]\n",
    "\n",
    "record"
   ]
  },
  {
   "cell_type": "code",
   "execution_count": null,
   "id": "2aa8973a",
   "metadata": {},
   "outputs": [],
   "source": []
  },
  {
   "cell_type": "code",
   "execution_count": null,
   "id": "717f77a7",
   "metadata": {},
   "outputs": [],
   "source": []
  },
  {
   "cell_type": "code",
   "execution_count": 30,
   "id": "e8ab792b",
   "metadata": {},
   "outputs": [
    {
     "data": {
      "text/plain": [
       "[['OnlyDate',\n",
       "  'FirstName',\n",
       "  'SecondName',\n",
       "  'LastName',\n",
       "  'YearofBirth',\n",
       "  'YearofDeath',\n",
       "  'Age',\n",
       "  'Place',\n",
       "  'Text'],\n",
       " ['16.03',\n",
       "  'Grethe',\n",
       "  'Berg',\n",
       "  'Hagerupsen',\n",
       "  1956,\n",
       "  2022,\n",
       "  66,\n",
       "  'Sandefjord',\n",
       "  \"C?Min kjaere, Varme kone,Véir kjaere mamma,svigermor, farmer, oldemor,sqaster, svigerinne og tanteGrethe BergHagerupsenf¢dt 16. august 1956sovnet fredfullt innetter lang tids sykdom.Sandefjord, 16. mars 2022.Hwyt var du elsket,dypt blir du savnet.GunnarTommy CherrylRichardGunnhild NidalBarnebarn og oldebarnElse Unni (sgzbster)Qvrig familieBisettes fra Orelund kapellfredag 1. april kl. 12.00.Like kjaert som blomsterer en gave til LHL.boebegI'aVelse.n0\"]]"
      ]
     },
     "execution_count": 30,
     "metadata": {},
     "output_type": "execute_result"
    }
   ],
   "source": [
    "deceased.append(record)\n",
    "\n",
    "deceased"
   ]
  },
  {
   "cell_type": "markdown",
   "id": "e933ca7d",
   "metadata": {},
   "source": [
    "# Getting the First 50 records into a List"
   ]
  },
  {
   "cell_type": "markdown",
   "id": "abfbac9c",
   "metadata": {},
   "source": [
    "#def first_20():\n",
    "    \n",
    "import requests\n",
    "\n",
    "import bs4\n",
    "\n",
    "from PIL import Image\n",
    "\n",
    "from pytesseract import pytesseract\n",
    "\n",
    "from time import sleep\n",
    "\n",
    "deceased = []\n",
    "\n",
    "col_heads = ['OnlyDate', 'FirstName', 'SecondName', 'LastName', 'YearofBirth', 'YearofDeath', 'Age', 'Place', 'Text']\n",
    "\n",
    "deceased.append(col_heads)\n",
    "\n",
    "# Link one because there is info to be scraped in yet another webpage\n",
    "link_one = 'https://minnesider.no/index.php?sign=39cb4f8d032fe87e47bc628d237134e1'\n",
    "\n",
    "\n",
    "# Later, we will send another response\n",
    "response_one  = requests.get(link_one)\n",
    "\n",
    "\n",
    "# Soup one is from the first link\n",
    "soup_one = bs4.BeautifulSoup(response_one.text, 'lxml')\n",
    "\n",
    "\n",
    "# This user_text class has name, date, and place information\n",
    "user_text = soup_one.select('.user_text')\n",
    "\n",
    "for dp in user_text\n",
    "while dp in range(1, 21):\n",
    "\n",
    "    # Get the Full Name \n",
    "    full_name = user_text[dp]('h4')[0].getText()\n",
    "\n",
    "\n",
    "    # Get Each Name\n",
    "    names = full_name.split()\n",
    "\n",
    "    if len(names) == 3:\n",
    "        first_name = names[0]\n",
    "        second_name = names[1]\n",
    "        last_name = names[2]\n",
    "\n",
    "    elif len(names) == 2:\n",
    "        first_name = names[0]\n",
    "        last_name = names[1]\n",
    "\n",
    "    elif len(names) == 1:\n",
    "        first_name = names[0]\n",
    "\n",
    "    \n",
    "    # Getting All Dates\n",
    "    all_dates = user_text[dp]('span')[0].getText()\n",
    "\n",
    "\n",
    "    # Only Date, Without Place\n",
    "    date_list = all_dates.split()\n",
    "\n",
    "    date_list.remove('-')\n",
    "\n",
    "    date_list.pop()\n",
    "\n",
    "    only_date = date_list[1][:5]\n",
    "\n",
    "\n",
    "    # Year of Birth\n",
    "    birth_year = date_list[0]\n",
    "\n",
    "\n",
    "    # Year of Death\n",
    "    death_year = date_list[1][6::]\n",
    "\n",
    "\n",
    "    # Get the Age\n",
    "    birth_year = int(birth_year)\n",
    "\n",
    "    death_year = int(death_year)\n",
    "\n",
    "    age = death_year - birth_year\n",
    "\n",
    "\n",
    "    # Get the Place\n",
    "    place_list = all_dates.split()\n",
    "\n",
    "    place = place_list.pop()\n",
    "\n",
    "    # Getting Image Text\n",
    "\n",
    "    lnk = user_text[dp].find(href=True)\n",
    "\n",
    "    link_two = lnk['href']\n",
    "\n",
    "    response_two = requests.get(link_one)\n",
    "\n",
    "    soup_two = bs4.BeautifulSoup(response_two.text, 'lxml')\n",
    "\n",
    "    obituary = soup_two.select('.portal_buttons_box')\n",
    "\n",
    "    lnk1 = obituary[dp].find(href=True)\n",
    "\n",
    "    link_three = lnk1['href']\n",
    "    \n",
    "    \n",
    "    if link_three == 'javascript:void()':\n",
    "        \n",
    "        all_text = '-'\n",
    "    \n",
    "    else:\n",
    "        \n",
    "        response_three = requests.get(link_three)\n",
    "\n",
    "        soup_three = bs4.BeautifulSoup(response_three.text, 'lxml')\n",
    "\n",
    "    zero_list = list(soup_three.select('.death_notice_hide'))\n",
    "\n",
    "    blank_list = []\n",
    "\n",
    "    if zero_list != blank_list:\n",
    "\n",
    "        all_text = '-'\n",
    "\n",
    "    else:\n",
    "        \n",
    "        all_text = ''\n",
    "            \n",
    "        img_link = soup_three.findAll('img')[0]['src']\n",
    "\n",
    "        response_four = requests.get(img_link)\n",
    "\n",
    "        img_file = open(f'{dp}. {full_name}.jpg', 'wb')\n",
    "\n",
    "        img_file.write(response_four.content)\n",
    "\n",
    "        exe_path = r'C:/Program Files (x86)/Tesseract-OCR/tesseract.exe'\n",
    "\n",
    "        image_path = img_file.name\n",
    "\n",
    "        the_img = Image.open(image_path)\n",
    "\n",
    "        pytesseract.tesseract_cmd = exe_path\n",
    "\n",
    "        img_text = pytesseract.image_to_string(the_img)\n",
    "\n",
    "        text_list = img_text[:-1].splitlines()\n",
    "\n",
    "        all_text = ''\n",
    "\n",
    "        for each_item in text_list:\n",
    "\n",
    "            all_text += each_item\n",
    "\n",
    "            img_file.close()\n",
    "\n",
    "\n",
    "    record = [only_date, first_name, second_name, last_name, birth_year, death_year, age, place, all_text]\n",
    "\n",
    "    deceased.append(record)\n",
    "\n",
    "deceased"
   ]
  },
  {
   "cell_type": "code",
   "execution_count": null,
   "id": "dc026943",
   "metadata": {},
   "outputs": [],
   "source": []
  },
  {
   "cell_type": "code",
   "execution_count": null,
   "id": "a8ffe92e",
   "metadata": {},
   "outputs": [],
   "source": []
  },
  {
   "cell_type": "markdown",
   "id": "95180ddf",
   "metadata": {},
   "source": [
    "def make_csv():\n",
    "    \n",
    "    import csv\n",
    "    \n",
    "    norwegian_csv = open('file.csv', mode = 'w', encoding = 'utf-8', newline = '')\n",
    "\n",
    "    csv_writer = csv.writer(norwegian_csv, delimiter = ',')\n",
    "\n",
    "    csv_writer.writerows(deceased)\n",
    "\n",
    "    norwegian_csv.close()"
   ]
  },
  {
   "cell_type": "code",
   "execution_count": null,
   "id": "ab1ab29e",
   "metadata": {},
   "outputs": [],
   "source": []
  },
  {
   "cell_type": "markdown",
   "id": "13c3bbe5",
   "metadata": {},
   "source": [
    "make_csv()"
   ]
  },
  {
   "cell_type": "code",
   "execution_count": null,
   "id": "5a32d805",
   "metadata": {},
   "outputs": [],
   "source": []
  },
  {
   "cell_type": "code",
   "execution_count": null,
   "id": "65f4c29a",
   "metadata": {},
   "outputs": [],
   "source": []
  },
  {
   "cell_type": "code",
   "execution_count": null,
   "id": "551ff399",
   "metadata": {},
   "outputs": [],
   "source": []
  }
 ],
 "metadata": {
  "kernelspec": {
   "display_name": "Python 3 (ipykernel)",
   "language": "python",
   "name": "python3"
  },
  "language_info": {
   "codemirror_mode": {
    "name": "ipython",
    "version": 3
   },
   "file_extension": ".py",
   "mimetype": "text/x-python",
   "name": "python",
   "nbconvert_exporter": "python",
   "pygments_lexer": "ipython3",
   "version": "3.9.7"
  }
 },
 "nbformat": 4,
 "nbformat_minor": 5
}
