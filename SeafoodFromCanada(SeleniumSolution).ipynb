{
 "cells": [
  {
   "cell_type": "markdown",
   "id": "af65fb66",
   "metadata": {},
   "source": [
    "### Scrap web data into excel and format for easy filtering.\n",
    "\n",
    "I'm looking to pull the data from https://seafoodfromcanada.ca/directory/ and put it into a Google Sheet.\n",
    "\n",
    "Each Profile has many details (exports to, specifies available etc) that I want included in the sheet.\n",
    "\n",
    "Each profile should be it's own line item with all the details (categories should be like :Name, Phone number, e-mail, address, exports to, species etc)\n",
    "\n",
    "Also, I want to be able to filter quickly to which profile suits my search. For example, on the excel sheet I want to filter for profiles that export to Asia AND Lobster specie."
   ]
  },
  {
   "cell_type": "code",
   "execution_count": 39,
   "id": "650a3d13",
   "metadata": {},
   "outputs": [],
   "source": [
    "from selenium import webdriver  # driver\n",
    "from selenium.webdriver.chrome.options import Options  # setting User Agent\n",
    "from selenium.common.exceptions import StaleElementReferenceException, NoSuchElementException, NoSuchWindowException\n",
    "from selenium.webdriver.common.by import By # helps implicit waiting\n",
    "from selenium.webdriver.support import expected_conditions as EC # this one too\n",
    "from selenium.webdriver.support.ui import WebDriverWait # implicit waiting\n",
    "from selenium.webdriver.common.keys import Keys\n",
    "import time\n",
    "import csv\n",
    "import re"
   ]
  },
  {
   "cell_type": "code",
   "execution_count": 2,
   "id": "ff3c5b4b",
   "metadata": {},
   "outputs": [],
   "source": [
    "path = \"C:\\webdrivers\\chromedriver_win32\\chromedriver.exe\""
   ]
  },
  {
   "cell_type": "code",
   "execution_count": 3,
   "id": "00f816ab",
   "metadata": {},
   "outputs": [],
   "source": [
    "agent = \"user-agent=Mozilla/5.0 (X11; Linux x86_64) AppleWebKit/537.36 (KHTML, like Gecko) Chrome/77.0.3865.90 Safari/537.36\""
   ]
  },
  {
   "cell_type": "code",
   "execution_count": 4,
   "id": "c479138f",
   "metadata": {},
   "outputs": [],
   "source": [
    "#headless = \"--headless\""
   ]
  },
  {
   "cell_type": "code",
   "execution_count": 5,
   "id": "fb8adbd6",
   "metadata": {},
   "outputs": [],
   "source": [
    "the_options = webdriver.ChromeOptions()\n",
    "the_options.add_argument(path)\n",
    "#the_options.add_argument(headless)"
   ]
  },
  {
   "cell_type": "code",
   "execution_count": 6,
   "id": "31370c83",
   "metadata": {},
   "outputs": [],
   "source": [
    "driver = webdriver.Chrome(path, options=the_options)"
   ]
  },
  {
   "cell_type": "code",
   "execution_count": 7,
   "id": "aaaa57bd",
   "metadata": {},
   "outputs": [],
   "source": [
    "url = 'https://seafoodfromcanada.ca/directory/'"
   ]
  },
  {
   "cell_type": "code",
   "execution_count": 8,
   "id": "28562f97",
   "metadata": {},
   "outputs": [],
   "source": [
    "driver.maximize_window()"
   ]
  },
  {
   "cell_type": "code",
   "execution_count": 9,
   "id": "ff6dde98",
   "metadata": {},
   "outputs": [],
   "source": [
    "driver.get(url)"
   ]
  },
  {
   "cell_type": "code",
   "execution_count": 10,
   "id": "85ccdbcd",
   "metadata": {},
   "outputs": [],
   "source": [
    "next_button = driver.find_element_by_xpath(\"(//a[starts-with(@class, 'f-next')])[2]\")"
   ]
  },
  {
   "cell_type": "code",
   "execution_count": null,
   "id": "5a6d0df3",
   "metadata": {},
   "outputs": [],
   "source": []
  },
  {
   "cell_type": "code",
   "execution_count": 11,
   "id": "c7256f0d",
   "metadata": {},
   "outputs": [],
   "source": [
    "def get_links():\n",
    "    links_list = []\n",
    "    pages_done = False\n",
    "    last_page = '18\\nof\\n18'\n",
    "    while pages_done is not True:\n",
    "        current_page = driver.find_element_by_xpath('(//span[starts-with(@class,\"f-pagination\")])').text\n",
    "        links = driver.find_elements_by_xpath('(//article[starts-with(@class,\"gi gi-listing\")]/a)')\n",
    "        for link in links:\n",
    "            one_link = link.get_attribute('href')\n",
    "            links_list.append(one_link)\n",
    "                \n",
    "        if current_page == last_page:\n",
    "            pages_done = True\n",
    "        \n",
    "        next_button = driver.find_element_by_xpath(\"(//a[starts-with(@class, 'f-next')])[2]\")\n",
    "        next_button.click()\n",
    "        time.sleep(1)\n",
    "\n",
    "    return links_list"
   ]
  },
  {
   "cell_type": "code",
   "execution_count": null,
   "id": "68f54176",
   "metadata": {},
   "outputs": [],
   "source": [
    "listing-detail listing-phone"
   ]
  },
  {
   "cell_type": "code",
   "execution_count": 12,
   "id": "f1554292",
   "metadata": {},
   "outputs": [],
   "source": [
    "businesses = get_links()"
   ]
  },
  {
   "cell_type": "code",
   "execution_count": null,
   "id": "d8509a2e",
   "metadata": {},
   "outputs": [],
   "source": []
  },
  {
   "cell_type": "code",
   "execution_count": 13,
   "id": "9ead0a24",
   "metadata": {},
   "outputs": [
    {
     "data": {
      "text/plain": [
       "['https://seafoodfromcanada.ca/listing/3-ts-ltd/',\n",
       " 'https://seafoodfromcanada.ca/listing/a-b-seafood-specialists/',\n",
       " 'https://seafoodfromcanada.ca/listing/a-l-leblanc-limited/',\n",
       " 'https://seafoodfromcanada.ca/listing/al-seafoods-ltd/',\n",
       " 'https://seafoodfromcanada.ca/listing/abriel-fisheries-company/',\n",
       " 'https://seafoodfromcanada.ca/listing/ac-covert-limited/',\n",
       " 'https://seafoodfromcanada.ca/listing/ac-live-lobster-inc/',\n",
       " 'https://seafoodfromcanada.ca/listing/acadian-fish-farm-ltd-pisciculture-acadienne-ltee/',\n",
       " 'https://seafoodfromcanada.ca/listing/acadian-seaplants-limited/',\n",
       " 'https://seafoodfromcanada.ca/listing/acadian-sturgeon-and-caviar-inc/',\n",
       " 'https://seafoodfromcanada.ca/listing/acadian-fishermens-co-op-association-ltd/',\n",
       " 'https://seafoodfromcanada.ca/listing/acr-world-wide-ltd/',\n",
       " 'https://seafoodfromcanada.ca/listing/adrice-cormier-ltd/',\n",
       " 'https://seafoodfromcanada.ca/listing/age-lobster-inc/',\n",
       " 'https://seafoodfromcanada.ca/listing/alder-point-marine-services-ltd/',\n",
       " 'https://seafoodfromcanada.ca/listing/alecster-fisheries-ltd/',\n",
       " 'https://seafoodfromcanada.ca/listing/allens-fisheries-ltd/',\n",
       " 'https://seafoodfromcanada.ca/listing/alliance-seafood-inc/',\n",
       " 'https://seafoodfromcanada.ca/listing/alma-lobster-shop/',\n",
       " 'https://seafoodfromcanada.ca/listing/alvin-rufin-boudreau-sons-ltd/',\n",
       " 'https://seafoodfromcanada.ca/listing/amos-andy-fisheries-limited/',\n",
       " 'https://seafoodfromcanada.ca/listing/annand-clams-inc/',\n",
       " 'https://seafoodfromcanada.ca/listing/aqua-crab-producers-ltd/',\n",
       " 'https://seafoodfromcanada.ca/listing/aquadelights-seafoods-ltd/',\n",
       " 'https://seafoodfromcanada.ca/listing/aquaprime-mussel-ranch-ltd/',\n",
       " 'https://seafoodfromcanada.ca/listing/aquashell-holdings-company/',\n",
       " 'https://seafoodfromcanada.ca/listing/argent-fisheries-2007-ltd/',\n",
       " 'https://seafoodfromcanada.ca/listing/arisaig-fisheries-2012-company/',\n",
       " 'https://seafoodfromcanada.ca/listing/arsenaults-fish-mart/',\n",
       " 'https://seafoodfromcanada.ca/listing/atlanding-inc/',\n",
       " 'https://seafoodfromcanada.ca/listing/atlantic-aqua-farms-ltd/',\n",
       " 'https://seafoodfromcanada.ca/listing/atlantic-chican-seafood/',\n",
       " 'https://seafoodfromcanada.ca/listing/atlantic-mariculture-ltd/',\n",
       " 'https://seafoodfromcanada.ca/listing/atlantic-resources-partnership-inc/',\n",
       " 'https://seafoodfromcanada.ca/listing/atlantic-sea-cucumbers-ltd/',\n",
       " 'https://seafoodfromcanada.ca/listing/atlantic-shellfish-products-inc/',\n",
       " 'https://seafoodfromcanada.ca/listing/avalon-ocean-products-inc/',\n",
       " 'https://seafoodfromcanada.ca/listing/b-a-richard-ltd/',\n",
       " 'https://seafoodfromcanada.ca/listing/b-m-c-seafoods-limited/',\n",
       " 'https://seafoodfromcanada.ca/listing/badger-bay-mussel-farms-ltd/',\n",
       " 'https://seafoodfromcanada.ca/listing/baie-ste-anne-seafoods-2014-inc/',\n",
       " 'https://seafoodfromcanada.ca/listing/ballast-grounds-fisheries-ltd/',\n",
       " 'https://seafoodfromcanada.ca/listing/barry-group-inc/',\n",
       " 'https://seafoodfromcanada.ca/listing/basin-view-seafood/',\n",
       " 'https://seafoodfromcanada.ca/listing/bay-enterprises-limited/',\n",
       " 'https://seafoodfromcanada.ca/listing/bay-roberts-seafoods-ltd/',\n",
       " 'https://seafoodfromcanada.ca/listing/bayshore-lobster-ltd/',\n",
       " 'https://seafoodfromcanada.ca/listing/beach-point-processing-company/',\n",
       " 'https://seafoodfromcanada.ca/listing/bear-point-lobster-company/',\n",
       " 'https://seafoodfromcanada.ca/listing/belle-river-enterprises-ltd/',\n",
       " 'https://seafoodfromcanada.ca/listing/benson-lobster-co-ltd/',\n",
       " 'https://seafoodfromcanada.ca/listing/beothic-fish-processors-ltd/',\n",
       " 'https://seafoodfromcanada.ca/listing/big-lobster-seafood-inc/',\n",
       " 'https://seafoodfromcanada.ca/listing/bill-stanley-oyster-company-ltd/',\n",
       " 'https://seafoodfromcanada.ca/listing/binnacle-seafood-international-inc/',\n",
       " 'https://seafoodfromcanada.ca/listing/biscay-seafoods-canada-ltd/',\n",
       " 'https://seafoodfromcanada.ca/listing/bj-trading-marketing/',\n",
       " 'https://seafoodfromcanada.ca/listing/bolero-shellfish-processing-inc/',\n",
       " 'https://seafoodfromcanada.ca/listing/boss-gibson-oyster-company/',\n",
       " 'https://seafoodfromcanada.ca/listing/botsford-fisheries-ltd/',\n",
       " 'https://seafoodfromcanada.ca/listing/boudreau-farm-sea-products-ltd/',\n",
       " 'https://seafoodfromcanada.ca/listing/brackley-bay-oyster-company-inc/',\n",
       " 'https://seafoodfromcanada.ca/listing/brent-melissa-fisheries-limited/',\n",
       " 'https://seafoodfromcanada.ca/listing/brogans-fisheries-ltd/',\n",
       " 'https://seafoodfromcanada.ca/listing/bumble-bee-seafoods-international/',\n",
       " 'https://seafoodfromcanada.ca/listing/burleigh-brothers-seafood-ltd/',\n",
       " 'https://seafoodfromcanada.ca/listing/by-the-bay-fish-mart/',\n",
       " 'https://seafoodfromcanada.ca/listing/by-the-water-shellfish-inc/',\n",
       " 'https://seafoodfromcanada.ca/listing/c-r-lobsters-inc/',\n",
       " 'https://seafoodfromcanada.ca/listing/c-v-goreham-sons-seiners-ltd/',\n",
       " 'https://seafoodfromcanada.ca/listing/canadian-packers-associates-ltd-canapak-seafoods/',\n",
       " 'https://seafoodfromcanada.ca/listing/canadian-seafoodlink-inc/',\n",
       " 'https://seafoodfromcanada.ca/listing/canesp-global-distributions-s-l-inc/',\n",
       " 'https://seafoodfromcanada.ca/listing/canso-seafoods-ltd/',\n",
       " 'https://seafoodfromcanada.ca/listing/cap-pele-herring-export-inc/',\n",
       " 'https://seafoodfromcanada.ca/listing/cape-bald-packers-ltd/',\n",
       " 'https://seafoodfromcanada.ca/listing/cape-breeze-seafoods-limited/',\n",
       " 'https://seafoodfromcanada.ca/listing/cape-breton-bi-valve-ltd/',\n",
       " 'https://seafoodfromcanada.ca/listing/cape-dor-sustainable-seafoods-inc/',\n",
       " 'https://seafoodfromcanada.ca/listing/cape-john-crabs-seafoods-ltd/',\n",
       " 'https://seafoodfromcanada.ca/listing/cape-sable-lobster-company/',\n",
       " 'https://seafoodfromcanada.ca/listing/capital-seafoods-international-inc/',\n",
       " 'https://seafoodfromcanada.ca/listing/captain-cookes-seafood-inc/',\n",
       " 'https://seafoodfromcanada.ca/listing/captain-dans-inc/',\n",
       " 'https://seafoodfromcanada.ca/listing/carino-processing-ltd/',\n",
       " 'https://seafoodfromcanada.ca/listing/cascumpec-bay-oyster-company-ltd/',\n",
       " 'https://seafoodfromcanada.ca/listing/ceafood-market/',\n",
       " 'https://seafoodfromcanada.ca/listing/cedar-bay-grilling-company/',\n",
       " 'https://seafoodfromcanada.ca/listing/ceilidh-fishermens-cooperative-ltd/',\n",
       " 'https://seafoodfromcanada.ca/listing/chad-brown-seafoods-inc/',\n",
       " 'https://seafoodfromcanada.ca/listing/chases-lobster-pound-limited/',\n",
       " 'https://seafoodfromcanada.ca/listing/chester-basin-seafoods-incorporated/',\n",
       " 'https://seafoodfromcanada.ca/listing/chicken-of-the-sea-frozen-foods-canada/',\n",
       " 'https://seafoodfromcanada.ca/listing/charles-robert-blades-ltd/',\n",
       " 'https://seafoodfromcanada.ca/listing/clearwater-seafoods-limited-partnership/',\n",
       " 'https://seafoodfromcanada.ca/listing/coastal-enterprises-ltd/',\n",
       " 'https://seafoodfromcanada.ca/listing/cocagne-seafood-1995-ltd/',\n",
       " 'https://seafoodfromcanada.ca/listing/codroy-seafoods-inc/',\n",
       " 'https://seafoodfromcanada.ca/listing/collins-lobster-fishermans-market/',\n",
       " 'https://seafoodfromcanada.ca/listing/colville-bay-oyster-co-ltd/',\n",
       " 'https://seafoodfromcanada.ca/listing/comeaus-seafoods-ltd/',\n",
       " 'https://seafoodfromcanada.ca/listing/confederation-cove-mussels-atlantic-aqua-farms-ltd/',\n",
       " 'https://seafoodfromcanada.ca/listing/cooke-aquaculture-inc/',\n",
       " 'https://seafoodfromcanada.ca/listing/cotters-ocean-products-inc/',\n",
       " 'https://seafoodfromcanada.ca/listing/craigs-lobster-limited/',\n",
       " 'https://seafoodfromcanada.ca/listing/cuisines-roi-kitchens-ltee/',\n",
       " 'https://seafoodfromcanada.ca/listing/eel-lake-oyster-farm-ltd/',\n",
       " 'https://seafoodfromcanada.ca/listing/dawn-till-dusk-seafoods-limited/',\n",
       " 'https://seafoodfromcanada.ca/listing/db-kenney-fisheries-2014-ltd/',\n",
       " 'https://seafoodfromcanada.ca/listing/deep-cove-farms-limited/',\n",
       " 'https://seafoodfromcanada.ca/listing/delaps-cove-fish-products-ltd/',\n",
       " 'https://seafoodfromcanada.ca/listing/do-lobster/',\n",
       " 'https://seafoodfromcanada.ca/listing/doiron-fisheries-ltd/',\n",
       " 'https://seafoodfromcanada.ca/listing/doucet-fisheries-ltd/',\n",
       " 'https://seafoodfromcanada.ca/listing/duguay-fish-packers-ltd/',\n",
       " 'https://seafoodfromcanada.ca/listing/east-cape-oyster-company/',\n",
       " 'https://seafoodfromcanada.ca/listing/east-coast-exports-ltd-ec-exports-ltd/',\n",
       " 'https://seafoodfromcanada.ca/listing/eastern-fish-markets-ltd/',\n",
       " 'https://seafoodfromcanada.ca/listing/eastern-sea-products-ltd/',\n",
       " 'https://seafoodfromcanada.ca/listing/edmond-gagnon-ltd/',\n",
       " 'https://seafoodfromcanada.ca/listing/elphege-norbert-leblanc-ltd/',\n",
       " 'https://seafoodfromcanada.ca/listing/emery-smith-fisheries-ltd/',\n",
       " 'https://seafoodfromcanada.ca/listing/evans-fresh-seafoods-limited/',\n",
       " 'https://seafoodfromcanada.ca/listing/fathom-fish-seafood/',\n",
       " 'https://seafoodfromcanada.ca/listing/ferme-ostreicole-g-dugas-ltee/',\n",
       " 'https://seafoodfromcanada.ca/listing/first-catch-fisheries-co-ltd/',\n",
       " 'https://seafoodfromcanada.ca/listing/fisher-direct-ltd/',\n",
       " 'https://seafoodfromcanada.ca/listing/fisher-king-seafoods-limited/',\n",
       " 'https://seafoodfromcanada.ca/listing/fishermans-market-international-incorporated/',\n",
       " 'https://seafoodfromcanada.ca/listing/fishermens-premium-atlantic-lobster-inc/',\n",
       " 'https://seafoodfromcanada.ca/listing/five-star-shellfish-inc/',\n",
       " 'https://seafoodfromcanada.ca/listing/fogo-island-co-operative-society-ltd/',\n",
       " 'https://seafoodfromcanada.ca/listing/fraser-aqua-trap-co-ltd/',\n",
       " 'https://seafoodfromcanada.ca/listing/fresh-atlantic-seafood-ltd/',\n",
       " 'https://seafoodfromcanada.ca/listing/fundy-bay-seafood-ltd/',\n",
       " 'https://seafoodfromcanada.ca/listing/future-seafoods-inc/',\n",
       " 'https://seafoodfromcanada.ca/listing/g-r-cormier-fisheries-and-trucking-ltd/',\n",
       " 'https://seafoodfromcanada.ca/listing/gallants-shellfish-seafood/',\n",
       " 'https://seafoodfromcanada.ca/listing/gaudet-ouellette-ltd/',\n",
       " 'https://seafoodfromcanada.ca/listing/georges-bank-seafoods-limited/',\n",
       " 'https://seafoodfromcanada.ca/listing/gidney-fisheries-limited/',\n",
       " 'https://seafoodfromcanada.ca/listing/golden-alliance-canada-inc/',\n",
       " 'https://seafoodfromcanada.ca/listing/golden-shell-fisheries-ltd/',\n",
       " 'https://seafoodfromcanada.ca/listing/goulds-fisheries-ltd/',\n",
       " 'https://seafoodfromcanada.ca/listing/gourmet-chef-packers-ltd/',\n",
       " 'https://seafoodfromcanada.ca/listing/great-little-harbour-seafood-ltd/',\n",
       " 'https://seafoodfromcanada.ca/listing/green-seafoods-ltd/',\n",
       " 'https://seafoodfromcanada.ca/listing/h-hopkins-ltd/',\n",
       " 'https://seafoodfromcanada.ca/listing/halimar-investments-limited/',\n",
       " 'https://seafoodfromcanada.ca/listing/happy-adventure-sea-products-1991-ltd/',\n",
       " 'https://seafoodfromcanada.ca/listing/harbour-grace-shrimp-co-ltd/',\n",
       " 'https://seafoodfromcanada.ca/listing/harbour-seafoods-ltd/',\n",
       " 'https://seafoodfromcanada.ca/listing/hervic-enterprises-ltd/',\n",
       " 'https://seafoodfromcanada.ca/listing/hodders-shellfish-inc/',\n",
       " 'https://seafoodfromcanada.ca/listing/hopkins-devine-fisheries-ltd/',\n",
       " 'https://seafoodfromcanada.ca/listing/howards-cove-shellfish-ltd/',\n",
       " 'https://seafoodfromcanada.ca/listing/i-deveau-fisheries-limited/',\n",
       " 'https://seafoodfromcanada.ca/listing/icewater-seafoods-inc/',\n",
       " 'https://seafoodfromcanada.ca/listing/ichiboshi-l-p-c-ltd/',\n",
       " 'https://seafoodfromcanada.ca/listing/imo-foods-limited/',\n",
       " 'https://seafoodfromcanada.ca/listing/independent-fish-harvesters-inc/',\n",
       " 'https://seafoodfromcanada.ca/listing/independent-fisheries-limited/',\n",
       " 'https://seafoodfromcanada.ca/listing/international-seafood-and-bait-ltd/',\n",
       " 'https://seafoodfromcanada.ca/listing/island-fishermen-cooperative-association-ltd/',\n",
       " 'https://seafoodfromcanada.ca/listing/island-shellfish-ltd/',\n",
       " 'https://seafoodfromcanada.ca/listing/ito-seafoods-ltd/',\n",
       " 'https://seafoodfromcanada.ca/listing/j-k-marine-services-limited/',\n",
       " 'https://seafoodfromcanada.ca/listing/j-k-marine-services-ltd/',\n",
       " 'https://seafoodfromcanada.ca/listing/james-l-mood-fisheres-limited/',\n",
       " 'https://seafoodfromcanada.ca/listing/jk-crawlers-inc/',\n",
       " 'https://seafoodfromcanada.ca/listing/jmk-fish-mart/',\n",
       " 'https://seafoodfromcanada.ca/listing/k-swaine-lobsters-limited/',\n",
       " 'https://seafoodfromcanada.ca/listing/kale-bay-seafoods-ltd/',\n",
       " 'https://seafoodfromcanada.ca/listing/kenney-ross-limited/',\n",
       " 'https://seafoodfromcanada.ca/listing/kildare-princess-seafood-products-inc/',\n",
       " 'https://seafoodfromcanada.ca/listing/kmi-seafoods/',\n",
       " 'https://seafoodfromcanada.ca/listing/letang-ruisseau-bar-ltee/',\n",
       " 'https://seafoodfromcanada.ca/listing/la-dulse-vie-signature-creations-inc/',\n",
       " 'https://seafoodfromcanada.ca/listing/la-ferme-ostreicole-chiasson-ltee/',\n",
       " 'https://seafoodfromcanada.ca/listing/la-maison-beausoleil-2010-inc/',\n",
       " 'https://seafoodfromcanada.ca/listing/labrador-fishermens-union-shrimp-co-ltd/',\n",
       " 'https://seafoodfromcanada.ca/listing/labrador-gem-seafood-inc/',\n",
       " 'https://seafoodfromcanada.ca/listing/lahave-seafoods-limited/',\n",
       " 'https://seafoodfromcanada.ca/listing/leger-fisheries-ltd/',\n",
       " 'https://seafoodfromcanada.ca/listing/leo-g-atkinson-fisheries-ltd/',\n",
       " 'https://seafoodfromcanada.ca/listing/les-produits-basque-products/',\n",
       " 'https://seafoodfromcanada.ca/listing/leslie-hardy-sons-ltd/',\n",
       " 'https://seafoodfromcanada.ca/listing/leslie-leger-sons-ltd/',\n",
       " 'https://seafoodfromcanada.ca/listing/lighthouse-lobster-inc/',\n",
       " 'https://seafoodfromcanada.ca/listing/little-shemogue-oyster-company/',\n",
       " 'https://seafoodfromcanada.ca/listing/lj-robicheau-son-fisheries-limited/',\n",
       " 'https://seafoodfromcanada.ca/listing/lobster-hub-inc/',\n",
       " 'https://seafoodfromcanada.ca/listing/lobsters-r-us-seafood/',\n",
       " 'https://seafoodfromcanada.ca/listing/long-point-lobster-seafood-limited/',\n",
       " 'https://seafoodfromcanada.ca/listing/longshore-fisheries-ltd/',\n",
       " 'https://seafoodfromcanada.ca/listing/louisbourg-seafoods-limited/',\n",
       " 'https://seafoodfromcanada.ca/listing/m-m-cormier-fisheries-ltd/',\n",
       " 'https://seafoodfromcanada.ca/listing/m-m-seafoods-limited/',\n",
       " 'https://seafoodfromcanada.ca/listing/m-leblanc-fisheries-ltd/',\n",
       " 'https://seafoodfromcanada.ca/listing/mackinnons-lobster-pound/',\n",
       " 'https://seafoodfromcanada.ca/listing/maritime-marketing-services/',\n",
       " 'https://seafoodfromcanada.ca/listing/mary-manette-seafood/',\n",
       " 'https://seafoodfromcanada.ca/listing/mcgraw-seafood-2008-inc/',\n",
       " 'https://seafoodfromcanada.ca/listing/merex-incorporated/',\n",
       " 'https://seafoodfromcanada.ca/listing/mersey-seafoods-limited/',\n",
       " 'https://seafoodfromcanada.ca/listing/michel-charles-leblanc-fisheries-ltd/',\n",
       " 'https://seafoodfromcanada.ca/listing/mikes-queen-street-meat-market/',\n",
       " 'https://seafoodfromcanada.ca/listing/mill-creek-seafood/',\n",
       " 'https://seafoodfromcanada.ca/listing/minigoo-fisheries-inc/',\n",
       " 'https://seafoodfromcanada.ca/listing/miscou-fish-products-inc/',\n",
       " 'https://seafoodfromcanada.ca/listing/misty-harbour-seafood/',\n",
       " 'https://seafoodfromcanada.ca/listing/moncton-fish-market-ltd-mfm-international-seafood-products/',\n",
       " 'https://seafoodfromcanada.ca/listing/mowi-canada-east/',\n",
       " 'https://seafoodfromcanada.ca/listing/mr-seafoods/',\n",
       " 'https://seafoodfromcanada.ca/listing/native-harvest-atlantic-seafood/',\n",
       " 'https://seafoodfromcanada.ca/listing/nautical-seafoods-ltd/',\n",
       " 'https://seafoodfromcanada.ca/listing/newfound-resources-ltd/',\n",
       " 'https://seafoodfromcanada.ca/listing/norlantic-processors-ltd/',\n",
       " 'https://seafoodfromcanada.ca/listing/north-49-holdings-ltd/',\n",
       " 'https://seafoodfromcanada.ca/listing/north-bay-fisheries-co-op-assoc-ltd/',\n",
       " 'https://seafoodfromcanada.ca/listing/north-lake-fisheries-2013-inc/',\n",
       " 'https://seafoodfromcanada.ca/listing/north-nova-seafoods-limited/',\n",
       " 'https://seafoodfromcanada.ca/listing/north-taste-flavourings-inc/',\n",
       " 'https://seafoodfromcanada.ca/listing/northern-lights-seafood-inc/',\n",
       " 'https://seafoodfromcanada.ca/listing/northsyde-processing-ltd/',\n",
       " 'https://seafoodfromcanada.ca/listing/notre-dame-seafoods-inc/',\n",
       " 'https://seafoodfromcanada.ca/listing/novas-finest-fisheries-inc/',\n",
       " 'https://seafoodfromcanada.ca/listing/novacan-live-seafood-limited/',\n",
       " 'https://seafoodfromcanada.ca/listing/ocean-blue-fisheries-ltd/',\n",
       " 'https://seafoodfromcanada.ca/listing/ocean-choice-international-l-p/',\n",
       " 'https://seafoodfromcanada.ca/listing/ocean-fresh-mussel-growers-ltd/',\n",
       " 'https://seafoodfromcanada.ca/listing/ocean-fresh-seafood/',\n",
       " 'https://seafoodfromcanada.ca/listing/ocean-pier-inc/',\n",
       " 'https://seafoodfromcanada.ca/listing/ocean-pride-fisheries-limited/',\n",
       " 'https://seafoodfromcanada.ca/listing/ocean-trout-farms-inc/',\n",
       " 'https://seafoodfromcanada.ca/listing/oceanview-fisheries-ltd/',\n",
       " 'https://seafoodfromcanada.ca/listing/one-tuna-inc/',\n",
       " 'https://seafoodfromcanada.ca/listing/oven-head-salmon-smokers-ltd/',\n",
       " 'https://seafoodfromcanada.ca/listing/oyster-kings/',\n",
       " 'https://seafoodfromcanada.ca/listing/pador-seafoods-ltd/',\n",
       " 'https://seafoodfromcanada.ca/listing/partner-seafood-inc/',\n",
       " 'https://seafoodfromcanada.ca/listing/pearlmark-foods-inc/',\n",
       " 'https://seafoodfromcanada.ca/listing/pecheries-baie-chaleurs-fisheries-2012-inc/',\n",
       " 'https://seafoodfromcanada.ca/listing/pecheries-bas-caraquet-fisheries-inc/',\n",
       " 'https://seafoodfromcanada.ca/listing/pecheries-belle-ile-fisheries-ltee-ltd/',\n",
       " 'https://seafoodfromcanada.ca/listing/pecheries-cheticamp-fisheries-intl-inc/',\n",
       " 'https://seafoodfromcanada.ca/listing/pecheries-st-paul-1989-ltee/',\n",
       " 'https://seafoodfromcanada.ca/listing/pecheries-ste-cecile-inc/',\n",
       " 'https://seafoodfromcanada.ca/listing/pei-mussel-king-inc/',\n",
       " 'https://seafoodfromcanada.ca/listing/petit-cap-fisheries-ltd/',\n",
       " 'https://seafoodfromcanada.ca/listing/philip-ouellette-sons-ltd/',\n",
       " 'https://seafoodfromcanada.ca/listing/phocalux-international-inc/',\n",
       " 'https://seafoodfromcanada.ca/listing/pittmans-lobsters-inc/',\n",
       " 'https://seafoodfromcanada.ca/listing/point-queen-fisheries-ltd/',\n",
       " 'https://seafoodfromcanada.ca/listing/point-star-seafoods-ltd/',\n",
       " 'https://seafoodfromcanada.ca/listing/poissonnerie-arseneau-fish-market-ltd/',\n",
       " 'https://seafoodfromcanada.ca/listing/premium-seafoods-ltd/',\n",
       " 'https://seafoodfromcanada.ca/listing/prince-edward-aqua-farms-inc/',\n",
       " 'https://seafoodfromcanada.ca/listing/pristine-bay-premium-oysters/',\n",
       " 'https://seafoodfromcanada.ca/listing/produits-belle-baie-ltee/',\n",
       " 'https://seafoodfromcanada.ca/listing/quality-seafoods-limited/',\n",
       " 'https://seafoodfromcanada.ca/listing/quin-sea-fisheries-limited/',\n",
       " 'https://seafoodfromcanada.ca/listing/quinlan-brothers-ltd/',\n",
       " 'https://seafoodfromcanada.ca/listing/quoddy-savour-seafood-ltd/',\n",
       " 'https://seafoodfromcanada.ca/listing/r-k-murphy-enterprises-limited/',\n",
       " 'https://seafoodfromcanada.ca/listing/r-b-fruits-de-mer-inc/',\n",
       " 'https://seafoodfromcanada.ca/listing/r-j-king-fisheries-limited/',\n",
       " 'https://seafoodfromcanada.ca/listing/r-baker-fisheries-ltd/',\n",
       " 'https://seafoodfromcanada.ca/listing/raspberry-point-oyster-co/',\n",
       " 'https://seafoodfromcanada.ca/listing/raymond-oneill-son-fisheries-ltd/',\n",
       " 'https://seafoodfromcanada.ca/listing/rbn-fisheries-limited/',\n",
       " 'https://seafoodfromcanada.ca/listing/red-beard-shellfish-co/',\n",
       " 'https://seafoodfromcanada.ca/listing/reidpath-international/',\n",
       " 'https://seafoodfromcanada.ca/listing/ri-smith-lobster-company-limited/',\n",
       " 'https://seafoodfromcanada.ca/listing/right-source-group-ltd/',\n",
       " 'https://seafoodfromcanada.ca/listing/rio-import-export-ltd/',\n",
       " 'https://seafoodfromcanada.ca/listing/riverside-lobster-international-inc/',\n",
       " 'https://seafoodfromcanada.ca/listing/rockville-carriers-limited/',\n",
       " 'https://seafoodfromcanada.ca/listing/rocky-coast-seafoods-ltd/',\n",
       " 'https://seafoodfromcanada.ca/listing/roderick-murphy-sons-ltd/',\n",
       " 'https://seafoodfromcanada.ca/listing/rodneys-oyster-depot-lp/',\n",
       " 'https://seafoodfromcanada.ca/listing/rolands-sea-vegetables/',\n",
       " 'https://seafoodfromcanada.ca/listing/royal-star-foods/',\n",
       " 'https://seafoodfromcanada.ca/listing/ryer-ryer-lobsters-ltd/',\n",
       " 'https://seafoodfromcanada.ca/listing/sable-fish-packers-1988-limited/',\n",
       " 'https://seafoodfromcanada.ca/listing/saltwater-fisheries-limited/',\n",
       " 'https://seafoodfromcanada.ca/listing/san-can-fisheries-ltd/',\n",
       " 'https://seafoodfromcanada.ca/listing/sandy-point-lobster-ltd/',\n",
       " 'https://seafoodfromcanada.ca/listing/schooner-seafoods-limited/',\n",
       " 'https://seafoodfromcanada.ca/listing/scotia-garden-seafood/',\n",
       " 'https://seafoodfromcanada.ca/listing/scotia-harvest-inc/',\n",
       " 'https://seafoodfromcanada.ca/listing/sea-harvest-seafood-ltd/',\n",
       " 'https://seafoodfromcanada.ca/listing/sea-star-seafoods-ltd/',\n",
       " 'https://seafoodfromcanada.ca/listing/sea-tide-import-export-ltd/',\n",
       " 'https://seafoodfromcanada.ca/listing/seafood-2000-ltd/',\n",
       " 'https://seafoodfromcanada.ca/listing/sealight-fisheries-ltd/',\n",
       " 'https://seafoodfromcanada.ca/listing/seldon-miller-fisheries-ltd/',\n",
       " 'https://seafoodfromcanada.ca/listing/shediac-lobster-shop-ltd/',\n",
       " 'https://seafoodfromcanada.ca/listing/ships-lobster-pound-2005-ltd/',\n",
       " 'https://seafoodfromcanada.ca/listing/sino-canadian-seafood-ltd/',\n",
       " 'https://seafoodfromcanada.ca/listing/south-shore-lobster-1992-ltd/',\n",
       " 'https://seafoodfromcanada.ca/listing/south-shore-seafoods-ltd/',\n",
       " 'https://seafoodfromcanada.ca/listing/south-shore-trading-co-ltd/',\n",
       " 'https://seafoodfromcanada.ca/listing/special-k-fisheries-ltd/',\n",
       " 'https://seafoodfromcanada.ca/listing/st-anthony-seafoods-limited-partnership/',\n",
       " 'https://seafoodfromcanada.ca/listing/st-laurent-gulf-products-ltd-produits-du-golfe-st-laurent-ltee/',\n",
       " 'https://seafoodfromcanada.ca/listing/stoney-island-fisheries-ltd/',\n",
       " 'https://seafoodfromcanada.ca/listing/strictly-lobster-limited/',\n",
       " 'https://seafoodfromcanada.ca/listing/summerside-seafood-supreme-inc/',\n",
       " 'https://seafoodfromcanada.ca/listing/suncoast-seafood-inc/',\n",
       " 'https://seafoodfromcanada.ca/listing/surf-seafoods-2016-ltd/',\n",
       " 'https://seafoodfromcanada.ca/listing/sweet-oyster-company/',\n",
       " 'https://seafoodfromcanada.ca/listing/swimms-lobster-inn-limited/',\n",
       " 'https://seafoodfromcanada.ca/listing/t-r-marketing/',\n",
       " 'https://seafoodfromcanada.ca/listing/tangier-lobster-company-limited/',\n",
       " 'https://seafoodfromcanada.ca/listing/terra-vista-ltd/',\n",
       " 'https://seafoodfromcanada.ca/listing/tfc-seafood-brokerage/',\n",
       " 'https://seafoodfromcanada.ca/listing/the-fish-basket-2013-ltd/',\n",
       " 'https://seafoodfromcanada.ca/listing/tidal-organics-incorporated/',\n",
       " 'https://seafoodfromcanada.ca/listing/tnt-tuna/',\n",
       " 'https://seafoodfromcanada.ca/listing/torngat-fish-producers-co-operative-society-limited/',\n",
       " 'https://seafoodfromcanada.ca/listing/transformation-seafoods-inc/',\n",
       " 'https://seafoodfromcanada.ca/listing/tribune-seafood-inc/',\n",
       " 'https://seafoodfromcanada.ca/listing/triton-ocean-products-ltd/',\n",
       " 'https://seafoodfromcanada.ca/listing/true-north-seafood/',\n",
       " 'https://seafoodfromcanada.ca/listing/true-north-seafood-company/',\n",
       " 'https://seafoodfromcanada.ca/listing/true-world-foods-inc-of-canada/',\n",
       " 'https://seafoodfromcanada.ca/listing/tv-fish-inc/',\n",
       " 'https://seafoodfromcanada.ca/listing/twin-seafood-limited/',\n",
       " 'https://seafoodfromcanada.ca/listing/valley-pearl-oyster/',\n",
       " 'https://seafoodfromcanada.ca/listing/victoria-co-operative-fisheries-limited/',\n",
       " 'https://seafoodfromcanada.ca/listing/vip-seafood/',\n",
       " 'https://seafoodfromcanada.ca/listing/w-sears-seafoods-ltd/',\n",
       " 'https://seafoodfromcanada.ca/listing/w-e-acres-crabmeal-ltd/',\n",
       " 'https://seafoodfromcanada.ca/listing/wr-fisheries/',\n",
       " 'https://seafoodfromcanada.ca/listing/water-prince-corner-shop/',\n",
       " 'https://seafoodfromcanada.ca/listing/wedgeport-lobsters-limited/',\n",
       " 'https://seafoodfromcanada.ca/listing/west-fish-canada-ltd/',\n",
       " 'https://seafoodfromcanada.ca/listing/west-head-lobster-limited/',\n",
       " 'https://seafoodfromcanada.ca/listing/west-india-trading-co-inc/',\n",
       " 'https://seafoodfromcanada.ca/listing/westmorland-fisheries-ltd/',\n",
       " 'https://seafoodfromcanada.ca/listing/whitecap-international-seafood-exporters/',\n",
       " 'https://seafoodfromcanada.ca/listing/whitetail-fisheries-inc/',\n",
       " 'https://seafoodfromcanada.ca/listing/wm-r-murphy-fisheries-ltd/',\n",
       " 'https://seafoodfromcanada.ca/listing/wolfhead-smokers-ltd/',\n",
       " 'https://seafoodfromcanada.ca/listing/wood-islands-seafood/',\n",
       " 'https://seafoodfromcanada.ca/listing/wood-pick-enterprises-ltd/',\n",
       " 'https://seafoodfromcanada.ca/listing/woods-harbour-lobster-co-ltd/',\n",
       " 'https://seafoodfromcanada.ca/listing/world-link-food-distributors-inc/',\n",
       " 'https://seafoodfromcanada.ca/listing/xsealent-seafood-company/',\n",
       " 'https://seafoodfromcanada.ca/listing/yarmouth-bar-fisheries-limited/',\n",
       " 'https://seafoodfromcanada.ca/listing/yarmouth-sea-products-limited/',\n",
       " 'https://seafoodfromcanada.ca/listing/youngs-lobster-company-ltd/',\n",
       " 'https://seafoodfromcanada.ca/listing/yru-cooking-ltd/',\n",
       " 'https://seafoodfromcanada.ca/listing/zeus-seafoods-inc/']"
      ]
     },
     "execution_count": 13,
     "metadata": {},
     "output_type": "execute_result"
    }
   ],
   "source": [
    "businesses"
   ]
  },
  {
   "cell_type": "code",
   "execution_count": null,
   "id": "9a7a15d2",
   "metadata": {},
   "outputs": [],
   "source": []
  },
  {
   "cell_type": "code",
   "execution_count": 14,
   "id": "1bb388c9",
   "metadata": {},
   "outputs": [
    {
     "data": {
      "text/plain": [
       "355"
      ]
     },
     "execution_count": 14,
     "metadata": {},
     "output_type": "execute_result"
    }
   ],
   "source": [
    "len(businesses)"
   ]
  },
  {
   "cell_type": "code",
   "execution_count": null,
   "id": "5de157af",
   "metadata": {},
   "outputs": [],
   "source": []
  },
  {
   "cell_type": "code",
   "execution_count": 24,
   "id": "c3b1e662",
   "metadata": {},
   "outputs": [],
   "source": []
  },
  {
   "cell_type": "code",
   "execution_count": 25,
   "id": "36de82db",
   "metadata": {},
   "outputs": [
    {
     "data": {
      "text/plain": [
       "'A B Seafood Specialists'"
      ]
     },
     "execution_count": 25,
     "metadata": {},
     "output_type": "execute_result"
    }
   ],
   "source": [
    "business_name = driver.find_element_by_xpath('//h1').text\n",
    "\n",
    "business_name"
   ]
  },
  {
   "cell_type": "code",
   "execution_count": 26,
   "id": "e748c8b7",
   "metadata": {},
   "outputs": [
    {
     "data": {
      "text/plain": [
       "'Brice Hornbrook/Bruce Hornbrook'"
      ]
     },
     "execution_count": 26,
     "metadata": {},
     "output_type": "execute_result"
    }
   ],
   "source": [
    "contact_person = driver.find_element_by_xpath(\"//div[@class='listing-contact pt3']/div\").text\n",
    "\n",
    "contact_person"
   ]
  },
  {
   "cell_type": "code",
   "execution_count": null,
   "id": "8c096fa2",
   "metadata": {},
   "outputs": [],
   "source": []
  },
  {
   "cell_type": "code",
   "execution_count": 27,
   "id": "a52cf3ca",
   "metadata": {},
   "outputs": [],
   "source": [
    "business_item = driver.find_element_by_xpath(\"//div[starts-with(@class, 'sm-flex')]\")"
   ]
  },
  {
   "cell_type": "code",
   "execution_count": 28,
   "id": "3f379300",
   "metadata": {},
   "outputs": [
    {
     "name": "stdout",
     "output_type": "stream",
     "text": [
      "506-543-0669 (Brice) / 506-543-1668 (Bruce)\n",
      "abseafood@nb.aibn.com\n",
      "1715 Gowan Brae Drive\n",
      "Bathurst NB\n",
      "E2A 4X5\n"
     ]
    }
   ],
   "source": [
    "print(business_item.text)"
   ]
  },
  {
   "cell_type": "code",
   "execution_count": 34,
   "id": "b890fa4b",
   "metadata": {},
   "outputs": [
    {
     "data": {
      "text/plain": [
       "'abseafood@nb.aibn.com'"
      ]
     },
     "execution_count": 34,
     "metadata": {},
     "output_type": "execute_result"
    }
   ],
   "source": [
    "email_address = driver.find_element_by_xpath(\"//div[starts-with(@class, 'listing-detail listing-email')]\").text\n",
    "\n",
    "email_address"
   ]
  },
  {
   "cell_type": "code",
   "execution_count": 35,
   "id": "97361524",
   "metadata": {},
   "outputs": [
    {
     "data": {
      "text/plain": [
       "'1715 Gowan Brae Drive\\nBathurst NB\\nE2A 4X5'"
      ]
     },
     "execution_count": 35,
     "metadata": {},
     "output_type": "execute_result"
    }
   ],
   "source": [
    "physical_address = driver.find_element_by_xpath(\"//div[starts-with(@class, 'listing-data lh2')]\").text\n",
    "\n",
    "physical_address"
   ]
  },
  {
   "cell_type": "code",
   "execution_count": 37,
   "id": "3e11f1cf",
   "metadata": {},
   "outputs": [
    {
     "data": {
      "text/plain": [
       "'Asia\\nEurope\\nNorth America'"
      ]
     },
     "execution_count": 37,
     "metadata": {},
     "output_type": "execute_result"
    }
   ],
   "source": [
    "exports_to = driver.find_element_by_xpath(\"//ul[starts-with(@class, 'nolist lh2 mt2')]\").text\n",
    "\n",
    "exports_to"
   ]
  },
  {
   "cell_type": "code",
   "execution_count": null,
   "id": "20b3648c",
   "metadata": {},
   "outputs": [],
   "source": []
  },
  {
   "cell_type": "code",
   "execution_count": 38,
   "id": "6b961a44",
   "metadata": {},
   "outputs": [
    {
     "data": {
      "text/plain": [
       "'Crab\\nCrab, Rock\\nCrab, Snow (Queen)\\nHalibut, Atlantic\\nHalibut, Greenland (Turbot)\\nHerring, Atlantic\\nLobster\\nMackerel, Atlantic\\nMonkfish'"
      ]
     },
     "execution_count": 38,
     "metadata": {},
     "output_type": "execute_result"
    }
   ],
   "source": [
    "species_available = driver.find_element_by_xpath(\"//ul[starts-with(@class, 'listing-species')]\").text\n",
    "\n",
    "species_available"
   ]
  },
  {
   "cell_type": "code",
   "execution_count": null,
   "id": "34d27b0a",
   "metadata": {},
   "outputs": [],
   "source": []
  },
  {
   "cell_type": "code",
   "execution_count": 68,
   "id": "8a41de39",
   "metadata": {},
   "outputs": [],
   "source": [
    "def scrape():\n",
    "    \n",
    "    table = []\n",
    "    headers = ['Business Name', 'Contact Person',\n",
    "               'Email Address', 'Physical Address',\n",
    "               'Exports To', 'Species Available']\n",
    "    table.append(headers)\n",
    "    \n",
    "    for business in businesses[0:20]:\n",
    "        driver.get(business)\n",
    "        business_name = driver.find_element_by_xpath('//h1').text\n",
    "        contact_person = driver.find_element_by_xpath(\"//div[@class='listing-contact pt3']/div\").text\n",
    "        email_address = driver.find_element_by_xpath(\"//div[starts-with(@class, 'listing-detail listing-email')]\").text\n",
    "        physical_address = driver.find_element_by_xpath(\"//div[starts-with(@class, 'listing-data lh2')]\").text\n",
    "        exports_to = driver.find_element_by_xpath(\"//ul[starts-with(@class, 'nolist lh2 mt2')]\").text\n",
    "        species_available = driver.find_element_by_xpath(\"//ul[starts-with(@class, 'listing-species')]\").text\n",
    "        \n",
    "        record = [business_name, contact_person,\n",
    "                 email_address, physical_address,\n",
    "                 exports_to, species_available]\n",
    "        table.append(record)\n",
    "    \n",
    "    return table"
   ]
  },
  {
   "cell_type": "code",
   "execution_count": null,
   "id": "27665214",
   "metadata": {},
   "outputs": [],
   "source": []
  },
  {
   "cell_type": "code",
   "execution_count": 69,
   "id": "206bf3fe",
   "metadata": {},
   "outputs": [],
   "source": [
    "data = scrape()"
   ]
  },
  {
   "cell_type": "code",
   "execution_count": null,
   "id": "e853ea82",
   "metadata": {},
   "outputs": [],
   "source": []
  },
  {
   "cell_type": "code",
   "execution_count": 71,
   "id": "3644648e",
   "metadata": {},
   "outputs": [
    {
     "data": {
      "text/plain": [
       "21"
      ]
     },
     "execution_count": 71,
     "metadata": {},
     "output_type": "execute_result"
    }
   ],
   "source": [
    "len(data)"
   ]
  },
  {
   "cell_type": "code",
   "execution_count": 72,
   "id": "cfe4f14c",
   "metadata": {},
   "outputs": [
    {
     "data": {
      "text/plain": [
       "[['Business Name',\n",
       "  'Contact Person',\n",
       "  'Email Address',\n",
       "  'Physical Address',\n",
       "  'Exports To',\n",
       "  'Species Available'],\n",
       " [\"3 T's Ltd.\",\n",
       "  'Todd Young',\n",
       "  'todd3ts@hotmail.com',\n",
       "  'P. O. Box 71\\nWoody Point NL\\nA0K 1P0',\n",
       "  'Asia\\nEurope\\nNorth America',\n",
       "  'Capelin\\nCod, Atlantic\\nCrab\\nCrab, Snow (Queen)\\nHalibut, Atlantic\\nHalibut, Greenland (Turbot)\\nHerring, Atlantic\\nLobster\\nMackerel, Atlantic'],\n",
       " ['A B Seafood Specialists',\n",
       "  'Brice Hornbrook/Bruce Hornbrook',\n",
       "  'abseafood@nb.aibn.com',\n",
       "  '1715 Gowan Brae Drive\\nBathurst NB\\nE2A 4X5',\n",
       "  'Asia\\nEurope\\nNorth America',\n",
       "  'Crab\\nCrab, Rock\\nCrab, Snow (Queen)\\nHalibut, Atlantic\\nHalibut, Greenland (Turbot)\\nHerring, Atlantic\\nLobster\\nMackerel, Atlantic\\nMonkfish'],\n",
       " ['A.L. LeBlanc Limited',\n",
       "  'Lisa Doucette',\n",
       "  'lisadoucette@eastlink.ca',\n",
       "  '2473 Hwy 334\\nWedgeport NS\\nB0W 3P0',\n",
       "  'North America',\n",
       "  'Herring, Atlantic\\nLobster'],\n",
       " ['A&L Seafoods Ltd.',\n",
       "  'Joe Anthony',\n",
       "  'joeanthony@ns.sympatico.ca',\n",
       "  '20 Minto Street\\nLouisbourg NS\\nB1C 1L1',\n",
       "  'Asia\\nNorth America',\n",
       "  'Crab\\nCrab, Snow (Queen)'],\n",
       " ['Abriel Fisheries Company',\n",
       "  'John Abriel',\n",
       "  'johnabriel@bellaliant.com',\n",
       "  '368 Coopers Rd\\nTangier NS\\nB0J 3H0',\n",
       "  'Central America\\nNorth America',\n",
       "  'Cod, Atlantic\\nCusk\\nHake\\nLobster\\nPollock'],\n",
       " ['AC Covert Limited',\n",
       "  'Dan Turner',\n",
       "  'dan.turner@cookeaqua.com',\n",
       "  '50 Thorne Ave\\nDartmouth NS\\nB3B 1Y5',\n",
       "  'Asia\\nCentral America\\nNorth America',\n",
       "  'Catfish\\nClams\\nCod, Atlantic\\nCrab\\nCrab, Dungeness\\nCusk\\nFlounder/Sole\\nHaddock\\nHalibut, Atlantic\\nMackerel, Atlantic\\nMonkfish\\nMussels, Blue\\nOysters\\nPollock\\nQuahogs, Bay\\nQuahogs, Ocean\\nRedfish (Ocean Perch)\\nSalmon, Atlantic (Farmed)\\nScallops\\nSwordfish\\nTrout\\nTuna\\nTuna, Albacore\\nTuna, Bigeye\\nTuna, Bluefin\\nTuna, Yellowfin'],\n",
       " ['AC Live Lobster Inc.',\n",
       "  'Ted \"lobster1\" Baxter',\n",
       "  'sales@aclivelobster.com',\n",
       "  '798 Hwy 330\\nNorth East Point NS\\nB0W 2P0',\n",
       "  'Asia\\nEurope\\nNorth America',\n",
       "  'Lobster'],\n",
       " ['Acadian Fish Farm Ltd. / Pisciculture Acadienne Ltée',\n",
       "  'Emmanuel Chiasson',\n",
       "  'campagne@nbnet.nb.ca',\n",
       "  '779 chemin Blanchard Road\\nSt-Simon NB\\nE8P 1V3',\n",
       "  'North America',\n",
       "  'Char, Arctic'],\n",
       " ['Acadian Seaplants Limited',\n",
       "  'Robert Sperdakes',\n",
       "  'rsperdakes@acadian.ca',\n",
       "  '30 Brown Avenue\\nDartmouth NS\\nB3B 1X8',\n",
       "  'Asia\\nEurope\\nNorth America',\n",
       "  'Marine Plants\\nSea Vegetables'],\n",
       " ['Acadian Sturgeon and Caviar Inc.',\n",
       "  'Cornel Ceapa',\n",
       "  'info@acadian-sturgeon.com',\n",
       "  '248 Douglas Avenue\\nSaint John NB\\nE2K 1E6',\n",
       "  'Asia\\nCentral America\\nEurope\\nSouth America',\n",
       "  'Caviar\\nSturgeon'],\n",
       " ['Acadian Supreme Inc.',\n",
       "  'Jeff Malloy',\n",
       "  'jeffm@acadiansupreme.com',\n",
       "  '8323 Route 11 Abrams Village\\nWellington PE\\nC0B 2E0',\n",
       "  'Asia\\nEurope\\nNorth America\\nOceania',\n",
       "  'Crab\\nCrab, Rock\\nLobster\\nScallops'],\n",
       " ['ACR World Wide Ltd.',\n",
       "  'Wei Yu Kong',\n",
       "  'wkong@acrworldwide.ca',\n",
       "  '228 Queen Street\\nSaint John NB\\nE2L 1T2',\n",
       "  'Asia',\n",
       "  'Lobster'],\n",
       " ['Adrice Cormier Ltd.',\n",
       "  'Richard and Jeremie Cormier',\n",
       "  'adricecorm@outlook.com',\n",
       "  'PO Box/CP 1091\\nCap-Pelé NB\\nE4N 3B3',\n",
       "  'Central America\\nNorth America',\n",
       "  'Alewife\\nHake\\nHerring, Atlantic\\nMackerel, Atlantic'],\n",
       " ['AGE Lobster Inc.',\n",
       "  'G. Evren Evrenoz',\n",
       "  'info@agelobster.com',\n",
       "  '1337 Centreville South Side Rd\\nClarks Harbour NS\\nB0W 1P0',\n",
       "  'Asia\\nEurope\\nNorth America',\n",
       "  'Lobster'],\n",
       " ['Alder Point Marine Services Ltd.',\n",
       "  'Perry LeBlanc',\n",
       "  'anl@bellaliant.net',\n",
       "  '95 Brady Drive\\nGraves Point NS\\nB1Y 2W7',\n",
       "  'North America',\n",
       "  'Lobster'],\n",
       " ['Alecster Fisheries Ltd.',\n",
       "  \"Allister d'Entremont\",\n",
       "  'allister_d@hotmail.com',\n",
       "  '2056 Lower West Pubnico\\nYarmouth Co. NS\\nB0W 2C0',\n",
       "  'North America',\n",
       "  'Catfish\\nCod, Atlantic\\nCusk\\nFlounder/Sole\\nHaddock\\nHalibut, Atlantic\\nLobster\\nMonkfish\\nPollock\\nRedfish (Ocean Perch)'],\n",
       " [\"Allen's Fisheries Ltd.\",\n",
       "  'Paul Jacobs, Kevin Baldwin, Harold Moore, Neil Targett',\n",
       "  'bgi@barrygroupinc.com',\n",
       "  '415 Griffin Drive\\nCorner Brook NL\\nA2H 3E9',\n",
       "  'Asia\\nEurope\\nNorth America',\n",
       "  'Capelin\\nCrab\\nCrab, Snow (Queen)\\nHalibut, Greenland (Turbot)\\nHerring, Atlantic\\nLobster\\nMackerel, Atlantic\\nMussels, Blue\\nRedfish (Ocean Perch)\\nSquid'],\n",
       " ['Alliance Seafood Inc.',\n",
       "  'Pierre Nadeau',\n",
       "  'info@allianceseafood.ca',\n",
       "  'PO Box/CP 8050\\nDieppe NB\\nE1A 9M7',\n",
       "  'Asia\\nEurope\\nSouth America',\n",
       "  'Char, Arctic\\nClams\\nClams, Atlantic Bar\\nClams, Soft Shell\\nCod, Atlantic\\nCrab\\nCrab, Rock\\nCrab, Snow (Queen)\\nHaddock\\nLobster'],\n",
       " ['Alma Lobster Shop',\n",
       "  'Elizabeth Webster',\n",
       "  'almalobster@outlook.com',\n",
       "  '8595 rue Main Street\\nAlma NB\\nE4H 1N6',\n",
       "  'Asia\\nEurope\\nNorth America',\n",
       "  'Lobster'],\n",
       " ['Alvin & Rufin Boudreau & Sons Ltd.',\n",
       "  'Ola Boudreau',\n",
       "  'arboudreauandsons@rogers.com',\n",
       "  '1724 Route 950\\nTrois-Ruisseaux NB\\nE4N 2Z6',\n",
       "  'Central America\\nNorth America',\n",
       "  'Alewife\\nHerring, Atlantic']]"
      ]
     },
     "execution_count": 72,
     "metadata": {},
     "output_type": "execute_result"
    }
   ],
   "source": [
    "data"
   ]
  },
  {
   "cell_type": "code",
   "execution_count": null,
   "id": "1d6a5286",
   "metadata": {},
   "outputs": [],
   "source": []
  }
 ],
 "metadata": {
  "kernelspec": {
   "display_name": "Python 3 (ipykernel)",
   "language": "python",
   "name": "python3"
  },
  "language_info": {
   "codemirror_mode": {
    "name": "ipython",
    "version": 3
   },
   "file_extension": ".py",
   "mimetype": "text/x-python",
   "name": "python",
   "nbconvert_exporter": "python",
   "pygments_lexer": "ipython3",
   "version": "3.9.12"
  }
 },
 "nbformat": 4,
 "nbformat_minor": 5
}
