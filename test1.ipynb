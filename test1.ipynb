{
 "cells": [
  {
   "cell_type": "markdown",
   "id": "218e0745",
   "metadata": {},
   "source": [
    "### 15. Project: Scrape Iceland tour data from Viator.com.\n",
    "\n",
    "Number of Tours: 1139\n",
    "List of URLs: https://www.viator.com/Iceland/d55-ttd\n",
    "\n",
    "Tour Page Scrape:\n",
    "- URL\n",
    "- Name \n",
    "- The aggregate number of reviews\n",
    "- Review rating\n",
    "- Breadcrumb\n",
    "- Price\n",
    "- Overview\n",
    "- What’s Included\n",
    "- Departure & Return\n",
    "- What to Expect\n",
    "- Additional Info\n",
    "- Cancellation Policy\n",
    "- Traveler Photos\n",
    "- Reviews\n",
    "\n",
    "Tour Page Example: https://www.viator.com/tours/Reykjavik/Your-South-Coast-Full-Day-Tour-by-minibus/d905-36855P2"
   ]
  },
  {
   "cell_type": "code",
   "execution_count": 1,
   "id": "23b0406a",
   "metadata": {},
   "outputs": [],
   "source": [
    "from selenium import webdriver  # driver\n",
    "from selenium.webdriver.chrome.options import Options  # setting User Agent\n",
    "from selenium.common.exceptions import StaleElementReferenceException, NoSuchElementException, NoSuchWindowException\n",
    "from selenium.webdriver.common.by import By # helps implicit waiting\n",
    "from selenium.webdriver.support import expected_conditions as EC # this one too\n",
    "from selenium.webdriver.support.ui import WebDriverWait # implicit waiting\n",
    "from selenium.webdriver.common.keys import Keys\n",
    "import time\n",
    "import csv"
   ]
  },
  {
   "cell_type": "code",
   "execution_count": 2,
   "id": "6ffa2ed7",
   "metadata": {},
   "outputs": [],
   "source": [
    "path = \"C:\\webdrivers\\chromedriver_win32\\chromedriver.exe\""
   ]
  },
  {
   "cell_type": "code",
   "execution_count": 3,
   "id": "8ee49e7c",
   "metadata": {},
   "outputs": [],
   "source": [
    "agent = \"user-agent=Mozilla/5.0 (X11; Linux x86_64) AppleWebKit/537.36 (KHTML, like Gecko) Chrome/77.0.3865.90 Safari/537.36\""
   ]
  },
  {
   "cell_type": "code",
   "execution_count": 4,
   "id": "52cf1a3a",
   "metadata": {},
   "outputs": [],
   "source": [
    "#headless = \"--headless\""
   ]
  },
  {
   "cell_type": "code",
   "execution_count": 5,
   "id": "3982d420",
   "metadata": {},
   "outputs": [],
   "source": [
    "the_options = webdriver.ChromeOptions()\n",
    "the_options.add_argument(path)\n",
    "#the_options.add_argument(headless)"
   ]
  },
  {
   "cell_type": "code",
   "execution_count": 6,
   "id": "ed5bc1cb",
   "metadata": {},
   "outputs": [],
   "source": [
    "driver = webdriver.Chrome(path, options=the_options)"
   ]
  },
  {
   "cell_type": "code",
   "execution_count": 7,
   "id": "62ce0e3c",
   "metadata": {},
   "outputs": [],
   "source": [
    "link = \"https://www.viator.com/tours/Reykjavik/Your-South-Coast-Full-Day-Tour-by-minibus/d905-36855P2\""
   ]
  },
  {
   "cell_type": "code",
   "execution_count": 8,
   "id": "e0777d82",
   "metadata": {},
   "outputs": [],
   "source": [
    "driver.maximize_window()"
   ]
  },
  {
   "cell_type": "code",
   "execution_count": 9,
   "id": "1c78f762",
   "metadata": {},
   "outputs": [],
   "source": [
    "driver.get(link)"
   ]
  },
  {
   "cell_type": "markdown",
   "id": "d1f0af4a",
   "metadata": {},
   "source": [
    "### URL"
   ]
  },
  {
   "cell_type": "code",
   "execution_count": 10,
   "id": "1aa9301f",
   "metadata": {},
   "outputs": [
    {
     "data": {
      "text/plain": [
       "'https://www.viator.com/tours/Reykjavik/Your-South-Coast-Full-Day-Tour-by-minibus/d905-36855P2'"
      ]
     },
     "execution_count": 10,
     "metadata": {},
     "output_type": "execute_result"
    }
   ],
   "source": [
    "url = driver.current_url\n",
    "\n",
    "url"
   ]
  },
  {
   "cell_type": "markdown",
   "id": "ec253aea",
   "metadata": {},
   "source": [
    "### Name"
   ]
  },
  {
   "cell_type": "code",
   "execution_count": 11,
   "id": "5e00c936",
   "metadata": {},
   "outputs": [
    {
     "data": {
      "text/plain": [
       "'South Coast Full Day Tour by Minibus from Reykjavik'"
      ]
     },
     "execution_count": 11,
     "metadata": {},
     "output_type": "execute_result"
    }
   ],
   "source": [
    "name = driver.find_element(by=\"xpath\", value=\"//h1\").text\n",
    "\n",
    "name"
   ]
  },
  {
   "cell_type": "markdown",
   "id": "156b1065",
   "metadata": {},
   "source": [
    "### Aggregate Reviews"
   ]
  },
  {
   "cell_type": "code",
   "execution_count": 12,
   "id": "0bdda22c",
   "metadata": {},
   "outputs": [
    {
     "data": {
      "text/plain": [
       "'1,217'"
      ]
     },
     "execution_count": 12,
     "metadata": {},
     "output_type": "execute_result"
    }
   ],
   "source": [
    "aggregate_reviews = driver.find_element(by=\"xpath\", value=\"//div[@class='reviewCount__3sJa']\").text.replace(' reviews', '')\n",
    "\n",
    "aggregate_reviews"
   ]
  },
  {
   "cell_type": "markdown",
   "id": "30c91340",
   "metadata": {},
   "source": [
    "### Review Rating"
   ]
  },
  {
   "cell_type": "code",
   "execution_count": 13,
   "id": "6edf58a0",
   "metadata": {},
   "outputs": [
    {
     "data": {
      "text/plain": [
       "'5.0'"
      ]
     },
     "execution_count": 13,
     "metadata": {},
     "output_type": "execute_result"
    }
   ],
   "source": [
    "review_rating = driver.find_element(by=\"xpath\", value=\"//span[@class='averageRatingValue__Q1ep']\").text\n",
    "\n",
    "review_rating"
   ]
  },
  {
   "cell_type": "markdown",
   "id": "902643ec",
   "metadata": {},
   "source": [
    "### Price"
   ]
  },
  {
   "cell_type": "code",
   "execution_count": 14,
   "id": "281f7600",
   "metadata": {},
   "outputs": [
    {
     "data": {
      "text/plain": [
       "'$108.00'"
      ]
     },
     "execution_count": 14,
     "metadata": {},
     "output_type": "execute_result"
    }
   ],
   "source": [
    "price = driver.find_element(by=\"xpath\", value=\"(//span[@class='moneyView__2HPx'])[1]\").text\n",
    "\n",
    "price"
   ]
  },
  {
   "cell_type": "markdown",
   "id": "a842b9f6",
   "metadata": {},
   "source": [
    "### Overview"
   ]
  },
  {
   "cell_type": "code",
   "execution_count": 15,
   "id": "1c46d1ce",
   "metadata": {},
   "outputs": [
    {
     "data": {
      "text/plain": [
       "'Travel by luxury minibus through a volcanic landscape along the south coast of Iceland. See the magnificent waterfalls of Seljalandsfoss and Skógafoss, the black-sand beaches of Reynisfjara, and the breathtaking Sólheimajökull glacier on this day trip from Reykjavik. Spot puffins, if you’re lucky, and get a look at Eyjafjallajökull volcano, which erupted in 2010. Round-trip hotel transport is provided.'"
      ]
     },
     "execution_count": 15,
     "metadata": {},
     "output_type": "execute_result"
    }
   ],
   "source": [
    "overview_main = driver.find_element(by=\"xpath\", value=\"//div[@class='overviewWrapper__bMs4']/div[1]\").text\n",
    "\n",
    "overview_main"
   ]
  },
  {
   "cell_type": "code",
   "execution_count": 16,
   "id": "ff89dbf2",
   "metadata": {},
   "outputs": [
    {
     "data": {
      "text/plain": [
       "'Full-day tour of Iceland’s south coast\\nMarvel at the Eyjafjallajökull Volcano and Sólheimajökull Glacier\\nSee the Seljalandsfoss and Skógafoss waterfalls\\nHotel pickup and drop-off included from Reykjavik'"
      ]
     },
     "execution_count": 16,
     "metadata": {},
     "output_type": "execute_result"
    }
   ],
   "source": [
    "overview_list = driver.find_element(by=\"xpath\", value=\"(//ul[@class='featureList__34Y_'])[1]\").text\n",
    "\n",
    "overview_list"
   ]
  },
  {
   "cell_type": "code",
   "execution_count": 17,
   "id": "e7186fb6",
   "metadata": {},
   "outputs": [
    {
     "data": {
      "text/plain": [
       "'Travel by luxury minibus through a volcanic landscape along the south coast of Iceland. See the magnificent waterfalls of Seljalandsfoss and Skógafoss, the black-sand beaches of Reynisfjara, and the breathtaking Sólheimajökull glacier on this day trip from Reykjavik. Spot puffins, if you’re lucky, and get a look at Eyjafjallajökull volcano, which erupted in 2010. Round-trip hotel transport is provided.\\nFull-day tour of Iceland’s south coast\\nMarvel at the Eyjafjallajökull Volcano and Sólheimajökull Glacier\\nSee the Seljalandsfoss and Skógafoss waterfalls\\nHotel pickup and drop-off included from Reykjavik'"
      ]
     },
     "execution_count": 17,
     "metadata": {},
     "output_type": "execute_result"
    }
   ],
   "source": [
    "overview = overview_main + '\\n' + overview_list\n",
    "\n",
    "overview"
   ]
  },
  {
   "cell_type": "code",
   "execution_count": 18,
   "id": "2e54c962",
   "metadata": {},
   "outputs": [
    {
     "name": "stdout",
     "output_type": "stream",
     "text": [
      "Travel by luxury minibus through a volcanic landscape along the south coast of Iceland. See the magnificent waterfalls of Seljalandsfoss and Skógafoss, the black-sand beaches of Reynisfjara, and the breathtaking Sólheimajökull glacier on this day trip from Reykjavik. Spot puffins, if you’re lucky, and get a look at Eyjafjallajökull volcano, which erupted in 2010. Round-trip hotel transport is provided.\n",
      "Full-day tour of Iceland’s south coast\n",
      "Marvel at the Eyjafjallajökull Volcano and Sólheimajökull Glacier\n",
      "See the Seljalandsfoss and Skógafoss waterfalls\n",
      "Hotel pickup and drop-off included from Reykjavik\n"
     ]
    }
   ],
   "source": [
    "print(overview)"
   ]
  },
  {
   "cell_type": "markdown",
   "id": "cf59dd68",
   "metadata": {},
   "source": [
    "### What's Included"
   ]
  },
  {
   "cell_type": "code",
   "execution_count": 19,
   "id": "fade531b",
   "metadata": {},
   "outputs": [],
   "source": [
    "see_more_1 =  driver.find_element(by=\"xpath\", value=\"(//button[@class='link__WYUw seeMoreLink__2-eS'])[1]\")\n",
    "\n",
    "see_more_1.click()"
   ]
  },
  {
   "cell_type": "code",
   "execution_count": 20,
   "id": "a5ff0000",
   "metadata": {},
   "outputs": [
    {
     "data": {
      "text/plain": [
       "'WiFi on board\\nAir-conditioned vehicle\\nAll Fees and Taxes\\nPick up from selected hotels, bus stops and ports.\\nA small Icelandic treat.\\nLunch'"
      ]
     },
     "execution_count": 20,
     "metadata": {},
     "output_type": "execute_result"
    }
   ],
   "source": [
    "whats_included = driver.find_element(by=\"xpath\", value=\"//div[@class='body__3Ax0']\").text\n",
    "\n",
    "whats_included"
   ]
  },
  {
   "cell_type": "code",
   "execution_count": 21,
   "id": "72f32c26",
   "metadata": {},
   "outputs": [],
   "source": [
    "close_button_1 = driver.find_element(by=\"xpath\", value=\"//button[@class='closeButton__1x1d']\")\n",
    "\n",
    "close_button_1.click()"
   ]
  },
  {
   "cell_type": "markdown",
   "id": "9cce917b",
   "metadata": {},
   "source": [
    "### Departure and Return"
   ]
  },
  {
   "cell_type": "code",
   "execution_count": 22,
   "id": "4f081fbc",
   "metadata": {},
   "outputs": [
    {
     "data": {
      "text/plain": [
       "'8:00 AM'"
      ]
     },
     "execution_count": 22,
     "metadata": {},
     "output_type": "execute_result"
    }
   ],
   "source": [
    "departure_time = driver.find_element(by=\"xpath\", value=\"//div[@class='departureTimeLocation__3gU_']\").text\n",
    "\n",
    "departure_time"
   ]
  },
  {
   "cell_type": "code",
   "execution_count": 23,
   "id": "807ae510",
   "metadata": {},
   "outputs": [
    {
     "data": {
      "text/plain": [
       "'We also do pickups from bus stops in Reykjavík, some hotels are located within a traffic restricted area and you would need to meet us at a nearby bus stop. We do pickups at bus stops #1 to #14, excluding bus stops #2 and #11.'"
      ]
     },
     "execution_count": 23,
     "metadata": {},
     "output_type": "execute_result"
    }
   ],
   "source": [
    "please_note = driver.find_element(by=\"xpath\", value=\"//div/div/span/p\").text\n",
    "\n",
    "please_note"
   ]
  },
  {
   "cell_type": "markdown",
   "id": "ab1d9e54",
   "metadata": {},
   "source": [
    "### What to Expect"
   ]
  },
  {
   "cell_type": "code",
   "execution_count": 24,
   "id": "18c2da3e",
   "metadata": {},
   "outputs": [],
   "source": [
    "def page_down(times=2):\n",
    "    for i in range(0, times):\n",
    "        the_body = driver.find_element(by=\"tag name\", value=\"body\")\n",
    "        the_body.send_keys(Keys.PAGE_DOWN)"
   ]
  },
  {
   "cell_type": "code",
   "execution_count": 25,
   "id": "34be8a27",
   "metadata": {},
   "outputs": [],
   "source": [
    "def page_up(times=1):\n",
    "    for i in range(0, times):\n",
    "        the_body = driver.find_element(by=\"tag name\", value=\"body\")\n",
    "        the_body.send_keys(Keys.PAGE_UP)    "
   ]
  },
  {
   "cell_type": "code",
   "execution_count": 26,
   "id": "0401caf7",
   "metadata": {},
   "outputs": [],
   "source": [
    "def click_expect(times=4):\n",
    "\n",
    "    page_down(2)\n",
    "\n",
    "    expect_tab = driver.find_element(by=\"xpath\", value=\"//*/div[4]/span[contains(text(), 'What To Expect')]\")\n",
    "\n",
    "    for i in range(0, times):\n",
    "        expect_tab.click()\n",
    "\n",
    "    try:\n",
    "        read_more = WebDriverWait(driver, 5).until(\n",
    "            EC.presence_of_element_located((By.XPATH, \"//div[@class='introduction__2Nxq']/div[1]/span/div/button/div[contains(text(), 'Read more')]\"))\n",
    "        )    \n",
    "    except:\n",
    "        pass\n",
    "    else:\n",
    "        read_more.click()\n",
    "\n",
    "    what_to_expect = driver.find_element(by=\"xpath\", value=\"//div[@class='introduction__2Nxq']/div/div/div\")\n",
    "\n",
    "    return what_to_expect.text"
   ]
  },
  {
   "cell_type": "code",
   "execution_count": 27,
   "id": "46a420ea",
   "metadata": {
    "scrolled": true
   },
   "outputs": [],
   "source": [
    "try:\n",
    "    what_to_expect = click_expect()\n",
    "except:\n",
    "    what_to_expect = click_expect()"
   ]
  },
  {
   "cell_type": "code",
   "execution_count": 28,
   "id": "8ee17ab1",
   "metadata": {},
   "outputs": [
    {
     "data": {
      "text/plain": [
       "'After hotel pickup in Reykjavík in the morning, board your Mercedes Benz Sprinter—a luxury minibus equipped with complimentary Wi-Fi. Meet your experienced guide who shares information about each location you visit during this full-day itinerary along Iceland’s stunning south coast.\\n\\nThis scenic trip includes a stop at two waterfalls, Seljalandsfoss and Skógafoss. Snap photos of Sólheimajökull glacier and Eyjafjallajökull volcano, and search for puffins along the black-sand beaches of Reynisfjara.\\n\\nEn route, get a taste of traditional Icelandic snacks: smoked lamb on flatbread accompanied by a typical beverage. There is also a stop for lunch before drop-off back at your hotel.'"
      ]
     },
     "execution_count": 28,
     "metadata": {},
     "output_type": "execute_result"
    }
   ],
   "source": [
    "what_to_expect"
   ]
  },
  {
   "cell_type": "markdown",
   "id": "2c31e4da",
   "metadata": {},
   "source": [
    "### Additional Info"
   ]
  },
  {
   "cell_type": "code",
   "execution_count": 29,
   "id": "63959d4d",
   "metadata": {},
   "outputs": [],
   "source": [
    "def info(times=4):\n",
    "    \n",
    "    page_down(2)\n",
    "\n",
    "    info_tab = driver.find_element(by=\"xpath\", value=\"//*/div[5]/span[contains(text(), 'Additional Info')]\")\n",
    "\n",
    "    for i in range(0, times):\n",
    "        info_tab.click()\n",
    "\n",
    "    try:\n",
    "        see_more_2 = WebDriverWait(driver, 5).until(\n",
    "            EC.presence_of_element_located((By.XPATH, \"(//button[@class='link__WYUw seeMoreLink__2-eS'])[2]\"))\n",
    "        )    \n",
    "    except:\n",
    "        pass\n",
    "    else:\n",
    "        see_more_2.click()\n",
    "\n",
    "    additional_info = driver.find_element(by=\"xpath\", value=\"//div[@class='body__3Ax0']\").text\n",
    "\n",
    "    return additional_info"
   ]
  },
  {
   "cell_type": "code",
   "execution_count": 30,
   "id": "3af05746",
   "metadata": {},
   "outputs": [],
   "source": [
    "try:\n",
    "    additional_info = info()\n",
    "except:\n",
    "    additional_info = info()\n",
    "else:\n",
    "    pass"
   ]
  },
  {
   "cell_type": "code",
   "execution_count": 31,
   "id": "c0a07eac",
   "metadata": {},
   "outputs": [],
   "source": [
    "close_button_2 = driver.find_element(by=\"xpath\", value=\"//button[@class='closeButton__1x1d']\")\n",
    "\n",
    "close_button_2.click()"
   ]
  },
  {
   "cell_type": "code",
   "execution_count": 32,
   "id": "eaad6516",
   "metadata": {},
   "outputs": [
    {
     "data": {
      "text/plain": [
       "'Confirmation will be received at time of booking\\nChild rate applies only when sharing with 2 paying adults\\nOperates in all weather conditions, please dress appropriately\\nNot wheelchair accessible\\nStroller accessible\\nNear public transportation\\nInfant seats available\\nMost travelers can participate\\nThis tour/activity will have a maximum of 19 travelers\\nOperated by Your Day Tours'"
      ]
     },
     "execution_count": 32,
     "metadata": {},
     "output_type": "execute_result"
    }
   ],
   "source": [
    "additional_info"
   ]
  },
  {
   "cell_type": "markdown",
   "id": "82b0e8bb",
   "metadata": {},
   "source": [
    "### Cancellation Policy"
   ]
  },
  {
   "cell_type": "code",
   "execution_count": 33,
   "id": "975d6274",
   "metadata": {},
   "outputs": [
    {
     "data": {
      "text/plain": [
       "'You can cancel up to 24 hours in advance of the experience for a full refund.'"
      ]
     },
     "execution_count": 33,
     "metadata": {},
     "output_type": "execute_result"
    }
   ],
   "source": [
    "policy_header = driver.find_element(by=\"xpath\", value=\"//p[@class='headerPolicy__Zp9m']\").text\n",
    "\n",
    "policy_header"
   ]
  },
  {
   "cell_type": "code",
   "execution_count": 34,
   "id": "4a75e52a",
   "metadata": {},
   "outputs": [
    {
     "data": {
      "text/plain": [
       "'For a full refund, you must cancel at least 24 hours before the experience’s start time.\\nIf you cancel less than 24 hours before the experience’s start time, the amount you paid will not be refunded.\\nAny changes made less than 24 hours before the experience’s start time will not be accepted.\\nCut-off times are based on the experience’s local time.\\nThis experience requires good weather. If it’s canceled due to poor weather, you’ll be offered a different date or a full refund.'"
      ]
     },
     "execution_count": 34,
     "metadata": {},
     "output_type": "execute_result"
    }
   ],
   "source": [
    "policy_bullets = driver.find_element(by=\"xpath\", value=\"(//div[@class='listWrapper__490H'])[3]\").text\n",
    "\n",
    "policy_bullets"
   ]
  },
  {
   "cell_type": "code",
   "execution_count": 35,
   "id": "8b1cf3a9",
   "metadata": {},
   "outputs": [
    {
     "data": {
      "text/plain": [
       "'You can cancel up to 24 hours in advance of the experience for a full refund.\\nFor a full refund, you must cancel at least 24 hours before the experience’s start time.\\nIf you cancel less than 24 hours before the experience’s start time, the amount you paid will not be refunded.\\nAny changes made less than 24 hours before the experience’s start time will not be accepted.\\nCut-off times are based on the experience’s local time.\\nThis experience requires good weather. If it’s canceled due to poor weather, you’ll be offered a different date or a full refund.'"
      ]
     },
     "execution_count": 35,
     "metadata": {},
     "output_type": "execute_result"
    }
   ],
   "source": [
    "cancellation_policy = policy_header + '\\n' + policy_bullets\n",
    "\n",
    "cancellation_policy"
   ]
  },
  {
   "cell_type": "markdown",
   "id": "cf483b8d",
   "metadata": {},
   "source": [
    "### Traveler Photos"
   ]
  },
  {
   "cell_type": "code",
   "execution_count": 36,
   "id": "28c72758",
   "metadata": {},
   "outputs": [],
   "source": [
    "def photos():\n",
    "    for i in range(0, 2):\n",
    "        page_down(3)\n",
    "        try:\n",
    "            traveler_photos_links = [i.get_attribute('src') for i in driver.find_elements(by=\"xpath\", value=\"//div[@class='travellerGallery__1yjJ']/div/img\")]\n",
    "        except:\n",
    "            traveler_photos_links = [i.get_attribute('src') for i in driver.find_elements(by=\"xpath\", value=\"//div[@class='travellerGallery__1yjJ']/div/img\")]\n",
    "        else:\n",
    "            pass\n",
    "    return traveler_photos_links"
   ]
  },
  {
   "cell_type": "code",
   "execution_count": 37,
   "id": "2b2f32cc",
   "metadata": {},
   "outputs": [],
   "source": [
    "traveler_photos = photos()"
   ]
  },
  {
   "cell_type": "code",
   "execution_count": 38,
   "id": "5a22ae50",
   "metadata": {},
   "outputs": [
    {
     "data": {
      "text/plain": [
       "['https://media.tacdn.com/media/photo-w/23/d1/c9/ab/caption.jpg',\n",
       " 'https://media.tacdn.com/media/photo-m/1280/23/d1/c9/ad/caption.jpg',\n",
       " 'https://media.tacdn.com/media/photo-m/1280/23/d1/c9/ac/caption.jpg',\n",
       " 'https://media.tacdn.com/media/photo-w/23/d1/c9/ae/caption.jpg',\n",
       " 'https://media.tacdn.com/media/photo-w/23/c4/6f/25/caption.jpg']"
      ]
     },
     "execution_count": 38,
     "metadata": {},
     "output_type": "execute_result"
    }
   ],
   "source": [
    "traveler_photos"
   ]
  },
  {
   "cell_type": "code",
   "execution_count": null,
   "id": "a85908b2",
   "metadata": {},
   "outputs": [],
   "source": []
  },
  {
   "cell_type": "code",
   "execution_count": 39,
   "id": "8aa7c81e",
   "metadata": {},
   "outputs": [],
   "source": [
    "photo_links = '\\n'.join([str(photo_link) for photo_link in traveler_photos])"
   ]
  },
  {
   "cell_type": "code",
   "execution_count": null,
   "id": "ac97fc37",
   "metadata": {},
   "outputs": [],
   "source": []
  },
  {
   "cell_type": "code",
   "execution_count": 40,
   "id": "1ec51d5a",
   "metadata": {},
   "outputs": [
    {
     "data": {
      "text/plain": [
       "'https://media.tacdn.com/media/photo-w/23/d1/c9/ab/caption.jpg\\nhttps://media.tacdn.com/media/photo-m/1280/23/d1/c9/ad/caption.jpg\\nhttps://media.tacdn.com/media/photo-m/1280/23/d1/c9/ac/caption.jpg\\nhttps://media.tacdn.com/media/photo-w/23/d1/c9/ae/caption.jpg\\nhttps://media.tacdn.com/media/photo-w/23/c4/6f/25/caption.jpg'"
      ]
     },
     "execution_count": 40,
     "metadata": {},
     "output_type": "execute_result"
    }
   ],
   "source": [
    "photo_links"
   ]
  },
  {
   "cell_type": "markdown",
   "id": "8aec130d",
   "metadata": {},
   "source": [
    "### Review"
   ]
  },
  {
   "cell_type": "code",
   "execution_count": 41,
   "id": "c1a595a2",
   "metadata": {},
   "outputs": [],
   "source": [
    "reviews = [i.text for i in driver.find_elements(by=\"xpath\", value=\"//div[@class='review__27Tn']/div/div[3]/div/span\")]"
   ]
  },
  {
   "cell_type": "code",
   "execution_count": 42,
   "id": "3e7c2b36",
   "metadata": {},
   "outputs": [
    {
     "data": {
      "text/plain": [
       "['Our driver, Annie, was the best! This is a great trip. We went under, around, on top of, and into waterfalls. The views were awe-inspiring.',\n",
       " 'We were a little hesitant about booking this tour and only did so as our son leant about trolls living around Vik at school. We need not have been worried as It was an amazing day with glorious sunshine which blew us all away. Our favourite pa\\nRead more',\n",
       " 'Stunning waterfalls and coastline. Views of the glaciers and then the chance to walk to one. Blue skies and warm sun.',\n",
       " 'Loved this trip! Baldwin was a wonderful guide with a vast amount of knowledge. Each stop was lovely with ample time to see all that needed to be seen. We highly recommend this small group tour!',\n",
       " 'Yourdaytours Trip can be highly recommended! Great guide who really enjoyed the job, more stops then on schedule and really good planning!',\n",
       " 'Great tour, stunning landscape. Our tour guide Hugi was very informative and fun. Def recommend this tour, and request Hugi.',\n",
       " 'The Glazier was a special moment to be next to one .It’s was a beautiful day . The all trip was an amazing experience .',\n",
       " 'An excellent experience, would highly recommend. Tour guide Gusti was great and very knowledgeable!!',\n",
       " 'The places we visited are true wonders of nature. My daughter and I were very lucky to have a very friendly and knowledgeable guide as well as a perfect day weatherwise.',\n",
       " 'Wally was great, very informative. He waited for those who took a bit longer than the others so that we could see all the sights. Managed to squeeze in a few extra stops for us which were breath taking. A very cheery and pleasant young man, no doubt a credit to your team.']"
      ]
     },
     "execution_count": 42,
     "metadata": {},
     "output_type": "execute_result"
    }
   ],
   "source": [
    "reviews"
   ]
  },
  {
   "cell_type": "code",
   "execution_count": 43,
   "id": "7602210e",
   "metadata": {},
   "outputs": [],
   "source": [
    "all_reviews = '\\n'.join([str(review) for review in reviews])"
   ]
  },
  {
   "cell_type": "code",
   "execution_count": 44,
   "id": "98546e9b",
   "metadata": {},
   "outputs": [
    {
     "data": {
      "text/plain": [
       "'Our driver, Annie, was the best! This is a great trip. We went under, around, on top of, and into waterfalls. The views were awe-inspiring.\\nWe were a little hesitant about booking this tour and only did so as our son leant about trolls living around Vik at school. We need not have been worried as It was an amazing day with glorious sunshine which blew us all away. Our favourite pa\\nRead more\\nStunning waterfalls and coastline. Views of the glaciers and then the chance to walk to one. Blue skies and warm sun.\\nLoved this trip! Baldwin was a wonderful guide with a vast amount of knowledge. Each stop was lovely with ample time to see all that needed to be seen. We highly recommend this small group tour!\\nYourdaytours Trip can be highly recommended! Great guide who really enjoyed the job, more stops then on schedule and really good planning!\\nGreat tour, stunning landscape. Our tour guide Hugi was very informative and fun. Def recommend this tour, and request Hugi.\\nThe Glazier was a special moment to be next to one .It’s was a beautiful day . The all trip was an amazing experience .\\nAn excellent experience, would highly recommend. Tour guide Gusti was great and very knowledgeable!!\\nThe places we visited are true wonders of nature. My daughter and I were very lucky to have a very friendly and knowledgeable guide as well as a perfect day weatherwise.\\nWally was great, very informative. He waited for those who took a bit longer than the others so that we could see all the sights. Managed to squeeze in a few extra stops for us which were breath taking. A very cheery and pleasant young man, no doubt a credit to your team.'"
      ]
     },
     "execution_count": 44,
     "metadata": {},
     "output_type": "execute_result"
    }
   ],
   "source": [
    "all_reviews"
   ]
  },
  {
   "cell_type": "markdown",
   "id": "b36c492e",
   "metadata": {},
   "source": [
    "### Putting It All Together"
   ]
  },
  {
   "cell_type": "code",
   "execution_count": 45,
   "id": "54dafbee",
   "metadata": {},
   "outputs": [],
   "source": [
    "main_record = []\n",
    "\n",
    "headers = [\"url\", \"name\", \"aggregate_reviews\", \"star_rating\",\n",
    "           \"price\", \"overview\", \"what's included\",\"departure_time\",\n",
    "           \"please_note\", \"what_to_expect\",\"additional_info\", \"cancellation_policy\",\n",
    "           \"traveler_photos\", \"reviews\"]\n",
    "\n",
    "main_record.append(headers)"
   ]
  },
  {
   "cell_type": "code",
   "execution_count": 46,
   "id": "3a183b6a",
   "metadata": {},
   "outputs": [
    {
     "data": {
      "text/plain": [
       "[['url',\n",
       "  'name',\n",
       "  'aggregate_reviews',\n",
       "  'star_rating',\n",
       "  'price',\n",
       "  'overview',\n",
       "  \"what's included\",\n",
       "  'departure_time',\n",
       "  'please_note',\n",
       "  'what_to_expect',\n",
       "  'additional_info',\n",
       "  'cancellation_policy',\n",
       "  'traveler_photos',\n",
       "  'reviews']]"
      ]
     },
     "execution_count": 46,
     "metadata": {},
     "output_type": "execute_result"
    }
   ],
   "source": [
    "main_record"
   ]
  },
  {
   "cell_type": "code",
   "execution_count": 47,
   "id": "b11e3eae",
   "metadata": {},
   "outputs": [],
   "source": [
    "one_record = [url, name, aggregate_reviews, review_rating,\n",
    "              price, overview, whats_included, departure_time,\n",
    "             please_note, what_to_expect, additional_info, cancellation_policy,\n",
    "             photo_links, all_reviews]"
   ]
  },
  {
   "cell_type": "code",
   "execution_count": 48,
   "id": "1857c3c8",
   "metadata": {},
   "outputs": [
    {
     "data": {
      "text/plain": [
       "['https://www.viator.com/tours/Reykjavik/Your-South-Coast-Full-Day-Tour-by-minibus/d905-36855P2',\n",
       " 'South Coast Full Day Tour by Minibus from Reykjavik',\n",
       " '1,217',\n",
       " '5.0',\n",
       " '$108.00',\n",
       " 'Travel by luxury minibus through a volcanic landscape along the south coast of Iceland. See the magnificent waterfalls of Seljalandsfoss and Skógafoss, the black-sand beaches of Reynisfjara, and the breathtaking Sólheimajökull glacier on this day trip from Reykjavik. Spot puffins, if you’re lucky, and get a look at Eyjafjallajökull volcano, which erupted in 2010. Round-trip hotel transport is provided.\\nFull-day tour of Iceland’s south coast\\nMarvel at the Eyjafjallajökull Volcano and Sólheimajökull Glacier\\nSee the Seljalandsfoss and Skógafoss waterfalls\\nHotel pickup and drop-off included from Reykjavik',\n",
       " 'WiFi on board\\nAir-conditioned vehicle\\nAll Fees and Taxes\\nPick up from selected hotels, bus stops and ports.\\nA small Icelandic treat.\\nLunch',\n",
       " '8:00 AM',\n",
       " 'We also do pickups from bus stops in Reykjavík, some hotels are located within a traffic restricted area and you would need to meet us at a nearby bus stop. We do pickups at bus stops #1 to #14, excluding bus stops #2 and #11.',\n",
       " 'After hotel pickup in Reykjavík in the morning, board your Mercedes Benz Sprinter—a luxury minibus equipped with complimentary Wi-Fi. Meet your experienced guide who shares information about each location you visit during this full-day itinerary along Iceland’s stunning south coast.\\n\\nThis scenic trip includes a stop at two waterfalls, Seljalandsfoss and Skógafoss. Snap photos of Sólheimajökull glacier and Eyjafjallajökull volcano, and search for puffins along the black-sand beaches of Reynisfjara.\\n\\nEn route, get a taste of traditional Icelandic snacks: smoked lamb on flatbread accompanied by a typical beverage. There is also a stop for lunch before drop-off back at your hotel.',\n",
       " 'Confirmation will be received at time of booking\\nChild rate applies only when sharing with 2 paying adults\\nOperates in all weather conditions, please dress appropriately\\nNot wheelchair accessible\\nStroller accessible\\nNear public transportation\\nInfant seats available\\nMost travelers can participate\\nThis tour/activity will have a maximum of 19 travelers\\nOperated by Your Day Tours',\n",
       " 'You can cancel up to 24 hours in advance of the experience for a full refund.\\nFor a full refund, you must cancel at least 24 hours before the experience’s start time.\\nIf you cancel less than 24 hours before the experience’s start time, the amount you paid will not be refunded.\\nAny changes made less than 24 hours before the experience’s start time will not be accepted.\\nCut-off times are based on the experience’s local time.\\nThis experience requires good weather. If it’s canceled due to poor weather, you’ll be offered a different date or a full refund.',\n",
       " 'https://media.tacdn.com/media/photo-w/23/d1/c9/ab/caption.jpg\\nhttps://media.tacdn.com/media/photo-m/1280/23/d1/c9/ad/caption.jpg\\nhttps://media.tacdn.com/media/photo-m/1280/23/d1/c9/ac/caption.jpg\\nhttps://media.tacdn.com/media/photo-w/23/d1/c9/ae/caption.jpg\\nhttps://media.tacdn.com/media/photo-w/23/c4/6f/25/caption.jpg',\n",
       " 'Our driver, Annie, was the best! This is a great trip. We went under, around, on top of, and into waterfalls. The views were awe-inspiring.\\nWe were a little hesitant about booking this tour and only did so as our son leant about trolls living around Vik at school. We need not have been worried as It was an amazing day with glorious sunshine which blew us all away. Our favourite pa\\nRead more\\nStunning waterfalls and coastline. Views of the glaciers and then the chance to walk to one. Blue skies and warm sun.\\nLoved this trip! Baldwin was a wonderful guide with a vast amount of knowledge. Each stop was lovely with ample time to see all that needed to be seen. We highly recommend this small group tour!\\nYourdaytours Trip can be highly recommended! Great guide who really enjoyed the job, more stops then on schedule and really good planning!\\nGreat tour, stunning landscape. Our tour guide Hugi was very informative and fun. Def recommend this tour, and request Hugi.\\nThe Glazier was a special moment to be next to one .It’s was a beautiful day . The all trip was an amazing experience .\\nAn excellent experience, would highly recommend. Tour guide Gusti was great and very knowledgeable!!\\nThe places we visited are true wonders of nature. My daughter and I were very lucky to have a very friendly and knowledgeable guide as well as a perfect day weatherwise.\\nWally was great, very informative. He waited for those who took a bit longer than the others so that we could see all the sights. Managed to squeeze in a few extra stops for us which were breath taking. A very cheery and pleasant young man, no doubt a credit to your team.']"
      ]
     },
     "execution_count": 48,
     "metadata": {},
     "output_type": "execute_result"
    }
   ],
   "source": [
    "one_record"
   ]
  },
  {
   "cell_type": "code",
   "execution_count": 49,
   "id": "16e2d4b6",
   "metadata": {},
   "outputs": [],
   "source": [
    "main_record.append(one_record)"
   ]
  },
  {
   "cell_type": "code",
   "execution_count": 50,
   "id": "8ef0c3d3",
   "metadata": {},
   "outputs": [
    {
     "data": {
      "text/plain": [
       "[['url',\n",
       "  'name',\n",
       "  'aggregate_reviews',\n",
       "  'star_rating',\n",
       "  'price',\n",
       "  'overview',\n",
       "  \"what's included\",\n",
       "  'departure_time',\n",
       "  'please_note',\n",
       "  'what_to_expect',\n",
       "  'additional_info',\n",
       "  'cancellation_policy',\n",
       "  'traveler_photos',\n",
       "  'reviews'],\n",
       " ['https://www.viator.com/tours/Reykjavik/Your-South-Coast-Full-Day-Tour-by-minibus/d905-36855P2',\n",
       "  'South Coast Full Day Tour by Minibus from Reykjavik',\n",
       "  '1,217',\n",
       "  '5.0',\n",
       "  '$108.00',\n",
       "  'Travel by luxury minibus through a volcanic landscape along the south coast of Iceland. See the magnificent waterfalls of Seljalandsfoss and Skógafoss, the black-sand beaches of Reynisfjara, and the breathtaking Sólheimajökull glacier on this day trip from Reykjavik. Spot puffins, if you’re lucky, and get a look at Eyjafjallajökull volcano, which erupted in 2010. Round-trip hotel transport is provided.\\nFull-day tour of Iceland’s south coast\\nMarvel at the Eyjafjallajökull Volcano and Sólheimajökull Glacier\\nSee the Seljalandsfoss and Skógafoss waterfalls\\nHotel pickup and drop-off included from Reykjavik',\n",
       "  'WiFi on board\\nAir-conditioned vehicle\\nAll Fees and Taxes\\nPick up from selected hotels, bus stops and ports.\\nA small Icelandic treat.\\nLunch',\n",
       "  '8:00 AM',\n",
       "  'We also do pickups from bus stops in Reykjavík, some hotels are located within a traffic restricted area and you would need to meet us at a nearby bus stop. We do pickups at bus stops #1 to #14, excluding bus stops #2 and #11.',\n",
       "  'After hotel pickup in Reykjavík in the morning, board your Mercedes Benz Sprinter—a luxury minibus equipped with complimentary Wi-Fi. Meet your experienced guide who shares information about each location you visit during this full-day itinerary along Iceland’s stunning south coast.\\n\\nThis scenic trip includes a stop at two waterfalls, Seljalandsfoss and Skógafoss. Snap photos of Sólheimajökull glacier and Eyjafjallajökull volcano, and search for puffins along the black-sand beaches of Reynisfjara.\\n\\nEn route, get a taste of traditional Icelandic snacks: smoked lamb on flatbread accompanied by a typical beverage. There is also a stop for lunch before drop-off back at your hotel.',\n",
       "  'Confirmation will be received at time of booking\\nChild rate applies only when sharing with 2 paying adults\\nOperates in all weather conditions, please dress appropriately\\nNot wheelchair accessible\\nStroller accessible\\nNear public transportation\\nInfant seats available\\nMost travelers can participate\\nThis tour/activity will have a maximum of 19 travelers\\nOperated by Your Day Tours',\n",
       "  'You can cancel up to 24 hours in advance of the experience for a full refund.\\nFor a full refund, you must cancel at least 24 hours before the experience’s start time.\\nIf you cancel less than 24 hours before the experience’s start time, the amount you paid will not be refunded.\\nAny changes made less than 24 hours before the experience’s start time will not be accepted.\\nCut-off times are based on the experience’s local time.\\nThis experience requires good weather. If it’s canceled due to poor weather, you’ll be offered a different date or a full refund.',\n",
       "  'https://media.tacdn.com/media/photo-w/23/d1/c9/ab/caption.jpg\\nhttps://media.tacdn.com/media/photo-m/1280/23/d1/c9/ad/caption.jpg\\nhttps://media.tacdn.com/media/photo-m/1280/23/d1/c9/ac/caption.jpg\\nhttps://media.tacdn.com/media/photo-w/23/d1/c9/ae/caption.jpg\\nhttps://media.tacdn.com/media/photo-w/23/c4/6f/25/caption.jpg',\n",
       "  'Our driver, Annie, was the best! This is a great trip. We went under, around, on top of, and into waterfalls. The views were awe-inspiring.\\nWe were a little hesitant about booking this tour and only did so as our son leant about trolls living around Vik at school. We need not have been worried as It was an amazing day with glorious sunshine which blew us all away. Our favourite pa\\nRead more\\nStunning waterfalls and coastline. Views of the glaciers and then the chance to walk to one. Blue skies and warm sun.\\nLoved this trip! Baldwin was a wonderful guide with a vast amount of knowledge. Each stop was lovely with ample time to see all that needed to be seen. We highly recommend this small group tour!\\nYourdaytours Trip can be highly recommended! Great guide who really enjoyed the job, more stops then on schedule and really good planning!\\nGreat tour, stunning landscape. Our tour guide Hugi was very informative and fun. Def recommend this tour, and request Hugi.\\nThe Glazier was a special moment to be next to one .It’s was a beautiful day . The all trip was an amazing experience .\\nAn excellent experience, would highly recommend. Tour guide Gusti was great and very knowledgeable!!\\nThe places we visited are true wonders of nature. My daughter and I were very lucky to have a very friendly and knowledgeable guide as well as a perfect day weatherwise.\\nWally was great, very informative. He waited for those who took a bit longer than the others so that we could see all the sights. Managed to squeeze in a few extra stops for us which were breath taking. A very cheery and pleasant young man, no doubt a credit to your team.']]"
      ]
     },
     "execution_count": 50,
     "metadata": {},
     "output_type": "execute_result"
    }
   ],
   "source": [
    "main_record"
   ]
  },
  {
   "cell_type": "code",
   "execution_count": null,
   "id": "bca737a7",
   "metadata": {},
   "outputs": [],
   "source": []
  },
  {
   "cell_type": "code",
   "execution_count": 51,
   "id": "08d81b13",
   "metadata": {},
   "outputs": [],
   "source": [
    "with open('test1.csv', mode = 'w', encoding = 'utf-8', newline = '') as iceland_csv:\n",
    "    \n",
    "    csv_writer = csv.writer(iceland_csv, delimiter = ',')\n",
    "    \n",
    "    csv_writer.writerows(main_record)"
   ]
  },
  {
   "cell_type": "code",
   "execution_count": null,
   "id": "69b1a2f3",
   "metadata": {},
   "outputs": [],
   "source": []
  },
  {
   "cell_type": "code",
   "execution_count": null,
   "id": "46f223a8",
   "metadata": {},
   "outputs": [],
   "source": []
  },
  {
   "cell_type": "code",
   "execution_count": null,
   "id": "4d643d8a",
   "metadata": {},
   "outputs": [],
   "source": []
  },
  {
   "cell_type": "code",
   "execution_count": null,
   "id": "fa338f67",
   "metadata": {},
   "outputs": [],
   "source": []
  }
 ],
 "metadata": {
  "kernelspec": {
   "display_name": "Python 3 (ipykernel)",
   "language": "python",
   "name": "python3"
  },
  "language_info": {
   "codemirror_mode": {
    "name": "ipython",
    "version": 3
   },
   "file_extension": ".py",
   "mimetype": "text/x-python",
   "name": "python",
   "nbconvert_exporter": "python",
   "pygments_lexer": "ipython3",
   "version": "3.9.12"
  }
 },
 "nbformat": 4,
 "nbformat_minor": 5
}
