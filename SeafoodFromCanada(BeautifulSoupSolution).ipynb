{
 "cells": [
  {
   "cell_type": "markdown",
   "id": "05aa5c7f",
   "metadata": {},
   "source": [
    "### Scrap web data into excel and format for easy filtering.\n",
    "\n",
    "I'm looking to pull the data from https://seafoodfromcanada.ca/directory/ and put it into a Google Sheet.\n",
    "\n",
    "Each Profile has many details (exports to, specifies available etc) that I want included in the sheet.\n",
    "\n",
    "Each profile should be it's own line item with all the details (categories should be like :Name, Phone number, e-mail, address, exports to, species etc)\n",
    "\n",
    "Also, I want to be able to filter quickly to which profile suits my search. For example, on the excel sheet I want to filter for profiles that export to Asia AND Lobster specie."
   ]
  },
  {
   "cell_type": "code",
   "execution_count": 1,
   "id": "2a6f2e22",
   "metadata": {},
   "outputs": [],
   "source": [
    "import bs4"
   ]
  },
  {
   "cell_type": "code",
   "execution_count": 2,
   "id": "f9b2ea32",
   "metadata": {},
   "outputs": [],
   "source": [
    "import requests"
   ]
  },
  {
   "cell_type": "code",
   "execution_count": 3,
   "id": "f2630d8b",
   "metadata": {},
   "outputs": [],
   "source": [
    "url = 'https://seafoodfromcanada.ca/directory/'"
   ]
  },
  {
   "cell_type": "code",
   "execution_count": null,
   "id": "f78037ed",
   "metadata": {},
   "outputs": [],
   "source": []
  }
 ],
 "metadata": {
  "kernelspec": {
   "display_name": "Python 3 (ipykernel)",
   "language": "python",
   "name": "python3"
  },
  "language_info": {
   "codemirror_mode": {
    "name": "ipython",
    "version": 3
   },
   "file_extension": ".py",
   "mimetype": "text/x-python",
   "name": "python",
   "nbconvert_exporter": "python",
   "pygments_lexer": "ipython3",
   "version": "3.9.12"
  }
 },
 "nbformat": 4,
 "nbformat_minor": 5
}
