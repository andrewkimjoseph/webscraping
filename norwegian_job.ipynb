{
 "cells": [
  {
   "cell_type": "code",
   "execution_count": 1,
   "id": "4afbe025",
   "metadata": {},
   "outputs": [],
   "source": [
    "import requests"
   ]
  },
  {
   "cell_type": "code",
   "execution_count": 2,
   "id": "a1c0195f",
   "metadata": {},
   "outputs": [],
   "source": [
    "import bs4"
   ]
  },
  {
   "cell_type": "code",
   "execution_count": null,
   "id": "b0e3944d",
   "metadata": {},
   "outputs": [],
   "source": []
  },
  {
   "cell_type": "code",
   "execution_count": 3,
   "id": "59c9c3ad",
   "metadata": {},
   "outputs": [],
   "source": [
    "# Link one because there is info to be scraped in yet another webpage\n",
    "\n",
    "link_one = 'https://minnesider.no/index.php?sign=39cb4f8d032fe87e47bc628d237134e1'"
   ]
  },
  {
   "cell_type": "code",
   "execution_count": null,
   "id": "2254ec16",
   "metadata": {},
   "outputs": [],
   "source": []
  },
  {
   "cell_type": "code",
   "execution_count": 4,
   "id": "79de09c8",
   "metadata": {},
   "outputs": [],
   "source": [
    "# Later, we will send another response\n",
    "\n",
    "response_one  = requests.get(link_one)"
   ]
  },
  {
   "cell_type": "code",
   "execution_count": null,
   "id": "da35ff71",
   "metadata": {},
   "outputs": [],
   "source": []
  },
  {
   "cell_type": "code",
   "execution_count": 5,
   "id": "41fe8277",
   "metadata": {},
   "outputs": [],
   "source": [
    "# Soup one is from the first link\n",
    "\n",
    "soup_one = bs4.BeautifulSoup(response_one.text, 'lxml')"
   ]
  },
  {
   "cell_type": "code",
   "execution_count": null,
   "id": "ad668f31",
   "metadata": {},
   "outputs": [],
   "source": []
  },
  {
   "cell_type": "code",
   "execution_count": 6,
   "id": "dc227f10",
   "metadata": {},
   "outputs": [],
   "source": [
    "# This user_text class has name, date, and place information\n",
    "\n",
    "user_text = soup_one.select('.user_text') "
   ]
  },
  {
   "cell_type": "code",
   "execution_count": null,
   "id": "7b95fdc1",
   "metadata": {},
   "outputs": [],
   "source": []
  },
  {
   "cell_type": "code",
   "execution_count": 7,
   "id": "b5fd033b",
   "metadata": {},
   "outputs": [],
   "source": [
    "dp = 49"
   ]
  },
  {
   "cell_type": "markdown",
   "id": "ff27d920",
   "metadata": {},
   "source": [
    "# Getting the NAME"
   ]
  },
  {
   "cell_type": "code",
   "execution_count": 8,
   "id": "87bb2175",
   "metadata": {},
   "outputs": [
    {
     "name": "stdout",
     "output_type": "stream",
     "text": [
      "The Full Name is:\n",
      "Grethe Berg Hagerupsen\n"
     ]
    }
   ],
   "source": [
    "full_name = user_text[dp]('h4')[0].getText()\n",
    "\n",
    "print(f'The Full Name is:\\n{full_name}')"
   ]
  },
  {
   "cell_type": "markdown",
   "id": "cddc4d2c",
   "metadata": {},
   "source": [
    "## NAMES IN THREE PARTS"
   ]
  },
  {
   "cell_type": "code",
   "execution_count": 9,
   "id": "c1a3e28f",
   "metadata": {},
   "outputs": [
    {
     "name": "stdout",
     "output_type": "stream",
     "text": [
      "The First Name is: \n",
      "Grethe \n",
      "\n",
      "The Second Name is: \n",
      "Berg \n",
      "\n",
      "The Last Name is: \n",
      "Hagerupsen\n"
     ]
    }
   ],
   "source": [
    "names = full_name.split()\n",
    "\n",
    "if len(names) == 3:\n",
    "    first_name = names[0]\n",
    "    second_name = names[1]\n",
    "    last_name = names[2]\n",
    "    print(f'The First Name is: \\n{first_name} \\n')\n",
    "    print(f'The Second Name is: \\n{second_name} \\n')\n",
    "    print(f'The Last Name is: \\n{last_name}')\n",
    "\n",
    "elif len(names) == 2:\n",
    "    first_name = names[0]\n",
    "    second_name = '-'\n",
    "    last_name = names[1]\n",
    "    print(f'The First Name is: \\n{first_name} \\n')\n",
    "    print(f'The Last Name is: \\n{last_name}')\n",
    "\n",
    "elif len(names) == 1:\n",
    "    first_name = names[0]\n",
    "    second_name = '-'\n",
    "    last_name = '-'\n",
    "    print(f'The First Name is: \\n{first_name} \\n')"
   ]
  },
  {
   "cell_type": "markdown",
   "id": "41a44d62",
   "metadata": {},
   "source": [
    " # Getting the DATES"
   ]
  },
  {
   "cell_type": "code",
   "execution_count": 10,
   "id": "b31b6a5f",
   "metadata": {},
   "outputs": [
    {
     "data": {
      "text/plain": [
       "'1956\\xa0-\\xa016.03.2022\\xa0Sandefjord'"
      ]
     },
     "execution_count": 10,
     "metadata": {},
     "output_type": "execute_result"
    }
   ],
   "source": [
    "all_dates = user_text[dp]('span')[0].getText()\n",
    "\n",
    "all_dates"
   ]
  },
  {
   "cell_type": "markdown",
   "id": "b4168de0",
   "metadata": {},
   "source": [
    "## ONLY DATE"
   ]
  },
  {
   "cell_type": "code",
   "execution_count": 11,
   "id": "f9c8957c",
   "metadata": {},
   "outputs": [
    {
     "data": {
      "text/plain": [
       "['1956', '16.03.2022']"
      ]
     },
     "execution_count": 11,
     "metadata": {},
     "output_type": "execute_result"
    }
   ],
   "source": [
    "date_list = all_dates.split()\n",
    "\n",
    "date_list.remove('-')\n",
    "\n",
    "date_list.pop()\n",
    "\n",
    "date_list"
   ]
  },
  {
   "cell_type": "code",
   "execution_count": 12,
   "id": "90a97cf8",
   "metadata": {},
   "outputs": [
    {
     "data": {
      "text/plain": [
       "'16.03'"
      ]
     },
     "execution_count": 12,
     "metadata": {},
     "output_type": "execute_result"
    }
   ],
   "source": [
    "only_date = date_list[1][:5]\n",
    "\n",
    "only_date"
   ]
  },
  {
   "cell_type": "markdown",
   "id": "a9ebdbc2",
   "metadata": {},
   "source": [
    "## YEAR OF BIRTH"
   ]
  },
  {
   "cell_type": "code",
   "execution_count": 13,
   "id": "931572de",
   "metadata": {},
   "outputs": [
    {
     "data": {
      "text/plain": [
       "'1956'"
      ]
     },
     "execution_count": 13,
     "metadata": {},
     "output_type": "execute_result"
    }
   ],
   "source": [
    "birth_year = date_list[0]\n",
    "\n",
    "birth_year"
   ]
  },
  {
   "cell_type": "markdown",
   "id": "ac089db2",
   "metadata": {},
   "source": [
    "## YEAR OF DEATH"
   ]
  },
  {
   "cell_type": "code",
   "execution_count": 14,
   "id": "42eccf0c",
   "metadata": {},
   "outputs": [
    {
     "data": {
      "text/plain": [
       "'2022'"
      ]
     },
     "execution_count": 14,
     "metadata": {},
     "output_type": "execute_result"
    }
   ],
   "source": [
    "death_year = date_list[1][6::]\n",
    "\n",
    "death_year"
   ]
  },
  {
   "cell_type": "markdown",
   "id": "61a150ac",
   "metadata": {},
   "source": [
    "## AGE OF DEATH"
   ]
  },
  {
   "cell_type": "code",
   "execution_count": 15,
   "id": "3734fb74",
   "metadata": {},
   "outputs": [
    {
     "data": {
      "text/plain": [
       "66"
      ]
     },
     "execution_count": 15,
     "metadata": {},
     "output_type": "execute_result"
    }
   ],
   "source": [
    "birth_year = int(birth_year)\n",
    "\n",
    "death_year = int(death_year)\n",
    "\n",
    "age = death_year - birth_year\n",
    "\n",
    "age"
   ]
  },
  {
   "cell_type": "markdown",
   "id": "70729dab",
   "metadata": {},
   "source": [
    "# Getting the PLACE "
   ]
  },
  {
   "cell_type": "code",
   "execution_count": 16,
   "id": "842867a8",
   "metadata": {},
   "outputs": [
    {
     "data": {
      "text/plain": [
       "'Sandefjord'"
      ]
     },
     "execution_count": 16,
     "metadata": {},
     "output_type": "execute_result"
    }
   ],
   "source": [
    "place_list = all_dates.split()\n",
    "\n",
    "place = place_list.pop()\n",
    "\n",
    "place"
   ]
  },
  {
   "cell_type": "markdown",
   "id": "6b609418",
   "metadata": {},
   "source": [
    "# Getting the TEXT"
   ]
  },
  {
   "cell_type": "markdown",
   "id": "183f12a0",
   "metadata": {},
   "source": [
    "## 1/5. We Get the Link to the Deceased's Page"
   ]
  },
  {
   "cell_type": "code",
   "execution_count": 17,
   "id": "cc40466f",
   "metadata": {},
   "outputs": [],
   "source": [
    "lnk = user_text[dp].find(href=True)\n",
    "\n",
    "link_two = lnk['href']"
   ]
  },
  {
   "cell_type": "code",
   "execution_count": 18,
   "id": "67a0954b",
   "metadata": {},
   "outputs": [
    {
     "name": "stdout",
     "output_type": "stream",
     "text": [
      "https://boebegravelse.vareminnesider.no/memorial_page/memorial_page_personal_info.php?order_id=4005086&set_site_id=208&cat=home&sign=6525af58d077c2083a6253af358a0540\n"
     ]
    }
   ],
   "source": [
    "print(link_two)"
   ]
  },
  {
   "cell_type": "markdown",
   "id": "f9f32638",
   "metadata": {},
   "source": [
    "## 2/5. We Use the Generated Link to Get to the Obituary Page"
   ]
  },
  {
   "cell_type": "code",
   "execution_count": 19,
   "id": "87edbdce",
   "metadata": {},
   "outputs": [],
   "source": [
    "response_two = requests.get(link_one)\n",
    "\n",
    "soup_two = bs4.BeautifulSoup(response_two.text, 'lxml')\n",
    "\n",
    "obituary = soup_two.select('.portal_buttons_box')\n",
    "\n",
    "lnk1 = obituary[dp].find(href=True)\n",
    "\n",
    "link_three = lnk1['href']"
   ]
  },
  {
   "cell_type": "code",
   "execution_count": 20,
   "id": "faf17f98",
   "metadata": {},
   "outputs": [
    {
     "name": "stdout",
     "output_type": "stream",
     "text": [
      "https://boebegravelse.vareminnesider.no/order_info.php?order_id=4005086&set_site_id=208&memorial_page_created=1&design=vareminnesider-no&sign=c0fc115d66b644771e5d61b8ad2fe93e\n"
     ]
    }
   ],
   "source": [
    "print(link_three)"
   ]
  },
  {
   "cell_type": "markdown",
   "id": "cccdadb2",
   "metadata": {},
   "source": [
    "## 3/5. We Pick the Link to the Image with the Text on the Obituary Page"
   ]
  },
  {
   "cell_type": "code",
   "execution_count": 21,
   "id": "5676c0c7",
   "metadata": {},
   "outputs": [],
   "source": [
    "response_three = requests.get(link_three)\n",
    "\n",
    "soup_three = bs4.BeautifulSoup(response_three.text, 'lxml')\n",
    "\n",
    "img_link = soup_three.findAll('img')[0]['src']"
   ]
  },
  {
   "cell_type": "code",
   "execution_count": null,
   "id": "721f4175",
   "metadata": {},
   "outputs": [],
   "source": []
  },
  {
   "cell_type": "code",
   "execution_count": null,
   "id": "0635e7dd",
   "metadata": {},
   "outputs": [],
   "source": []
  },
  {
   "cell_type": "code",
   "execution_count": 22,
   "id": "dbe1cd63",
   "metadata": {},
   "outputs": [
    {
     "name": "stdout",
     "output_type": "stream",
     "text": [
      "https://fe.adstate.net/stream_file.php?booking_id=2264160&type=ad_preview_image_print&sign=fbccb8d89a93ccc2f325e5a4e50428a2\n"
     ]
    }
   ],
   "source": [
    "print(img_link)"
   ]
  },
  {
   "cell_type": "code",
   "execution_count": 23,
   "id": "b56ad285",
   "metadata": {},
   "outputs": [],
   "source": [
    "zero_list = list(soup_three.select('.death_notice_hide'))"
   ]
  },
  {
   "cell_type": "code",
   "execution_count": 24,
   "id": "3fc06d00",
   "metadata": {},
   "outputs": [
    {
     "data": {
      "text/plain": [
       "True"
      ]
     },
     "execution_count": 24,
     "metadata": {},
     "output_type": "execute_result"
    }
   ],
   "source": [
    "blank_list = []\n",
    "\n",
    "blank_list == zero_list"
   ]
  },
  {
   "cell_type": "code",
   "execution_count": null,
   "id": "6d0de69e",
   "metadata": {},
   "outputs": [],
   "source": []
  },
  {
   "cell_type": "markdown",
   "id": "65aac18d",
   "metadata": {},
   "source": [
    "## 4/5. We Download the Image Using the Link to the Image"
   ]
  },
  {
   "cell_type": "code",
   "execution_count": 25,
   "id": "5a9871e4",
   "metadata": {},
   "outputs": [
    {
     "data": {
      "text/plain": [
       "165502"
      ]
     },
     "execution_count": 25,
     "metadata": {},
     "output_type": "execute_result"
    }
   ],
   "source": [
    "response_four = requests.get(img_link)\n",
    "\n",
    "img_file = open(f'{full_name}.jpg', 'wb')\n",
    "\n",
    "img_file.write(response_four.content)"
   ]
  },
  {
   "cell_type": "markdown",
   "id": "fcee6666",
   "metadata": {},
   "source": [
    "## 5/5. We Read the Text from the Image"
   ]
  },
  {
   "cell_type": "code",
   "execution_count": 26,
   "id": "3f9b502f",
   "metadata": {},
   "outputs": [],
   "source": [
    "from PIL import Image\n",
    "\n",
    "from pytesseract import pytesseract\n",
    "\n",
    "exe_path = r'C:/Program Files (x86)/Tesseract-OCR/tesseract.exe'\n",
    "\n",
    "image_path = img_file.name\n",
    "\n",
    "the_img = Image.open(image_path)\n",
    "\n",
    "pytesseract.tesseract_cmd = exe_path\n",
    "\n",
    "img_text = pytesseract.image_to_string(the_img)\n",
    "\n",
    "text_list = img_text[:-1].splitlines()\n",
    "\n",
    "all_text = ''\n",
    "\n",
    "for each_item in text_list:\n",
    "    all_text += each_item\n",
    "    \n",
    "img_file.close()"
   ]
  },
  {
   "cell_type": "markdown",
   "id": "5f705739",
   "metadata": {},
   "source": [
    "# Bringing Everything Together"
   ]
  },
  {
   "cell_type": "code",
   "execution_count": 27,
   "id": "7b798df2",
   "metadata": {},
   "outputs": [
    {
     "data": {
      "text/plain": [
       "[['OnlyDate',\n",
       "  'FirstName',\n",
       "  'SecondName',\n",
       "  'LastName',\n",
       "  'YearofBirth',\n",
       "  'YearofDeath',\n",
       "  'Age',\n",
       "  'Place',\n",
       "  'Text']]"
      ]
     },
     "execution_count": 27,
     "metadata": {},
     "output_type": "execute_result"
    }
   ],
   "source": [
    "deceased = []\n",
    "\n",
    "col_heads = ['OnlyDate', 'FirstName', 'SecondName', 'LastName', 'YearofBirth', 'YearofDeath', 'Age', 'Place', 'Text']\n",
    "\n",
    "deceased.append(col_heads)\n",
    "\n",
    "deceased"
   ]
  },
  {
   "cell_type": "code",
   "execution_count": 28,
   "id": "975e8375",
   "metadata": {},
   "outputs": [
    {
     "name": "stdout",
     "output_type": "stream",
     "text": [
      "Only Date: \n",
      "16.03\n",
      "\n",
      "First Name: \n",
      "Grethe\n",
      "\n",
      "Second Name: \n",
      "Berg\n",
      "\n",
      "Last Name: \n",
      "Hagerupsen\n",
      "\n",
      "Year of Birth: \n",
      "1956\n",
      "\n",
      "Year of Death: \n",
      "\n",
      "2022\n",
      "\n",
      "Age: \n",
      "66\n",
      "\n",
      "Place: \n",
      "Sandefjord\n",
      "\n",
      "Text: \n",
      "C?Min kjaere, Varme kone,Véir kjaere mamma,svigermor, farmer, oldemor,sqaster, svigerinne og tanteGrethe BergHagerupsenf¢dt 16. august 1956sovnet fredfullt innetter lang tids sykdom.Sandefjord, 16. mars 2022.Hwyt var du elsket,dypt blir du savnet.GunnarTommy CherrylRichardGunnhild NidalBarnebarn og oldebarnElse Unni (sgzbster)Qvrig familieBisettes fra Orelund kapellfredag 1. april kl. 12.00.Like kjaert som blomsterer en gave til LHL.boebegI'aVelse.n0\n"
     ]
    }
   ],
   "source": [
    "print(f'Only Date: \\n{only_date}\\n')\n",
    "\n",
    "print(f'First Name: \\n{first_name}\\n')\n",
    "\n",
    "print(f'Second Name: \\n{second_name}\\n')\n",
    "\n",
    "print(f'Last Name: \\n{last_name}\\n')\n",
    "\n",
    "print(f'Year of Birth: \\n{birth_year}\\n')\n",
    "\n",
    "print(f'Year of Death: \\n\\n{death_year}\\n')\n",
    "\n",
    "print(f'Age: \\n{age}\\n')\n",
    "\n",
    "print(f'Place: \\n{place}\\n')\n",
    "\n",
    "print(f'Text: \\n{all_text}')"
   ]
  },
  {
   "cell_type": "code",
   "execution_count": null,
   "id": "90dbbeba",
   "metadata": {},
   "outputs": [],
   "source": []
  },
  {
   "cell_type": "code",
   "execution_count": 29,
   "id": "86f51344",
   "metadata": {},
   "outputs": [
    {
     "data": {
      "text/plain": [
       "['16.03',\n",
       " 'Grethe',\n",
       " 'Berg',\n",
       " 'Hagerupsen',\n",
       " 1956,\n",
       " 2022,\n",
       " 66,\n",
       " 'Sandefjord',\n",
       " \"C?Min kjaere, Varme kone,Véir kjaere mamma,svigermor, farmer, oldemor,sqaster, svigerinne og tanteGrethe BergHagerupsenf¢dt 16. august 1956sovnet fredfullt innetter lang tids sykdom.Sandefjord, 16. mars 2022.Hwyt var du elsket,dypt blir du savnet.GunnarTommy CherrylRichardGunnhild NidalBarnebarn og oldebarnElse Unni (sgzbster)Qvrig familieBisettes fra Orelund kapellfredag 1. april kl. 12.00.Like kjaert som blomsterer en gave til LHL.boebegI'aVelse.n0\"]"
      ]
     },
     "execution_count": 29,
     "metadata": {},
     "output_type": "execute_result"
    }
   ],
   "source": [
    "record = [only_date, first_name, second_name, last_name, birth_year, death_year, age, place, all_text]\n",
    "\n",
    "record"
   ]
  },
  {
   "cell_type": "code",
   "execution_count": null,
   "id": "2aa8973a",
   "metadata": {},
   "outputs": [],
   "source": []
  },
  {
   "cell_type": "code",
   "execution_count": null,
   "id": "717f77a7",
   "metadata": {},
   "outputs": [],
   "source": []
  },
  {
   "cell_type": "code",
   "execution_count": 30,
   "id": "e8ab792b",
   "metadata": {},
   "outputs": [
    {
     "data": {
      "text/plain": [
       "[['OnlyDate',\n",
       "  'FirstName',\n",
       "  'SecondName',\n",
       "  'LastName',\n",
       "  'YearofBirth',\n",
       "  'YearofDeath',\n",
       "  'Age',\n",
       "  'Place',\n",
       "  'Text'],\n",
       " ['16.03',\n",
       "  'Grethe',\n",
       "  'Berg',\n",
       "  'Hagerupsen',\n",
       "  1956,\n",
       "  2022,\n",
       "  66,\n",
       "  'Sandefjord',\n",
       "  \"C?Min kjaere, Varme kone,Véir kjaere mamma,svigermor, farmer, oldemor,sqaster, svigerinne og tanteGrethe BergHagerupsenf¢dt 16. august 1956sovnet fredfullt innetter lang tids sykdom.Sandefjord, 16. mars 2022.Hwyt var du elsket,dypt blir du savnet.GunnarTommy CherrylRichardGunnhild NidalBarnebarn og oldebarnElse Unni (sgzbster)Qvrig familieBisettes fra Orelund kapellfredag 1. april kl. 12.00.Like kjaert som blomsterer en gave til LHL.boebegI'aVelse.n0\"]]"
      ]
     },
     "execution_count": 30,
     "metadata": {},
     "output_type": "execute_result"
    }
   ],
   "source": [
    "deceased.append(record)\n",
    "\n",
    "deceased"
   ]
  },
  {
   "cell_type": "markdown",
   "id": "e933ca7d",
   "metadata": {},
   "source": [
    "# Getting the First 50 records into a List"
   ]
  },
  {
   "cell_type": "code",
   "execution_count": 31,
   "id": "f27bd5f3",
   "metadata": {},
   "outputs": [
    {
     "data": {
      "text/plain": [
       "[['OnlyDate',\n",
       "  'FirstName',\n",
       "  'SecondName',\n",
       "  'LastName',\n",
       "  'YearofBirth',\n",
       "  'YearofDeath',\n",
       "  'Age',\n",
       "  'Place',\n",
       "  'Text'],\n",
       " ['18.03', 'Torbjørn', 'Berg', 'Sakkestad', 1934, 2022, 88, 'Stavanger', '-'],\n",
       " ['16.03', 'Else', 'Marie', 'Jakobsen', 1934, 2022, 88, 'Drammen', '-'],\n",
       " ['17.03',\n",
       "  'Nancy',\n",
       "  'Debess',\n",
       "  'Riste',\n",
       "  1930,\n",
       "  2022,\n",
       "  92,\n",
       "  'Ålesund',\n",
       "  'TMi kja-:-re mor,véir gode og snille svigerrnor,bestemor, svigerinne og tanteNancy DebessRistef. 12. juli 1930sovna stilt inn i trua péi Jesus.Alesund 17. mars 2022.Petra GeirVegard og Pei, Kathrine,Anne MartheGvrige familieDu sovnet szi stilleda reisen var slutt,fra alt som deg plaget,mi hviler du ut.Vi unner deg hvilen,men savner deg sci.Takk for all kjaarlighetdu lot ossfci.Gravferd fréi Volsdalen kirkefredag 25. mars kl. 10.30.Minnegéive til menighetspleienililesund, vipps 623207, mrk.”minneg§1ve Nancy Riste”.bbsunnmoreno/minnesider'],\n",
       " ['15.03',\n",
       "  'Herlof',\n",
       "  'Arne',\n",
       "  'Gjerde',\n",
       "  1936,\n",
       "  2022,\n",
       "  86,\n",
       "  'Oslo',\n",
       "  '‘I’V5.1‘ kjaere pappa,svigerfar, bestefar.oldefar og brorHerlof ArneGjerdefradt 25. desember 1936,pix Lax-snes,sovnet stille inn etter entids sykdom.Oslo15. mars 2022.Anita. GivindGreteMari, EspenNoah, I-[ennieEdna, Anne Margrete,Ingerﬂvrig familie og vennerBegraves fraHaybréten kirkeonsdag 30. marskl. 10.00.Srargeheytidelighetenavsluttes ved graven.fonus.no'],\n",
       " ['18.03', 'Hans', 'Morten', 'Kind', 1959, 2022, 63, 'Bergen', '-'],\n",
       " ['20.03', 'Ola', 'Morten', 'Damsgård', 1939, 2022, 83, 'Kleppe', '-'],\n",
       " ['17.03', 'Astrid', 'Nora', 'Solbrekken', 1935, 2022, 87, 'Bagn', '-'],\n",
       " ['18.03',\n",
       "  'Tordis',\n",
       "  'Nora',\n",
       "  'Tråserud',\n",
       "  1929,\n",
       "  2022,\n",
       "  93,\n",
       "  'Notodden',\n",
       "  'TV2°1r kjeere mamma,svigermor, gommo, oldemor,svigerinne og [anteTordis Tréserudfwdt I0. mars 1929dgbde fra oss i dag.Hedda] 18. mars 2022.J orun PerBjgarg J yarnGunlaug AlexanderMargit RoaldBarnebarn og oldebarnQvrige familieBegraves fra Heddal kapellonsdag 30. mars kl. 11.00med nmrmeste familie til stede.Minneside pékongsgaardbegraVe1se.n0'],\n",
       " ['14.03',\n",
       "  'Kari',\n",
       "  'Nora',\n",
       "  'Sundvall',\n",
       "  1938,\n",
       "  2022,\n",
       "  84,\n",
       "  'Oslo',\n",
       "  'Y‘Min kjaere mamma,vzir gode mormor ogsvigermor, sraster, tanteog Vér alles kjaereKari Sundvallfrzzdt 3. mai 1938,dmde stilleen vakker vérdag14. mars 2022.Takk for alle ﬁne dr,gode minner oginderlig kjoerlighet.Marianne KnutJulieBente VictoriaNina med familieﬂvrig familieBisettes fra Vestregravlunds kapelltirsdag 22. marskl. 10.00jo1stad.no'],\n",
       " ['14.03',\n",
       "  'Tor',\n",
       "  'Øivind',\n",
       "  'Hushagen',\n",
       "  2002,\n",
       "  2022,\n",
       "  20,\n",
       "  'Åsgreina',\n",
       "  '®i?g@Var kjeere s¢nn,Var bror, svoger,onkel Toro, barnebarn og nevszﬁTor ﬂivind Hushagenfgzsdt 1. august 2002han valgte éi forlate livet14. mars 2022.Et hjerte av godhethar sluttet £2 slci.En gavmild hcind har dovnet.Vondt £2 misze, vondt éi forszci,men fred du ﬁkk da du sovnet.Liv og MortenRolf Christian 0g CathrineArne Martin og NinniKai SigurdLinn Emilie, Thea, Aurora,V2°1r 0g Julian, SolveigOvrige familieBegraves fra Holter kirketirsdag 29. mars kl. 13.00.Kom gjerne i lyse farger.I stedet for blomster Qsnskes engave til Nannestad kriseteam.Surgehgzsytideligheten avsluttesVed graven.minneside: 0stengen.no'],\n",
       " ['18.03', 'Arild', 'Øivind', 'Skeie', 1957, 2022, 65, 'Nærbø', '-'],\n",
       " ['19.03',\n",
       "  'Trygve',\n",
       "  'Øivind',\n",
       "  'Imsland',\n",
       "  1953,\n",
       "  2022,\n",
       "  69,\n",
       "  'Stavanger',\n",
       "  'Q?Véir inderlig kjaere og godepappa, svigerfar, morfar,farfar, bror, svoger,onkel og VennTrygve Imslandf(2)dt 02.11.1953sovnet stille inn,Stavanger 19. mars 2022Takkfor alt,for oss var duden aller beste.Stine og MarkoJorgen og CathrineMadelen, Sienna, Isak(Dvrige familie og vennerBisettes i Eiganes kapelltorsdag 24. mars kl. 11.00.minneside pii hafrsﬁordno'],\n",
       " ['19.03',\n",
       "  'Målfrid',\n",
       "  'Elisabeth',\n",
       "  'Lervik',\n",
       "  1934,\n",
       "  2022,\n",
       "  88,\n",
       "  'Kyrksæterøra',\n",
       "  '“ﬁxVﬁr kj aere mamma,svigermor, mormor,bestemor, oldemorMélfrid ElisabethLervikf. 10.12.1934drade fra oss.Kyrksaetemra, 19. mars 2022.Zxshiid HenryLiv Anne KristianArne Morten Linda AnitaCecilieMildri KristofferSivertAslaug OttarAsbjxarnTorbjtzirn og JennyQvrige familieLang var din sykdom,tﬁlmodig du led.Hvil mi ifred.Begravelse fra Hemne kirkefredag 25. mars kl. 13.00.Alle er velkommen i kirkenog til minnesamvaer paHotell Koselig.Like kjaert som blomsterer en gave tilHjemmesykepleien kontonr:4312.15.89800 merkesMﬁlfrid Elisabeth Lervik.Vennligst ingen kondolanseved graven.Bertelsen Gravferd'],\n",
       " ['19.03',\n",
       "  'Aud',\n",
       "  'Elisabeth',\n",
       "  'Bjørshol',\n",
       "  1930,\n",
       "  2022,\n",
       "  92,\n",
       "  'Kyrksæterøra',\n",
       "  '22%’V51\" alles kjaereAud \"Li||emor\"Bjarsholf. 27.9.1930sovnet stille inn.Kyrksaetemra, 19. mars 2022.Marit (svigerinne)Nieser og nevyaerQvrige familieTakk for alt.Begravelse fra Hemne kirkefredag 25. mars kl. 10.30.Alle som Vil fralge Aud tilsiste hvile er Velkommen.Minnehtaytidelighetenavsluttes ved graven.I steden for blomster rzanskesen minnegave til Heimhelsesenter avd. Kyrksaetemrakontonr: 4312.15.89800merkes Aud Bjgrshol.Bertelsen Gravferd'],\n",
       " ['17.03',\n",
       "  'Marit',\n",
       "  'Elisabeth',\n",
       "  'Nedrevaag',\n",
       "  1944,\n",
       "  2022,\n",
       "  78,\n",
       "  'Kvinnherad',\n",
       "  'TVéir kj aare scaster,svigerinne og tanteMarit Nedrevaagf 21.01.1944dtaydde fréi oss idag17. mars 2022,Odda sjukehus/Husnes.Ingeborg — ArvidOddvar — UnniKarinTantebarnSlekta ellesDu sovna sci stille.Kvil no ifred.Gravferd fré Husnes kyrkjetysdag 29. mars kl. 11.00.Alle som ynskjer 5 fylgja Marittil grava er hjarteleg Velkomne.Minnestunda Vertavslutta ved grava.Det er opprettaminneside for Marit pii:hk—byraa.no'],\n",
       " ['16.03',\n",
       "  'Erna',\n",
       "  'Elisabeth',\n",
       "  'Valseth',\n",
       "  1925,\n",
       "  2022,\n",
       "  97,\n",
       "  'Røros',\n",
       "  'TVéir kj aare scaster,svigerinne og tanteMarit Nedrevaagf 21.01.1944dtaydde fréi oss idag17. mars 2022,Odda sjukehus/Husnes.Ingeborg — ArvidOddvar — UnniKarinTantebarnSlekta ellesDu sovna sci stille.Kvil no ifred.Gravferd fré Husnes kyrkjetysdag 29. mars kl. 11.00.Alle som ynskjer 5 fylgja Marittil grava er hjarteleg Velkomne.Minnestunda Vertavslutta ved grava.Det er opprettaminneside for Marit pii:hk—byraa.no'],\n",
       " ['18.03',\n",
       "  'Camilla',\n",
       "  'Nilsen',\n",
       "  'Sveum',\n",
       "  1995,\n",
       "  2022,\n",
       "  27,\n",
       "  'Kongsvinger',\n",
       "  ' Var kjaere Camilla,soster, barnebarn, tante,niese, szskenbarnog Var alles kjaereCamilla NilsenSveumf0dt15. oktober 1995sovnet stille inn.Kongsvinger 18. mars2022.Vi savner deg,hvi I i ﬂed.Heidi og Thorstein(mor og far)Thomas CamillaThor Erik HegeLivAge Viggo og GretheTanter, onkler,tantebarn, saskenbarnBegravelsen vil finnested ved Vinger kirketirsdag 29. mars kl. 13.00.Like kjaert som blomstertanskes en gave tilGullivegen avlastning,Kongsvinger kommunekonto 18704615473Begravelsesbyraet AnnKristin Harbosen as '],\n",
       " ['20.03',\n",
       "  'Elnor',\n",
       "  'Bergljot',\n",
       "  'Næss',\n",
       "  1932,\n",
       "  2022,\n",
       "  90,\n",
       "  'Steinsdalen',\n",
       "  '(WV511“ alles kjaere MOR,mamma, svigermor, saster,svigerinne og tanteElnor Bergljot Naessf. 11.9.1932sovnet stille inn.Steinsdalen, 20. mars 2022.Arvid TorillSigbjvzsrn SymwveBrit SteinarArild Anne KatrineJan Tore, May-Britt,Siv Anita, Eli Kristin,Raymond, Sigbj;z:rn—Martin,Lene, Lisbeth, Marie, Tine,Vegard, JtzirgenOldebarnQvrig familieStille suser lraarne rundthjemmet du elsket,farvel nikker blomstenedu vernet szi tro.Takk kvitrerfuglenedu var szi glad i.M ildt hvisker vinden;sov i ro.Begravelse fra Osen kirke,tirsdag 29. mars kl. 13.00. Allesom Vil fyzalge Mor til sitt sistehvilested, er velkommen ikirken. Srzsrgehzaytidelighetenavsluttes ved graven.Like kjaert som blomster, eren gave til Osen sykehjem.Kontot 4360 46 60123.Bjzrmar begravelsesbyrﬁMinneside :www.begrave1sesbyraene.no'],\n",
       " ['18.03',\n",
       "  'Aashild',\n",
       "  'Bergljot',\n",
       "  'Sund',\n",
       "  1932,\n",
       "  2022,\n",
       "  90,\n",
       "  'Rissa',\n",
       "  '(WV511“ alles kjaere MOR,mamma, svigermor, saster,svigerinne og tanteElnor Bergljot Naessf. 11.9.1932sovnet stille inn.Steinsdalen, 20. mars 2022.Arvid TorillSigbjvzsrn SymwveBrit SteinarArild Anne KatrineJan Tore, May-Britt,Siv Anita, Eli Kristin,Raymond, Sigbj;z:rn—Martin,Lene, Lisbeth, Marie, Tine,Vegard, JtzirgenOldebarnQvrig familieStille suser lraarne rundthjemmet du elsket,farvel nikker blomstenedu vernet szi tro.Takk kvitrerfuglenedu var szi glad i.M ildt hvisker vinden;sov i ro.Begravelse fra Osen kirke,tirsdag 29. mars kl. 13.00. Allesom Vil fyzalge Mor til sitt sistehvilested, er velkommen ikirken. Srzsrgehzaytidelighetenavsluttes ved graven.Like kjaert som blomster, eren gave til Osen sykehjem.Kontot 4360 46 60123.Bjzrmar begravelsesbyrﬁMinneside :www.begrave1sesbyraene.no'],\n",
       " ['15.03',\n",
       "  'Knut',\n",
       "  'Henning',\n",
       "  'Øvermo',\n",
       "  1955,\n",
       "  2022,\n",
       "  67,\n",
       "  'Fredrikstad',\n",
       "  'TVéir rause, gode pappa0g Vﬁr beste Venn,omsorgsfulle svigerfar,Véir hgzsyt elskedebror og onkelKnut HenningQvermofqsdt 16. februar 1955trakk fredfullt sitt siste pust.15. mars 2022.Tidlig borte,aldri glemz.AudunIngvild MikaelH:°1k0n, Aase, Mona, TorilNieser og nevgaerBisettes i Kréikergsy kirkeonsdag 30. mars kl. 12.30.www.fredrik.vtadbeg.n0'],\n",
       " ['14.03', 'Idar', 'Henning', 'Gåre', 1947, 2022, 75, 'Stavanger', '-'],\n",
       " ['18.03',\n",
       "  'Roger',\n",
       "  'Thorvald',\n",
       "  'Olsen',\n",
       "  1944,\n",
       "  2022,\n",
       "  78,\n",
       "  'Vadsø',\n",
       "  '@Min elskede mann,vér kjaere pappa/bonuspappa, svigerfar,bestefar, bror, svoger 0g onkelRoger Thorvald Olsenfgzsdt 14. oktober 1944, forlot oss 18. mars 2022.Hvor tzmgt 0g ¢de, hvor trist her hjemme,mir den vi elsket forlatt ass hat:Ei mer a° h¢re din kjwre stemme,en takk til deg for alt dez‘ du vanStille du led. Du glemmes ei.AstridektefelleJill Hege Knut OttoFrank Roger LinnKarl RubenHelge AnitaTomasMorten Idabarn svigerbamArja, Ellinor, Mariel], Irvin André,Sander, Mina, Anjabarnebarn/bonusbarnebarnQvrige familieBegraves fra Vadsgb kirke tirsdag 29. mars kl. 13.00.Streames péi wWW.Vadso—begrave1se.n0'],\n",
       " ['15.03',\n",
       "  'Werner',\n",
       "  'Thorvald',\n",
       "  'Bergersen',\n",
       "  1941,\n",
       "  2022,\n",
       "  81,\n",
       "  'Auli',\n",
       "  'Véir alles kjaereWernerBergersenfgidt 7. november 1941,d¢de fra oss i sitt hjemAuli, 15. mars 2022.David AgoritsaGeir AnneVigdis CatoIren KjellCecilie, Mariann, Mikael,Susanne, Kristine, Henrik,Georg, Christer, Henriette,Oscar, Julieﬂvrig familieBegraves fraBetelkirken, Aulionsdag 23. mars kl. 10.30.Bfiren fgzsres tilAuli kirkegéird.I stedet for blomsterkan det gis en gave tilBetelkirken Auli,Vipps 109335.Se minneside: nilsengravferdno'],\n",
       " ['16.03', 'Bjørg', 'Thorvald', 'Klausen', 1931, 2022, 91, 'Mjøndalen', '-'],\n",
       " ['17.03', 'Ruth', 'Thorvald', 'Andresen', 1928, 2022, 94, 'Oslo', '-'],\n",
       " ['12.03',\n",
       "  'Malene',\n",
       "  'Bendikte',\n",
       "  'Marthinsen',\n",
       "  1940,\n",
       "  2022,\n",
       "  82,\n",
       "  'Oslo',\n",
       "  '‘I’Min kjaere koneMalene BendikteMarthinsenfxadt 14. juli 1940,dude fra meg i dag.12. mars 2022.KnutBegraves fraﬂstre Aker kirkeonsdag 30. marskl. 12.00.jo1stad.no'],\n",
       " ['16.03',\n",
       "  'Roar',\n",
       "  'Bendikte',\n",
       "  'Haaland',\n",
       "  1939,\n",
       "  2022,\n",
       "  83,\n",
       "  'Nesodden',\n",
       "  ':4?Var alles kjaereRoar Haalandfcodt 7. juli 1939,dude fra oss i dag.Nesodden,16. mars 2022.Inger MetteCamillaTorill ChrisHelge KaterinaAmanda, Olivia og Irmaog avrig familieBisettes fraNesodden Menighetshusman. 28. mars kl. 12.00Se minnesiden pa jolstad.no'],\n",
       " ['16.03',\n",
       "  'Lilli',\n",
       "  'Bendikte',\n",
       "  'Gjessing',\n",
       "  1935,\n",
       "  2022,\n",
       "  87,\n",
       "  'Drammen',\n",
       "  'ﬁgVar kjaere mor, svigermorog bestemorLilli Gjessingfﬂdt 14. mars 1935dode fredfullt i dag.Vi vil huske deg med gledeDrammen, 16. mars 2022RuneSiriElise, ErikOlav, Marie, EivindBisettes i Drammenkrematorium store kapelltorsdag 31. mars kl. 14.00.En stor takk til Sanitetenbo—og servicesenteravd. Solstua C for megetgod pleie og ornsorg.Like kjaert som blomsterer en gave tilDramrnen Sanitetsforening,Villa Fredrikke aktivitetshusfor personer med demens.Gaven kan gis paminnesiden til Lilli pabuskerudbegravelseno'],\n",
       " ['14.03',\n",
       "  'Egil',\n",
       "  'Bendikte',\n",
       "  'Iversen',\n",
       "  1924,\n",
       "  2022,\n",
       "  98,\n",
       "  'Tertnes',\n",
       "  'TVér alles kjaereEgil Iversenf. 05.08.1924sovnet stille inn i dagetter kort tids sykeleie.Midtbygda sykehjem14. mars 2022.Taklc for altdu var for oss.NinaOleIngrid, Eva 6Ellen, Ragnhild, AseQvrige familie.O Bisettesi Asane Gamle kirkefredag 25. mars kl. 14.00.'],\n",
       " ['16.03',\n",
       "  'Leidulf',\n",
       "  'Bendikte',\n",
       "  'Røysland',\n",
       "  1951,\n",
       "  2022,\n",
       "  71,\n",
       "  'Søreidgrend',\n",
       "  'iMin kiaere bror og snilleonkel. Vér alles kjaereLeidulf Royslandf. 15.03.1951dlzide fra oss i dag.Stareidgrend16. mars 2022.De trette lemmerhar lagt seg til hvile,deﬂittige henderhar lagt seg til r0.Takk for alt.AdaAnita — Jczirgen Andre(Zivrige familie og VennerBisettes i Lille kapell,Mczbllendalfredag 25. mars kl. 14.30.Seremonienavsluttes i kapellet'],\n",
       " ['15.03',\n",
       "  'Leiv',\n",
       "  'Theodor',\n",
       "  'Håvardsthun',\n",
       "  1924,\n",
       "  2022,\n",
       "  98,\n",
       "  'Sandsli',\n",
       "  'TVér kjaere bror, svogerog onkelLeiv TheodorHéivardsthunf. 15.10.1924sovnet stille inn i dag.Sandsli Bo— ogAl<tiVitetssenter/Blomsterdalen,15. mars 2022.En sliten kroppharfunnetfred,en valc/cer sjelharﬂwyet av stedAslaug — Hans+J ostein — GerdMathilde+ — Arne+Ruth — Gunnar+Erna — AndersiI<onstanse+ — HelgeElse Marie — Tore+Roald — AgnesRagnhildNieser og nevaerBisettes i Fana kirkefredag 25. mars kl. 10.00.Se Leiv sin minneside péwWw.dahlsbegraVelse.no'],\n",
       " ['14.03',\n",
       "  'Ola',\n",
       "  'Theodor',\n",
       "  'Bontveit',\n",
       "  1932,\n",
       "  2022,\n",
       "  90,\n",
       "  'Kalandseidet',\n",
       "  'TVér kjaere far,svigerfar, morfar, besten,farfar og oldefarOla Bontveitf. 21.05.1932sovnet stille inn14. mars 2022.Er strevsomt liv harebbet ut, en ﬂittig hdndhar dovnet.Din arbeidsdag har ndtart slutt,din: gode hjerte sovnet.Else — RogerSolveig — SteinarNils Johan — KjerstiArne — JanneBarnebarn og oldebarn(bvrige familie og VennerBegraves fra Fana kirkefredag 25. mars kl. 12.00.'],\n",
       " ['18.03',\n",
       "  'Brose',\n",
       "  'Johanne',\n",
       "  'Pettersen',\n",
       "  1923,\n",
       "  2022,\n",
       "  99,\n",
       "  'Trondheim',\n",
       "  'TVér kjaere far,svigerfar, morfar, besten,farfar og oldefarOla Bontveitf. 21.05.1932sovnet stille inn14. mars 2022.Er strevsomt liv harebbet ut, en ﬂittig hdndhar dovnet.Din arbeidsdag har ndtart slutt,din: gode hjerte sovnet.Else — RogerSolveig — SteinarNils Johan — KjerstiArne — JanneBarnebarn og oldebarn(bvrige familie og VennerBegraves fra Fana kirkefredag 25. mars kl. 12.00.'],\n",
       " ['05.03',\n",
       "  'Arne',\n",
       "  'Walther',\n",
       "  'Pettersen',\n",
       "  1930,\n",
       "  2022,\n",
       "  92,\n",
       "  'Kristiansand',\n",
       "  'TMin kjaere mann, vér kjaerefar, svigerfar og farfarArne W.Pettersenfadt 9. mars 1930sovnet stille inn i dag.Kristiansand, 5. mars 2022ElbjcargKnut RosemarieKjetilBegravelsen har funnet stedi stillhet.Minneside pé www.and5s.no '],\n",
       " ['16.03',\n",
       "  'Snefrid',\n",
       "  'Walther',\n",
       "  'Olsen',\n",
       "  1948,\n",
       "  2022,\n",
       "  74,\n",
       "  'Kvæfjord',\n",
       "  'TVér kjaereSnefrid Olsenftadt 1. januar 1948dode 16. mars 2022.Kvaefjord, T1‘0II1S(Z), MossHuil ifredGudmund HilbjorgbrorHergunnkusineVenner péi Husby bosenter(Dvrig familieBisettes fra Kvaefjord kirkefredag 25. mars kl. 11.00.Minneside pé nathanie1sen.no '],\n",
       " ['17.03', 'Grethe', 'Walther', 'Ystebø', 1943, 2022, 79, 'Tertnes', '-'],\n",
       " ['16.03',\n",
       "  'Morten',\n",
       "  'Anton',\n",
       "  'Midttveit',\n",
       "  1930,\n",
       "  2022,\n",
       "  92,\n",
       "  'Bergen',\n",
       "  '‘rVér1<jaere far,svigerfar, farfar,morfar, oldefar,bror, svoger og onkelMorten AntonMidttveitf. 21.04.1930sovnet stilleinn hjemme16. mars 2022.Sci kom dagenog siste timen,livers veitil ende var.Takk for dager,takk for minner,takk for altcm for 053 var.Geir Morten — TrineSteinar — Anne HildeJannicke — IngveBarnebarn og oldebarnIngrid — Leif(bvrige familie og Venner.Bisettes iFyllingsdalen kirkefredag 25. mars kl. 12.00.Like kjaert somblomster er en gavetil kreftforeningen.Kontonr5005.05.05151/vipps 2288www.abbedissen.no'],\n",
       " ['16.03',\n",
       "  'Målfrid',\n",
       "  'Jåsund',\n",
       "  'Byberg',\n",
       "  1943,\n",
       "  2022,\n",
       "  79,\n",
       "  'Sola',\n",
       "  'TVéir kjare mor, svigermor,farmor, oldemor, soster,svigerinne og tanteMﬁlfrid Bybergf(2)dt Jﬁsundsovnet stille inn i dag,78 51‘ gammel.Soltun sykehjeml 5012116. mars 2022Takkfor alle gode mirmerOve - SolveigAudun - KanidthaIngve - SontayaSiv Maren og Kjetil,Kate Iren og Helge,Michelle, CamillaSynne, Tage, Une,Even, Linnea(Dvrige familieBegraves fra Rage kirketorsdag 24. mars kl. 10.30.www.obed.no'],\n",
       " ['15.03',\n",
       "  'Hilde',\n",
       "  'Eriksen',\n",
       "  'Bjørtuft',\n",
       "  1952,\n",
       "  2022,\n",
       "  70,\n",
       "  'Lillehammer',\n",
       "  '(9Min kj zereste, vakrestekone og beste Venn.V2°1r elskede mamma.Vﬁr gode svigermor,s¢ster, svigerinne og tante.Vér uerstattelige mormor.Hilde Eriksen Bjgzirtuftf¢dt 8. november 1952sovnet fredelig inn15. mars 2022.Din styrke var Imik.Ditt hjerle var fjxltmed omsorg 0g godhetfor alle rundt deg.Vi vil minnes deg ikjcerlighet og takknemlighet.AndreasLars RitaLina EspenJulie HaakonSophia 0g JuliaQvrig familie og vennerBisettes fra Lillehammer kirkefredag 25. mars kl. 12.30.Like kjaert som blomsterer en gave til Kreftforeningen.Gaven kan gis til konto5005 05 05151 eller Vipps 2288,merkes Hilde Eriksen Bjqsrtuft.'],\n",
       " ['18.03',\n",
       "  'Marit',\n",
       "  'Betsy',\n",
       "  'Sandal',\n",
       "  1931,\n",
       "  2022,\n",
       "  91,\n",
       "  'Stamnes',\n",
       "  'TMi kjaere syster ogsvigerinne,Var festlege tante,Vért kjaere syskenbarnMarit BetsySandalf. 29.03.1931deiydde fredfulltVaksdal sjukeheim/Stamnes18. mars 2022.Sveinung og LillaBarge, Yngve,Sigurd GauteSyskenbornHan fwrer deg frelstoverfjorden,heiltfram til denhimmelske strand.Ndr dwden sinbrottsjw du matervil Jesus drabdten i land.Gravferd fréStamnes kyrkjetorsdag 24. mars kl. 11.00.Minnestund i Stamnesbedehus for dei som haranledning til £1 Vera med.Like kjaert som blomarer ei gave til Irgalemsjul<ehus i Etiopia.Kontonr. 97755984233Det er oppretta minnesidefor Marit pé\\\\ WWW.nordh—bb.noEin Varm takk til Vaksdalsjukeheim for godomsorg og pleie!'],\n",
       " ['16.03',\n",
       "  'Svein',\n",
       "  'Betsy',\n",
       "  'Waale',\n",
       "  1936,\n",
       "  2022,\n",
       "  86,\n",
       "  'Kragerø',\n",
       "  '1‘Min kjaere mann,vér gode snille far, svigerfar,bestefar og oldefar,Svein Waalefiadt 8. mai 1936drade fra oss i dag.Kragere, 16. mars 2022AstridTerje AneSvend TordisKnut SelengeBarnebarn og oldebarnﬂvrige familieBisettes i Kragerei kapellfredag 25. mars kl. 13.00.Vennligst ingen blomstertil hjemmet. '],\n",
       " ['16.03',\n",
       "  'Stein',\n",
       "  'Aksel',\n",
       "  'Hoel',\n",
       "  1955,\n",
       "  2022,\n",
       "  67,\n",
       "  'Molde',\n",
       "  'TVér kjzere far, svigetfar,bror og onkelStein Aksel Hoelf¢dt 7. oktober 1955dsade fra ossMolde 16. mars 2022.Marita B j urnarFredrikAge Andre Anne-Kari TIreneQvrige familieDez led mot aften,din sol gikk ned.Din smerte stilnet,0g du ﬁkkfred.Bisettelse fra Rqibekk kirkefredag 25. mars kl. 10.30En stor takk til hjemmetjenestenfor god pleie og omsorg.kirkelandno'],\n",
       " ['17.03',\n",
       "  'Johan',\n",
       "  'E.',\n",
       "  'Haugen',\n",
       "  1940,\n",
       "  2022,\n",
       "  82,\n",
       "  'Kvanne',\n",
       "  ' V51 alles kjaereJohan E. Huugenf;/ﬁdt 1. mai 1940dqsde plutselig fra oss i dag.Kvanne, 17. mars 2022.HaldisTerje LailaHelgeEvaKirstenHege, Sunniva,Jan Erik, Kristine, Maylinn,Maja, Melissa, IdalillOline, Niclas,Linnea, Ada, Emilie, Ella(Zivrige familieW takker deg for alle gode mirmer.Hvil i fred.Alle som Vil fgblge Johan tilgraven, er hjertelig velkommen tilbegravelse fra Stangvik kirketorsdag 24. mars kl. 12.Surnada1&Rindal Begravelsesbyréi'],\n",
       " ['16.03',\n",
       "  'Jan',\n",
       "  'Birger',\n",
       "  'Berg',\n",
       "  1951,\n",
       "  2022,\n",
       "  71,\n",
       "  'Selbu',\n",
       "  ' V51 alles kjaereJohan E. Huugenf;/ﬁdt 1. mai 1940dqsde plutselig fra oss i dag.Kvanne, 17. mars 2022.HaldisTerje LailaHelgeEvaKirstenHege, Sunniva,Jan Erik, Kristine, Maylinn,Maja, Melissa, IdalillOline, Niclas,Linnea, Ada, Emilie, Ella(Zivrige familieW takker deg for alle gode mirmer.Hvil i fred.Alle som Vil fgblge Johan tilgraven, er hjertelig velkommen tilbegravelse fra Stangvik kirketorsdag 24. mars kl. 12.Surnada1&Rindal Begravelsesbyréi'],\n",
       " ['17.03',\n",
       "  'Sverre',\n",
       "  'Birger',\n",
       "  'Gjørven',\n",
       "  1943,\n",
       "  2022,\n",
       "  79,\n",
       "  'Stryn',\n",
       "  'VVéir gode og snille onkelSverre Gjqzirvendgbydde fréi oss i dag,78 ﬁr gammal.Stryn omsorgssenter,17. mars 2022.Ove MagnarAnne Ingrid — Jan AreJonas, Peder, Pia Olinegzivrige familieMirmast i kjazrleik.Gravferd fr2°1 Nedstryn kyrkjefredag 25. mars kl 12.00.Alle er hjarteleg velkomne.Like kjmrt som blomar er eigéive til Stryn omsorgssenter.Géiva kan ein gje i kyrkjaeller péi Sverre si minneside péiwww.hje1me1and.as'],\n",
       " ['18.03',\n",
       "  'Jenny',\n",
       "  'Matilde',\n",
       "  'Ingvaldsen',\n",
       "  1924,\n",
       "  2022,\n",
       "  98,\n",
       "  'Bømlo',\n",
       "  '<19V&r kiaere og omsorgsfuiiemor, svigermor,farmor, mormor,oldemor, tippoidemor,svigerinne og tanteJenny Matildelngvaldsenf. Totland 23. desember 1924sovnet stille innitroen pé sin FrelserBrzrmlo Helsehus / Mosterhamn18. mars 2022Inge T- RandiJan 1- HildegunnMargarethLois - JohanSiv—Jorunn — Bjzrn Agebarnebarn, oidebarn ogtippoldebarnNa er du borte, cg din piass ertom. Du har alltid v¢2rttiistede for oss og fylt vcire iivmed giede og latter. Du levervidere i vére hjerter.Begraves fra Sion Mosterhamnfredag 25. mars kl. 12.00.Alle som vil feilge til gravener velkommen.Verdig gravferd'],\n",
       " ['16.03',\n",
       "  'Guri',\n",
       "  'Matilde',\n",
       "  'Berntsen',\n",
       "  1927,\n",
       "  2022,\n",
       "  95,\n",
       "  'Vega',\n",
       "  \"Var kjaere mor, svigermor, sraster,svigerinne, stemor, mormor ogoldemorGuri Berntsenﬁadt 10. mars 1927sovnet fredfullt inn16. mars 2022Et /Jjerte av god/Jet /am” yluttet :3 515.W umzer deg /avilen, men mvner deg Si.Asbjnarg 1'Hildegunn TMarit EgilHilde HéikonBarnOla 1' ToraTore Reidun 1'Arne 1' LillianGerhard 1' SolveigMari SveinSeskenOddvar LoviseStesennJanne og Ronny, Frode og Nina,Sanna 0gJon—Erling, Julie ogJohn-Christian, Jonas og Jannicke,Joakim og SannaBarnebarn og svigerbarnebarnAnniken og Maarten, Nina ogMagnus, Henning, Nicolas, Oliver,Eron, Loke, Bertine og UlrikOldebarn og svigeroldebarnBegraves fra Vega kirkeonsdag 30. mars kl. 12.00.Like kjaert som blomster er en gave tilReade Kors, konto 8200 06 10190,Vipps 22 72Minne side pi WWW.VegabegraVelse.n0\"],\n",
       " ['14.03',\n",
       "  'Sverre',\n",
       "  'Ingar',\n",
       "  'Holtan',\n",
       "  1936,\n",
       "  2022,\n",
       "  86,\n",
       "  'Tønsberg',\n",
       "  'an \\\\R\\\\\\\\\\\\ur/0Min hjertegode mann,var ornsorgsfulle oghjelpsomme pappa ogbestefar, svigerfar, varsnille oldefar ogtippoldefar, min kjaerebror, var svoger og onkelSverre Ingar Holtanfodt 10. mars 1936drzsde plutselig fra oss.J arlscs 14. mars 2022Talclc for all dinkjaerlighet og omsorgGerdTone CatoSisselCharlotte og ArntCarina og DagKristiane og DanielVictoria, HermanLotte Amalie, Henrik TMons, Leonora, AgnesSverre, Lavrans, KlaraFilipInger Lisbeth og BjornGvrig familieBegraves fraSondre Slagen kirketirsdag 22. mars kl. 10.30.Like kjaert som blornsterer en gave til Redd BarnaVipps 2280k1emrnetsby—ﬁr1’ng.no'],\n",
       " ['15.03',\n",
       "  'Thor',\n",
       "  'Ingar',\n",
       "  'Bergan',\n",
       "  1938,\n",
       "  2022,\n",
       "  84,\n",
       "  'Kodal',\n",
       "  \"'1'Min kjaere Thor, far, farfar,bestefar, bonusbestefar,oldefar, bror, svoger og onkelThor Berganfgxdt 27. juli 1938sovnet stille inn i dag.Kodal, 15. mars 2022.Ta/ek for alt du var for 03.9Kirsten SyngzsvePer IngarThorkilMartine, Charlotte,Jenny Elise, Andrine,Inger-Helene, Siri-IdaUlrik, Synngave, AnnaSyisken og ¢vrige familieBegraves fra Kodal Kirketirsdag 22. mars kl. 12.00.Like kjaert som blomster eren gave til LHL.boebegravelseno\"],\n",
       " ['16.03',\n",
       "  'Grethe',\n",
       "  'Berg',\n",
       "  'Hagerupsen',\n",
       "  1956,\n",
       "  2022,\n",
       "  66,\n",
       "  'Sandefjord',\n",
       "  \"C?Min kjaere, Varme kone,Véir kjaere mamma,svigermor, farmer, oldemor,sqaster, svigerinne og tanteGrethe BergHagerupsenf¢dt 16. august 1956sovnet fredfullt innetter lang tids sykdom.Sandefjord, 16. mars 2022.Hwyt var du elsket,dypt blir du savnet.GunnarTommy CherrylRichardGunnhild NidalBarnebarn og oldebarnElse Unni (sgzbster)Qvrig familieBisettes fra Orelund kapellfredag 1. april kl. 12.00.Like kjaert som blomsterer en gave til LHL.boebegI'aVelse.n0\"]]"
      ]
     },
     "execution_count": 31,
     "metadata": {},
     "output_type": "execute_result"
    }
   ],
   "source": [
    "#def first_20():\n",
    "    \n",
    "import requests\n",
    "\n",
    "import bs4\n",
    "\n",
    "from PIL import Image\n",
    "\n",
    "from pytesseract import pytesseract\n",
    "\n",
    "from time import sleep\n",
    "\n",
    "deceased = []\n",
    "\n",
    "col_heads = ['OnlyDate', 'FirstName', 'SecondName', 'LastName', 'YearofBirth', 'YearofDeath', 'Age', 'Place', 'Text']\n",
    "\n",
    "deceased.append(col_heads)\n",
    "\n",
    "# Link one because there is info to be scraped in yet another webpage\n",
    "link_one = 'https://minnesider.no/index.php?sign=39cb4f8d032fe87e47bc628d237134e1'\n",
    "\n",
    "\n",
    "# Later, we will send another response\n",
    "response_one  = requests.get(link_one)\n",
    "\n",
    "\n",
    "# Soup one is from the first link\n",
    "soup_one = bs4.BeautifulSoup(response_one.text, 'lxml')\n",
    "\n",
    "\n",
    "# This user_text class has name, date, and place information\n",
    "user_text = soup_one.select('.user_text')\n",
    "\n",
    "dp = 0\n",
    "\n",
    "for each_dp in user_text:\n",
    "    \n",
    "    # Get the Full Name \n",
    "    full_name = user_text[dp]('h4')[0].getText()\n",
    "\n",
    "\n",
    "    # Get Each Name\n",
    "    names = full_name.split()\n",
    "\n",
    "    if len(names) == 3:\n",
    "        first_name = names[0]\n",
    "        second_name = names[1]\n",
    "        last_name = names[2]\n",
    "\n",
    "    elif len(names) == 2:\n",
    "        first_name = names[0]\n",
    "        last_name = names[1]\n",
    "\n",
    "    elif len(names) == 1:\n",
    "        first_name = names[0]\n",
    "\n",
    "    \n",
    "    # Getting All Dates\n",
    "    all_dates = user_text[dp]('span')[0].getText()\n",
    "\n",
    "\n",
    "    # Only Date, Without Place\n",
    "    date_list = all_dates.split()\n",
    "\n",
    "    date_list.remove('-')\n",
    "\n",
    "    date_list.pop()\n",
    "\n",
    "    only_date = date_list[1][:5]\n",
    "\n",
    "\n",
    "    # Year of Birth\n",
    "    birth_year = date_list[0]\n",
    "\n",
    "\n",
    "    # Year of Death\n",
    "    death_year = date_list[1][6::]\n",
    "\n",
    "\n",
    "    # Get the Age\n",
    "    birth_year = int(birth_year)\n",
    "\n",
    "    death_year = int(death_year)\n",
    "\n",
    "    age = death_year - birth_year\n",
    "\n",
    "\n",
    "    # Get the Place\n",
    "    place_list = all_dates.split()\n",
    "\n",
    "    place = place_list.pop()\n",
    "\n",
    "    # Getting Image Text\n",
    "\n",
    "    lnk = user_text[dp].find(href=True)\n",
    "\n",
    "    link_two = lnk['href']\n",
    "\n",
    "    response_two = requests.get(link_one)\n",
    "\n",
    "    soup_two = bs4.BeautifulSoup(response_two.text, 'lxml')\n",
    "\n",
    "    obituary = soup_two.select('.portal_buttons_box')\n",
    "\n",
    "    lnk1 = obituary[dp].find(href=True)\n",
    "\n",
    "    link_three = lnk1['href']\n",
    "    \n",
    "    \n",
    "    if link_three == 'javascript:void()':\n",
    "        \n",
    "        all_text = '-'\n",
    "    \n",
    "    else:\n",
    "        \n",
    "        response_three = requests.get(link_three)\n",
    "\n",
    "        soup_three = bs4.BeautifulSoup(response_three.text, 'lxml')\n",
    "\n",
    "    zero_list = list(soup_three.select('.death_notice_hide'))\n",
    "\n",
    "    blank_list = []\n",
    "\n",
    "    if zero_list != blank_list:\n",
    "\n",
    "        all_text = '-'\n",
    "\n",
    "    else:\n",
    "        \n",
    "        all_text = ''\n",
    "            \n",
    "        img_link = soup_three.findAll('img')[0]['src']\n",
    "\n",
    "        response_four = requests.get(img_link)\n",
    "\n",
    "        img_file = open(f'{dp}. {full_name}.jpg', 'wb')\n",
    "\n",
    "        img_file.write(response_four.content)\n",
    "\n",
    "        exe_path = r'C:/Program Files (x86)/Tesseract-OCR/tesseract.exe'\n",
    "\n",
    "        image_path = img_file.name\n",
    "\n",
    "        the_img = Image.open(image_path)\n",
    "\n",
    "        pytesseract.tesseract_cmd = exe_path\n",
    "\n",
    "        img_text = pytesseract.image_to_string(the_img)\n",
    "\n",
    "        text_list = img_text[:-1].splitlines()\n",
    "\n",
    "        all_text = ''\n",
    "\n",
    "        for each_item in text_list:\n",
    "\n",
    "            all_text += each_item\n",
    "\n",
    "            img_file.close()\n",
    "\n",
    "\n",
    "    record = [only_date, first_name, second_name, last_name, birth_year, death_year, age, place, all_text]\n",
    "\n",
    "    deceased.append(record)\n",
    "    \n",
    "    dp += 1\n",
    "\n",
    "deceased"
   ]
  },
  {
   "cell_type": "code",
   "execution_count": null,
   "id": "dc026943",
   "metadata": {},
   "outputs": [],
   "source": []
  },
  {
   "cell_type": "code",
   "execution_count": null,
   "id": "a8ffe92e",
   "metadata": {},
   "outputs": [],
   "source": []
  },
  {
   "cell_type": "code",
   "execution_count": 34,
   "id": "dc591115",
   "metadata": {},
   "outputs": [],
   "source": [
    "def make_csv():\n",
    "    \n",
    "    import csv\n",
    "    \n",
    "    norwegian_csv = open('norwegian_job.csv', mode = 'w', encoding = 'utf-8', newline = '')\n",
    "\n",
    "    csv_writer = csv.writer(norwegian_csv, delimiter = ',')\n",
    "\n",
    "    csv_writer.writerows(deceased)\n",
    "\n",
    "    norwegian_csv.close()"
   ]
  },
  {
   "cell_type": "code",
   "execution_count": null,
   "id": "ab1ab29e",
   "metadata": {},
   "outputs": [],
   "source": []
  },
  {
   "cell_type": "code",
   "execution_count": 35,
   "id": "80ec519f",
   "metadata": {},
   "outputs": [],
   "source": [
    "make_csv()"
   ]
  },
  {
   "cell_type": "code",
   "execution_count": null,
   "id": "5a32d805",
   "metadata": {},
   "outputs": [],
   "source": []
  },
  {
   "cell_type": "code",
   "execution_count": null,
   "id": "65f4c29a",
   "metadata": {},
   "outputs": [],
   "source": []
  },
  {
   "cell_type": "code",
   "execution_count": null,
   "id": "551ff399",
   "metadata": {},
   "outputs": [],
   "source": []
  }
 ],
 "metadata": {
  "kernelspec": {
   "display_name": "Python 3 (ipykernel)",
   "language": "python",
   "name": "python3"
  },
  "language_info": {
   "codemirror_mode": {
    "name": "ipython",
    "version": 3
   },
   "file_extension": ".py",
   "mimetype": "text/x-python",
   "name": "python",
   "nbconvert_exporter": "python",
   "pygments_lexer": "ipython3",
   "version": "3.9.7"
  }
 },
 "nbformat": 4,
 "nbformat_minor": 5
}
