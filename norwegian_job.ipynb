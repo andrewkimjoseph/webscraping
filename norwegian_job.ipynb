{
 "cells": [
  {
   "cell_type": "code",
   "execution_count": 1,
   "id": "4afbe025",
   "metadata": {},
   "outputs": [],
   "source": [
    "import requests"
   ]
  },
  {
   "cell_type": "code",
   "execution_count": 2,
   "id": "a1c0195f",
   "metadata": {},
   "outputs": [],
   "source": [
    "import bs4"
   ]
  },
  {
   "cell_type": "code",
   "execution_count": null,
   "id": "b0e3944d",
   "metadata": {},
   "outputs": [],
   "source": []
  },
  {
   "cell_type": "code",
   "execution_count": 3,
   "id": "59c9c3ad",
   "metadata": {},
   "outputs": [],
   "source": [
    "# Link one because there is info to be scraped in yet another webpage\n",
    "\n",
    "link_one = 'https://minnesider.no/index.php?sign=39cb4f8d032fe87e47bc628d237134e1'"
   ]
  },
  {
   "cell_type": "code",
   "execution_count": null,
   "id": "2254ec16",
   "metadata": {},
   "outputs": [],
   "source": []
  },
  {
   "cell_type": "code",
   "execution_count": 4,
   "id": "79de09c8",
   "metadata": {},
   "outputs": [],
   "source": [
    "# Later, we will send another response\n",
    "\n",
    "response_one  = requests.get(link_one)"
   ]
  },
  {
   "cell_type": "code",
   "execution_count": null,
   "id": "da35ff71",
   "metadata": {},
   "outputs": [],
   "source": []
  },
  {
   "cell_type": "code",
   "execution_count": 5,
   "id": "41fe8277",
   "metadata": {},
   "outputs": [],
   "source": [
    "# Soup one is from the first link\n",
    "\n",
    "soup_one = bs4.BeautifulSoup(response_one.text, 'lxml')"
   ]
  },
  {
   "cell_type": "code",
   "execution_count": null,
   "id": "ad668f31",
   "metadata": {},
   "outputs": [],
   "source": []
  },
  {
   "cell_type": "code",
   "execution_count": 6,
   "id": "dc227f10",
   "metadata": {},
   "outputs": [],
   "source": [
    "# This user_text class has name, date, and place information\n",
    "\n",
    "user_text = soup_one.select('.user_text') "
   ]
  },
  {
   "cell_type": "code",
   "execution_count": null,
   "id": "7b95fdc1",
   "metadata": {},
   "outputs": [],
   "source": []
  },
  {
   "cell_type": "code",
   "execution_count": 7,
   "id": "b5fd033b",
   "metadata": {},
   "outputs": [],
   "source": [
    "dp = 12"
   ]
  },
  {
   "cell_type": "markdown",
   "id": "ff27d920",
   "metadata": {},
   "source": [
    "# Getting the NAME"
   ]
  },
  {
   "cell_type": "code",
   "execution_count": 8,
   "id": "87bb2175",
   "metadata": {},
   "outputs": [
    {
     "name": "stdout",
     "output_type": "stream",
     "text": [
      "The Full Name is:\n",
      "Ragnhild Gray\n"
     ]
    }
   ],
   "source": [
    "full_name = user_text[dp]('h4')[0].getText()\n",
    "\n",
    "print(f'The Full Name is:\\n{full_name}')"
   ]
  },
  {
   "cell_type": "markdown",
   "id": "cddc4d2c",
   "metadata": {},
   "source": [
    "## NAMES IN THREE PARTS"
   ]
  },
  {
   "cell_type": "code",
   "execution_count": 9,
   "id": "c1a3e28f",
   "metadata": {},
   "outputs": [
    {
     "name": "stdout",
     "output_type": "stream",
     "text": [
      "The First Name is: \n",
      "Ragnhild \n",
      "\n",
      "The Last Name is: \n",
      "Gray\n"
     ]
    }
   ],
   "source": [
    "names = full_name.split()\n",
    "\n",
    "if len(names) == 3:\n",
    "    first_name = names[0]\n",
    "    second_name = names[1]\n",
    "    last_name = names[2]\n",
    "    print(f'The First Name is: \\n{first_name} \\n')\n",
    "    print(f'The Second Name is: \\n{second_name} \\n')\n",
    "    print(f'The Last Name is: \\n{last_name}')\n",
    "\n",
    "elif len(names) == 2:\n",
    "    first_name = names[0]\n",
    "    second_name = '-'\n",
    "    last_name = names[1]\n",
    "    print(f'The First Name is: \\n{first_name} \\n')\n",
    "    print(f'The Last Name is: \\n{last_name}')\n",
    "\n",
    "elif len(names) == 1:\n",
    "    first_name = names[0]\n",
    "    second_name = '-'\n",
    "    last_name = '-'\n",
    "    print(f'The First Name is: \\n{first_name} \\n')"
   ]
  },
  {
   "cell_type": "markdown",
   "id": "41a44d62",
   "metadata": {},
   "source": [
    " # Getting the DATES"
   ]
  },
  {
   "cell_type": "code",
   "execution_count": 10,
   "id": "b31b6a5f",
   "metadata": {},
   "outputs": [
    {
     "data": {
      "text/plain": [
       "'1944\\xa0-\\xa014.03.2022\\xa0Oslo'"
      ]
     },
     "execution_count": 10,
     "metadata": {},
     "output_type": "execute_result"
    }
   ],
   "source": [
    "all_dates = user_text[dp]('span')[0].getText()\n",
    "\n",
    "all_dates"
   ]
  },
  {
   "cell_type": "markdown",
   "id": "b4168de0",
   "metadata": {},
   "source": [
    "## ONLY DATE"
   ]
  },
  {
   "cell_type": "code",
   "execution_count": 11,
   "id": "f9c8957c",
   "metadata": {},
   "outputs": [
    {
     "data": {
      "text/plain": [
       "['1944', '14.03.2022']"
      ]
     },
     "execution_count": 11,
     "metadata": {},
     "output_type": "execute_result"
    }
   ],
   "source": [
    "date_list = all_dates.split()\n",
    "\n",
    "date_list.remove('-')\n",
    "\n",
    "date_list.pop()\n",
    "\n",
    "date_list"
   ]
  },
  {
   "cell_type": "code",
   "execution_count": 12,
   "id": "90a97cf8",
   "metadata": {},
   "outputs": [
    {
     "data": {
      "text/plain": [
       "'14.03'"
      ]
     },
     "execution_count": 12,
     "metadata": {},
     "output_type": "execute_result"
    }
   ],
   "source": [
    "only_date = date_list[1][:5]\n",
    "\n",
    "only_date"
   ]
  },
  {
   "cell_type": "markdown",
   "id": "a9ebdbc2",
   "metadata": {},
   "source": [
    "## YEAR OF BIRTH"
   ]
  },
  {
   "cell_type": "code",
   "execution_count": 13,
   "id": "931572de",
   "metadata": {},
   "outputs": [
    {
     "data": {
      "text/plain": [
       "'1944'"
      ]
     },
     "execution_count": 13,
     "metadata": {},
     "output_type": "execute_result"
    }
   ],
   "source": [
    "birth_year = date_list[0]\n",
    "\n",
    "birth_year"
   ]
  },
  {
   "cell_type": "markdown",
   "id": "ac089db2",
   "metadata": {},
   "source": [
    "## YEAR OF DEATH"
   ]
  },
  {
   "cell_type": "code",
   "execution_count": 14,
   "id": "42eccf0c",
   "metadata": {},
   "outputs": [
    {
     "data": {
      "text/plain": [
       "'2022'"
      ]
     },
     "execution_count": 14,
     "metadata": {},
     "output_type": "execute_result"
    }
   ],
   "source": [
    "death_year = date_list[1][6::]\n",
    "\n",
    "death_year"
   ]
  },
  {
   "cell_type": "markdown",
   "id": "61a150ac",
   "metadata": {},
   "source": [
    "## AGE OF DEATH"
   ]
  },
  {
   "cell_type": "code",
   "execution_count": 15,
   "id": "3734fb74",
   "metadata": {},
   "outputs": [
    {
     "data": {
      "text/plain": [
       "78"
      ]
     },
     "execution_count": 15,
     "metadata": {},
     "output_type": "execute_result"
    }
   ],
   "source": [
    "birth_year = int(birth_year)\n",
    "\n",
    "death_year = int(death_year)\n",
    "\n",
    "age = death_year - birth_year\n",
    "\n",
    "age"
   ]
  },
  {
   "cell_type": "markdown",
   "id": "70729dab",
   "metadata": {},
   "source": [
    "# Getting the PLACE "
   ]
  },
  {
   "cell_type": "code",
   "execution_count": 16,
   "id": "842867a8",
   "metadata": {},
   "outputs": [
    {
     "data": {
      "text/plain": [
       "'Oslo'"
      ]
     },
     "execution_count": 16,
     "metadata": {},
     "output_type": "execute_result"
    }
   ],
   "source": [
    "place_list = all_dates.split()\n",
    "\n",
    "place = place_list.pop()\n",
    "\n",
    "place"
   ]
  },
  {
   "cell_type": "markdown",
   "id": "6b609418",
   "metadata": {},
   "source": [
    "# Getting the TEXT"
   ]
  },
  {
   "cell_type": "markdown",
   "id": "183f12a0",
   "metadata": {},
   "source": [
    "## 1/5. We Get the Link to the Deceased's Page"
   ]
  },
  {
   "cell_type": "code",
   "execution_count": 17,
   "id": "cc40466f",
   "metadata": {},
   "outputs": [],
   "source": [
    "lnk = user_text[dp].find(href=True)\n",
    "\n",
    "link_two = lnk['href']"
   ]
  },
  {
   "cell_type": "code",
   "execution_count": 18,
   "id": "67a0954b",
   "metadata": {},
   "outputs": [
    {
     "name": "stdout",
     "output_type": "stream",
     "text": [
      "https://wang.vareminnesider.no/memorial_page/memorial_page_personal_info.php?order_id=4004588&set_site_id=12&cat=home&sign=bf66e225ea5d4d8dd7a9557d3e2db4d9\n"
     ]
    }
   ],
   "source": [
    "print(link_two)"
   ]
  },
  {
   "cell_type": "markdown",
   "id": "f9f32638",
   "metadata": {},
   "source": [
    "## 2/5. We Use the Generated Link to Get to the Obituary Page"
   ]
  },
  {
   "cell_type": "code",
   "execution_count": 19,
   "id": "87edbdce",
   "metadata": {},
   "outputs": [],
   "source": [
    "response_two = requests.get(link_one)\n",
    "\n",
    "soup_two = bs4.BeautifulSoup(response_two.text, 'lxml')\n",
    "\n",
    "obituary = soup_two.select('.portal_buttons_box')\n",
    "\n",
    "lnk1 = obituary[dp].find(href=True)\n",
    "\n",
    "link_three = lnk1['href']"
   ]
  },
  {
   "cell_type": "code",
   "execution_count": 20,
   "id": "faf17f98",
   "metadata": {},
   "outputs": [
    {
     "name": "stdout",
     "output_type": "stream",
     "text": [
      "https://wang.vareminnesider.no/order_info.php?order_id=4004588&set_site_id=12&memorial_page_created=1&design=vareminnesider-no&sign=5efbdb38bf17b4623964a656af9e6197\n"
     ]
    }
   ],
   "source": [
    "print(link_three)"
   ]
  },
  {
   "cell_type": "markdown",
   "id": "cccdadb2",
   "metadata": {},
   "source": [
    "## 3/5. We Pick the Link to the Image with the Text on the Obituary Page"
   ]
  },
  {
   "cell_type": "code",
   "execution_count": 21,
   "id": "5676c0c7",
   "metadata": {},
   "outputs": [],
   "source": [
    "response_three = requests.get(link_three)\n",
    "\n",
    "soup_three = bs4.BeautifulSoup(response_three.text, 'lxml')\n",
    "\n",
    "img_link = soup_three.findAll('img')[0]['src']"
   ]
  },
  {
   "cell_type": "code",
   "execution_count": null,
   "id": "721f4175",
   "metadata": {},
   "outputs": [],
   "source": []
  },
  {
   "cell_type": "code",
   "execution_count": null,
   "id": "0635e7dd",
   "metadata": {},
   "outputs": [],
   "source": []
  },
  {
   "cell_type": "code",
   "execution_count": 22,
   "id": "dbe1cd63",
   "metadata": {},
   "outputs": [
    {
     "name": "stdout",
     "output_type": "stream",
     "text": [
      "https://fe.adstate.net/stream_file.php?booking_id=2263416&type=ad_preview_image_print&sign=2c64e471b43389b87adb17f6aa8b31cf\n"
     ]
    }
   ],
   "source": [
    "print(img_link)"
   ]
  },
  {
   "cell_type": "code",
   "execution_count": 23,
   "id": "b56ad285",
   "metadata": {},
   "outputs": [],
   "source": [
    "zero_list = list(soup_three.select('.death_notice_hide'))"
   ]
  },
  {
   "cell_type": "code",
   "execution_count": 24,
   "id": "3fc06d00",
   "metadata": {},
   "outputs": [
    {
     "data": {
      "text/plain": [
       "True"
      ]
     },
     "execution_count": 24,
     "metadata": {},
     "output_type": "execute_result"
    }
   ],
   "source": [
    "blank_list = []\n",
    "\n",
    "blank_list == zero_list"
   ]
  },
  {
   "cell_type": "code",
   "execution_count": null,
   "id": "6d0de69e",
   "metadata": {},
   "outputs": [],
   "source": []
  },
  {
   "cell_type": "markdown",
   "id": "65aac18d",
   "metadata": {},
   "source": [
    "## 4/5. We Download the Image Using the Link to the Image"
   ]
  },
  {
   "cell_type": "code",
   "execution_count": 25,
   "id": "5a9871e4",
   "metadata": {},
   "outputs": [
    {
     "data": {
      "text/plain": [
       "83157"
      ]
     },
     "execution_count": 25,
     "metadata": {},
     "output_type": "execute_result"
    }
   ],
   "source": [
    "response_four = requests.get(img_link)\n",
    "\n",
    "img_file = open(f'{full_name}.jpg', 'wb')\n",
    "\n",
    "img_file.write(response_four.content)"
   ]
  },
  {
   "cell_type": "markdown",
   "id": "fcee6666",
   "metadata": {},
   "source": [
    "## 5/5. We Read the Text from the Image"
   ]
  },
  {
   "cell_type": "code",
   "execution_count": 26,
   "id": "3f9b502f",
   "metadata": {},
   "outputs": [],
   "source": [
    "from PIL import Image\n",
    "\n",
    "from pytesseract import pytesseract\n",
    "\n",
    "exe_path = r'C:/Program Files (x86)/Tesseract-OCR/tesseract.exe'\n",
    "\n",
    "image_path = img_file.name\n",
    "\n",
    "the_img = Image.open(image_path)\n",
    "\n",
    "pytesseract.tesseract_cmd = exe_path\n",
    "\n",
    "img_text = pytesseract.image_to_string(the_img)\n",
    "\n",
    "text_list = img_text[:-1].splitlines()\n",
    "\n",
    "all_text = ''\n",
    "\n",
    "for each_item in text_list:\n",
    "    all_text += each_item\n",
    "    \n",
    "img_file.close()"
   ]
  },
  {
   "cell_type": "markdown",
   "id": "5f705739",
   "metadata": {},
   "source": [
    "# Bringing Everything Together"
   ]
  },
  {
   "cell_type": "code",
   "execution_count": 27,
   "id": "7b798df2",
   "metadata": {},
   "outputs": [
    {
     "data": {
      "text/plain": [
       "[['OnlyDate',\n",
       "  'FirstName',\n",
       "  'SecondName',\n",
       "  'LastName',\n",
       "  'YearofBirth',\n",
       "  'YearofDeath',\n",
       "  'Age',\n",
       "  'Place',\n",
       "  'Text']]"
      ]
     },
     "execution_count": 27,
     "metadata": {},
     "output_type": "execute_result"
    }
   ],
   "source": [
    "deceased = []\n",
    "\n",
    "col_heads = ['OnlyDate', 'FirstName', 'SecondName', 'LastName', 'YearofBirth', 'YearofDeath', 'Age', 'Place', 'Text']\n",
    "\n",
    "deceased.append(col_heads)\n",
    "\n",
    "deceased"
   ]
  },
  {
   "cell_type": "code",
   "execution_count": 28,
   "id": "975e8375",
   "metadata": {},
   "outputs": [
    {
     "name": "stdout",
     "output_type": "stream",
     "text": [
      "Only Date: \n",
      "14.03\n",
      "\n",
      "First Name: \n",
      "Ragnhild\n",
      "\n",
      "Second Name: \n",
      "-\n",
      "\n",
      "Last Name: \n",
      "Gray\n",
      "\n",
      "Year of Birth: \n",
      "1944\n",
      "\n",
      "Year of Death: \n",
      "\n",
      "2022\n",
      "\n",
      "Age: \n",
      "78\n",
      "\n",
      "Place: \n",
      "Oslo\n",
      "\n",
      "Text: \n",
      ":43Vér alles kjaereRagnhildLarsgaard Grayfzdt 22. mars 1944,drade fra oss i dag.Oslo14. mars 2022.JohnHelenAlex SoﬁeElliot, Iris, Oliver, Ada,Timmy, TeddyBisettes i Vestregravlunds nye kapellmandag 28. marskl. 11.30.wangbegravelseno\n"
     ]
    }
   ],
   "source": [
    "print(f'Only Date: \\n{only_date}\\n')\n",
    "\n",
    "print(f'First Name: \\n{first_name}\\n')\n",
    "\n",
    "print(f'Second Name: \\n{second_name}\\n')\n",
    "\n",
    "print(f'Last Name: \\n{last_name}\\n')\n",
    "\n",
    "print(f'Year of Birth: \\n{birth_year}\\n')\n",
    "\n",
    "print(f'Year of Death: \\n\\n{death_year}\\n')\n",
    "\n",
    "print(f'Age: \\n{age}\\n')\n",
    "\n",
    "print(f'Place: \\n{place}\\n')\n",
    "\n",
    "print(f'Text: \\n{all_text}')"
   ]
  },
  {
   "cell_type": "code",
   "execution_count": null,
   "id": "90dbbeba",
   "metadata": {},
   "outputs": [],
   "source": []
  },
  {
   "cell_type": "code",
   "execution_count": 29,
   "id": "86f51344",
   "metadata": {},
   "outputs": [
    {
     "data": {
      "text/plain": [
       "['14.03',\n",
       " 'Ragnhild',\n",
       " '-',\n",
       " 'Gray',\n",
       " 1944,\n",
       " 2022,\n",
       " 78,\n",
       " 'Oslo',\n",
       " ':43Vér alles kjaereRagnhildLarsgaard Grayfzdt 22. mars 1944,drade fra oss i dag.Oslo14. mars 2022.JohnHelenAlex SoﬁeElliot, Iris, Oliver, Ada,Timmy, TeddyBisettes i Vestregravlunds nye kapellmandag 28. marskl. 11.30.wangbegravelseno']"
      ]
     },
     "execution_count": 29,
     "metadata": {},
     "output_type": "execute_result"
    }
   ],
   "source": [
    "record = [only_date, first_name, second_name, last_name, birth_year, death_year, age, place, all_text]\n",
    "\n",
    "record"
   ]
  },
  {
   "cell_type": "code",
   "execution_count": null,
   "id": "2aa8973a",
   "metadata": {},
   "outputs": [],
   "source": []
  },
  {
   "cell_type": "code",
   "execution_count": null,
   "id": "717f77a7",
   "metadata": {},
   "outputs": [],
   "source": []
  },
  {
   "cell_type": "code",
   "execution_count": 30,
   "id": "e8ab792b",
   "metadata": {},
   "outputs": [
    {
     "data": {
      "text/plain": [
       "[['OnlyDate',\n",
       "  'FirstName',\n",
       "  'SecondName',\n",
       "  'LastName',\n",
       "  'YearofBirth',\n",
       "  'YearofDeath',\n",
       "  'Age',\n",
       "  'Place',\n",
       "  'Text'],\n",
       " ['14.03',\n",
       "  'Ragnhild',\n",
       "  '-',\n",
       "  'Gray',\n",
       "  1944,\n",
       "  2022,\n",
       "  78,\n",
       "  'Oslo',\n",
       "  ':43Vér alles kjaereRagnhildLarsgaard Grayfzdt 22. mars 1944,drade fra oss i dag.Oslo14. mars 2022.JohnHelenAlex SoﬁeElliot, Iris, Oliver, Ada,Timmy, TeddyBisettes i Vestregravlunds nye kapellmandag 28. marskl. 11.30.wangbegravelseno']]"
      ]
     },
     "execution_count": 30,
     "metadata": {},
     "output_type": "execute_result"
    }
   ],
   "source": [
    "deceased.append(record)\n",
    "\n",
    "deceased"
   ]
  },
  {
   "cell_type": "markdown",
   "id": "e933ca7d",
   "metadata": {},
   "source": [
    "# Getting the First 50 records into a List"
   ]
  },
  {
   "cell_type": "code",
   "execution_count": 31,
   "id": "fcc78ad5",
   "metadata": {},
   "outputs": [
    {
     "data": {
      "text/plain": [
       "[['OnlyDate',\n",
       "  'FirstName',\n",
       "  'SecondName',\n",
       "  'LastName',\n",
       "  'YearofBirth',\n",
       "  'YearofDeath',\n",
       "  'Age',\n",
       "  'Place',\n",
       "  'Text'],\n",
       " ['15.03',\n",
       "  'Thor',\n",
       "  '-',\n",
       "  'Bergan',\n",
       "  1938,\n",
       "  2022,\n",
       "  84,\n",
       "  'Kodal',\n",
       "  \"'1'Min kjaere Thor, far, farfar,bestefar, bonusbestefar,oldefar, bror, svoger og onkelThor Berganfgxdt 27. juli 1938sovnet stille inn i dag.Kodal, 15. mars 2022.Ta/ek for alt du var for 03.9Kirsten SyngzsvePer IngarThorkilMartine, Charlotte,Jenny Elise, Andrine,Inger-Helene, Siri-IdaUlrik, Synngave, AnnaSyisken og ¢vrige familieBegraves fra Kodal Kirketirsdag 22. mars kl. 12.00.Like kjaert som blomster eren gave til LHL.boebegravelseno\"],\n",
       " ['16.03',\n",
       "  'Grethe',\n",
       "  'Berg',\n",
       "  'Hagerupsen',\n",
       "  1956,\n",
       "  2022,\n",
       "  66,\n",
       "  'Sandefjord',\n",
       "  \"C?Min kjaere, Varme kone,Véir kjaere mamma,svigermor, farmer, oldemor,sqaster, svigerinne og tanteGrethe BergHagerupsenf¢dt 16. august 1956sovnet fredfullt innetter lang tids sykdom.Sandefjord, 16. mars 2022.Hwyt var du elsket,dypt blir du savnet.GunnarTommy CherrylRichardGunnhild NidalBarnebarn og oldebarnElse Unni (sgzbster)Qvrig familieBisettes fra Orelund kapellfredag 1. april kl. 12.00.Like kjaert som blomsterer en gave til LHL.boebegI'aVelse.n0\"],\n",
       " ['16.03', 'Ingeborg', 'Martha', 'Jacobsen', 1931, 2022, 91, 'Eidsvoll', '-'],\n",
       " ['16.03',\n",
       "  'Klara',\n",
       "  'Havrevoll',\n",
       "  'Innvær',\n",
       "  1944,\n",
       "  2022,\n",
       "  78,\n",
       "  'universitetssykehus',\n",
       "  '-'],\n",
       " ['14.03', 'Idar', 'Havrevoll', 'Gåre', 1947, 2022, 75, 'Stavanger', '-'],\n",
       " ['12.03',\n",
       "  'Ragna',\n",
       "  'Havrevoll',\n",
       "  'Erga',\n",
       "  1925,\n",
       "  2022,\n",
       "  97,\n",
       "  'Klepp',\n",
       "  'TVér kjaere mor og svigermor,snille farmor og oldemorRagna Ergaf. Lalanddmydde stilt fré oss,96 511“ gammal.Kleppe, 12. mars 2022.Takk for alle deigode minneneIngvar og MariRoar og Ning1°\\\\sta og LeeNils og SolveigRuneAsle TGreta og AndersVﬁr, Kirsti, Arvid, Aslak,Elvin, Elida, RinoSlekta ellesEtter mor sitt ynskje hargravferda Vore med deinaeraste til stades.Ei Varm takk til personaletVed Sirkelen og Kleppheimenfor god omsorg og pleie.'],\n",
       " ['16.03',\n",
       "  'Torleif',\n",
       "  'Magne',\n",
       "  'Vorland',\n",
       "  1931,\n",
       "  2022,\n",
       "  91,\n",
       "  'Nærbø',\n",
       "  \"TVér alles kjaereTorleif MagneVorlanddmde fra oss,90 ﬁr garnrnel.H51 sjukeheim/Naerbo,16. mars 2022Gcirsdagen erforbi,morgenda gen kjermer ingen,1' dag hjelper Herren.Martaf. LineTove MereteJarle og AnneGro og SverreTron Morten og HegeBjorn Atle og GqbrilBarnebarn og oldebarnQvrig familieBegravelse fraNaerbo garnle kyrkjeonsdag 23. mars kl. 1030.Like kjaert somblomster er en gavetil Qnsketransporten.Vipps - 137022Minneside pi krogeda1.11o\"],\n",
       " ['17.03',\n",
       "  'Solveig',\n",
       "  'Helene',\n",
       "  'Havnås',\n",
       "  1927,\n",
       "  2022,\n",
       "  95,\n",
       "  'Rakkestad',\n",
       "  'TVar kj aere mor, svigermor,farmor og oldemor. Min sgzsster,svigerinne og var tante.Solveig HeleneHavnasf¢dt Engen25. mars 1927sovnet still inn, med denaermeste rundt seg.Skautun / Rakkestad17. mars 2022Salig er den somncir all svinner hen harJesus og himmelen igjen.Takk for din omsorg for oss.TuridIvar KirstiGro Elisabeth RuneTherese EspenMarie og MagnusQvrige familieBegraves fra Rakkestad kapellonsdag 30. mars kl. 12.00.Like kjaert som blornster er engave til Open Heart — Ukraina.Gaven kan gis i kapellet ellertil Vipps: 36115, Inerk medSolveig HaVne°1s.De som fgzjlger er Velkommentil en minnestund i Miranda.'],\n",
       " ['16.03',\n",
       "  'Edvard',\n",
       "  'Helene',\n",
       "  'Hansen',\n",
       "  1931,\n",
       "  2022,\n",
       "  91,\n",
       "  'Sørreisa',\n",
       "  'TVar kj aere mor, svigermor,farmor og oldemor. Min sgzsster,svigerinne og var tante.Solveig HeleneHavnasf¢dt Engen25. mars 1927sovnet still inn, med denaermeste rundt seg.Skautun / Rakkestad17. mars 2022Salig er den somncir all svinner hen harJesus og himmelen igjen.Takk for din omsorg for oss.TuridIvar KirstiGro Elisabeth RuneTherese EspenMarie og MagnusQvrige familieBegraves fra Rakkestad kapellonsdag 30. mars kl. 12.00.Like kjaert som blornster er engave til Open Heart — Ukraina.Gaven kan gis i kapellet ellertil Vipps: 36115, Inerk medSolveig HaVne°1s.De som fgzjlger er Velkommentil en minnestund i Miranda.'],\n",
       " ['16.03',\n",
       "  'Elsa',\n",
       "  'Helene',\n",
       "  'Sannes',\n",
       "  1942,\n",
       "  2022,\n",
       "  80,\n",
       "  'Skien',\n",
       "  \"TMin kj aere kone,snille mamma og svigermor,bestemor, sgaster,svigerinne og tanteElsa Sannesf¢dl 5. desember I 942sovnet stille inn etterlang tids sykeleie.Skien 16. mars 2022.AsbjarnEllen KetilAmund, MariAlf og HelenOlga og Odd0v1'ig familieBegraves fra Gjerpen kapelltorsdag 24. mars kl. 10.30.En Varm takk til Gjerpen sykehjemavd Kikut for god omsorg og pleie.skienbeg.no\"],\n",
       " ['27.02', 'Petter', 'Schjørn', 'Nyquist', 1966, 2022, 56, 'Skien', '-'],\n",
       " ['14.03',\n",
       "  'Ragnhild',\n",
       "  'Schjørn',\n",
       "  'Gray',\n",
       "  1944,\n",
       "  2022,\n",
       "  78,\n",
       "  'Oslo',\n",
       "  ':43Vér alles kjaereRagnhildLarsgaard Grayfzdt 22. mars 1944,drade fra oss i dag.Oslo14. mars 2022.JohnHelenAlex SoﬁeElliot, Iris, Oliver, Ada,Timmy, TeddyBisettes i Vestregravlunds nye kapellmandag 28. marskl. 11.30.wangbegravelseno'],\n",
       " ['12.03',\n",
       "  'Anne',\n",
       "  'Kristina',\n",
       "  'Melsom',\n",
       "  1955,\n",
       "  2022,\n",
       "  67,\n",
       "  'Oslo',\n",
       "  \"%Min evige kjaerlighet,var omsorgsfullemamma, svigermorog snille, gode mormorAnne Melsomfradt 11. februar 1955,sovnet stille inn12. mars 2022.Dypt 1' wire hjerterer mmnene gjemt,de m'l av ossaldri bli glemtPerMarius LenaLine YngveBenedikte JannaStephanThea, Michelle,Tobias, DanielTeddyGro, TiiliQlvrig familieBisettes fra.Voksen kirkefredag 25. mars kl. 10.00.wangbegravelseno\"],\n",
       " ['11.03', 'Hans', 'Petter', 'Heitmann', 1945, 2022, 77, 'Oslo', '-'],\n",
       " ['15.03',\n",
       "  'Heidi',\n",
       "  'Wetaas',\n",
       "  'Bull',\n",
       "  1955,\n",
       "  2022,\n",
       "  67,\n",
       "  'Oppegård',\n",
       "  'TVér kjare, omsorgsfulle mor,Inormor, farmor, oldemor,svigermor og sgzisterMarie Withf¢dtThi1esen 3. april 1928,dgzsde fra oss i dag.Baerum, 16. mars 2022.\"Jeg er i Herrens hender”Tove Erling-IvarInger Elisabeth BjornCarl Aage Tove JohanneOdd Anders JanneTrond Egil HeidyTone, Terje, Sveinung, Vegard,Ragnhild, Tonje Camilla,Aleksander, Stine og Mariusmed familierOldebarnSosken(/)vrig familieBegraves fra Hovik kirketil Haslum kirkegardfredag 25. mars kl. 1 1.00.Like kjwrt som blomster er engave til Kirkens Ngzidhjelp,gaven kan gis via minnesideneller i kirken.St) minneside pz\"1jols1ad.n0'],\n",
       " ['16.03',\n",
       "  'Marie',\n",
       "  'Wetaas',\n",
       "  'With',\n",
       "  1928,\n",
       "  2022,\n",
       "  94,\n",
       "  'Bærum',\n",
       "  'TVér kjaere omsorgsfullemamma, svigermor,bestemor og oldemorMargot Solheimf¢adt2Z november1935drade fra oss i dag.Tveit 12. mars 2022Jan Terje HeidiRoy Inge FrodeRonnie, Lilli Ann,Veronica, EspenTiril og Lioni(ZJvrig familieBegraves fra Tveit Kirkefredag 25 mars kl. 10,30Minnestunden avsluttes vedgravenwww.jo|stad.no'],\n",
       " ['12.03',\n",
       "  'Margot',\n",
       "  'Wetaas',\n",
       "  'Solheim',\n",
       "  1935,\n",
       "  2022,\n",
       "  87,\n",
       "  'Skartveit',\n",
       "  '‘I’Min kjaere mann,véir far og BesseThore Erik Dahlfzadt 17. august 1939,sovnet stille inn.Oslo15. mars 2022.KariNinaSteinarElisabeth, Julie,Martine, Ole Jakobﬂvrig familieBisettes fra.Grefsen kapellfredag 25. mars kl. 14.00jo1stad.no'],\n",
       " ['14.03',\n",
       "  'Gerd',\n",
       "  'Wetaas',\n",
       "  'Kjeldsen',\n",
       "  1934,\n",
       "  2022,\n",
       "  88,\n",
       "  'Oslo',\n",
       "  'éfVéir alles kjaereGlenn Skaalerudfgzsdt 23. juni 1953dgade fra oss i dag,Ahus, 14. mars 2022KithThomas HeidiLinnMorten, Marthe, Tuva ogMartin.HenrikSivBegraves fra Stalsberghagengravlund store kapell,torsdag 24. mars kl. 14.00.Like kjaert som blomster er engave til Kreftforeningen.Gaven kan gis i kapellet ellerpﬁ Vipps 2277.Se minneside j01stad.n0'],\n",
       " ['17.03',\n",
       "  'Inger-Lise',\n",
       "  'Wetaas',\n",
       "  'Øvervold',\n",
       "  1932,\n",
       "  2022,\n",
       "  90,\n",
       "  'Sandvika',\n",
       "  '-'],\n",
       " ['11.03',\n",
       "  'Tore',\n",
       "  'Wetaas',\n",
       "  'Vegge',\n",
       "  1928,\n",
       "  2022,\n",
       "  94,\n",
       "  'S',\n",
       "  '‘I’Min kjaere mann, varelskede pappa, svigerfarog bestefarArnold Teigsetfadt 6. mars 1932,sovnet stille inn.Lommedalen,16. mars 2022.Anbj ergInge-Arne KariAnne Karin TorsteinLars BrittCharlotte IngeAnders, Keely, Martine,Erlend Glaer, Eirik,Sunniva, Markus,Vilje Synnnve, Thomas,August, Leyla, IsaBegraves fraLommedalen kirke tilSteinsskogen gravlundtirsdag 29. marskl. 11.00.Pérnelding tilminnesamvaer péminnesiden.Minneside pé jo1stad.no']]"
      ]
     },
     "execution_count": 31,
     "metadata": {},
     "output_type": "execute_result"
    }
   ],
   "source": [
    "#def first_20():\n",
    "    \n",
    "import requests\n",
    "\n",
    "import bs4\n",
    "\n",
    "from PIL import Image\n",
    "\n",
    "from pytesseract import pytesseract\n",
    "\n",
    "from time import sleep\n",
    "\n",
    "deceased = []\n",
    "\n",
    "col_heads = ['OnlyDate', 'FirstName', 'SecondName', 'LastName', 'YearofBirth', 'YearofDeath', 'Age', 'Place', 'Text']\n",
    "\n",
    "deceased.append(col_heads)\n",
    "\n",
    "# Link one because there is info to be scraped in yet another webpage\n",
    "link_one = 'https://minnesider.no/index.php?sign=39cb4f8d032fe87e47bc628d237134e1'\n",
    "\n",
    "\n",
    "# Later, we will send another response\n",
    "response_one  = requests.get(link_one)\n",
    "\n",
    "\n",
    "# Soup one is from the first link\n",
    "soup_one = bs4.BeautifulSoup(response_one.text, 'lxml')\n",
    "\n",
    "\n",
    "# This user_text class has name, date, and place information\n",
    "user_text = soup_one.select('.user_text')\n",
    "\n",
    "\n",
    "for dp in range(1, 21):\n",
    "\n",
    "    # Get the Full Name \n",
    "    full_name = user_text[dp]('h4')[0].getText()\n",
    "\n",
    "\n",
    "    # Get Each Name\n",
    "    names = full_name.split()\n",
    "\n",
    "    if len(names) == 3:\n",
    "        first_name = names[0]\n",
    "        second_name = names[1]\n",
    "        last_name = names[2]\n",
    "\n",
    "    elif len(names) == 2:\n",
    "        first_name = names[0]\n",
    "        last_name = names[1]\n",
    "\n",
    "    elif len(names) == 1:\n",
    "        first_name = names[0]\n",
    "\n",
    "    \n",
    "    # Getting All Dates\n",
    "    all_dates = user_text[dp]('span')[0].getText()\n",
    "\n",
    "\n",
    "    # Only Date, Without Place\n",
    "    date_list = all_dates.split()\n",
    "\n",
    "    date_list.remove('-')\n",
    "\n",
    "    date_list.pop()\n",
    "\n",
    "    only_date = date_list[1][:5]\n",
    "\n",
    "\n",
    "    # Year of Birth\n",
    "    birth_year = date_list[0]\n",
    "\n",
    "\n",
    "    # Year of Death\n",
    "    death_year = date_list[1][6::]\n",
    "\n",
    "\n",
    "    # Get the Age\n",
    "    birth_year = int(birth_year)\n",
    "\n",
    "    death_year = int(death_year)\n",
    "\n",
    "    age = death_year - birth_year\n",
    "\n",
    "\n",
    "    # Get the Place\n",
    "    place_list = all_dates.split()\n",
    "\n",
    "    place = place_list.pop()\n",
    "\n",
    "    # Getting Image Text\n",
    "\n",
    "    lnk = user_text[dp].find(href=True)\n",
    "\n",
    "    link_two = lnk['href']\n",
    "\n",
    "    response_two = requests.get(link_one)\n",
    "\n",
    "    soup_two = bs4.BeautifulSoup(response_two.text, 'lxml')\n",
    "\n",
    "    obituary = soup_two.select('.portal_buttons_box')\n",
    "\n",
    "    lnk1 = obituary[dp].find(href=True)\n",
    "\n",
    "    link_three = lnk1['href']\n",
    "    \n",
    "    \n",
    "    if link_three == 'javascript:void()':\n",
    "        \n",
    "        all_text = '-'\n",
    "    \n",
    "    else:\n",
    "        \n",
    "        response_three = requests.get(link_three)\n",
    "\n",
    "        soup_three = bs4.BeautifulSoup(response_three.text, 'lxml')\n",
    "\n",
    "    zero_list = list(soup_three.select('.death_notice_hide'))\n",
    "\n",
    "    blank_list = []\n",
    "\n",
    "    if zero_list != blank_list:\n",
    "\n",
    "        all_text = '-'\n",
    "\n",
    "    else:\n",
    "        \n",
    "        all_text = ''\n",
    "            \n",
    "        img_link = soup_three.findAll('img')[0]['src']\n",
    "\n",
    "        response_four = requests.get(img_link)\n",
    "\n",
    "        img_file = open(f'{dp}. {full_name}.jpg', 'wb')\n",
    "\n",
    "        img_file.write(response_four.content)\n",
    "\n",
    "        exe_path = r'C:/Program Files (x86)/Tesseract-OCR/tesseract.exe'\n",
    "\n",
    "        image_path = img_file.name\n",
    "\n",
    "        the_img = Image.open(image_path)\n",
    "\n",
    "        pytesseract.tesseract_cmd = exe_path\n",
    "\n",
    "        img_text = pytesseract.image_to_string(the_img)\n",
    "\n",
    "        text_list = img_text[:-1].splitlines()\n",
    "\n",
    "        all_text = ''\n",
    "\n",
    "        for each_item in text_list:\n",
    "\n",
    "            all_text += each_item\n",
    "\n",
    "            img_file.close()\n",
    "\n",
    "\n",
    "    record = [only_date, first_name, second_name, last_name, birth_year, death_year, age, place, all_text]\n",
    "\n",
    "    deceased.append(record)\n",
    "\n",
    "deceased"
   ]
  },
  {
   "cell_type": "code",
   "execution_count": null,
   "id": "dc026943",
   "metadata": {},
   "outputs": [],
   "source": []
  },
  {
   "cell_type": "code",
   "execution_count": null,
   "id": "a8ffe92e",
   "metadata": {},
   "outputs": [],
   "source": []
  },
  {
   "cell_type": "code",
   "execution_count": 32,
   "id": "9f7252cb",
   "metadata": {},
   "outputs": [],
   "source": [
    "def make_csv():\n",
    "    \n",
    "    import csv\n",
    "    \n",
    "    norwegian_csv = open('file.csv', mode = 'w', encoding = 'utf-8', newline = '')\n",
    "\n",
    "    csv_writer = csv.writer(norwegian_csv, delimiter = ',')\n",
    "\n",
    "    csv_writer.writerows(deceased)\n",
    "\n",
    "    norwegian_csv.close()"
   ]
  },
  {
   "cell_type": "code",
   "execution_count": null,
   "id": "ab1ab29e",
   "metadata": {},
   "outputs": [],
   "source": []
  },
  {
   "cell_type": "code",
   "execution_count": 33,
   "id": "8ec9eef5",
   "metadata": {},
   "outputs": [],
   "source": [
    "make_csv()"
   ]
  },
  {
   "cell_type": "code",
   "execution_count": null,
   "id": "5a32d805",
   "metadata": {},
   "outputs": [],
   "source": []
  },
  {
   "cell_type": "code",
   "execution_count": null,
   "id": "65f4c29a",
   "metadata": {},
   "outputs": [],
   "source": []
  },
  {
   "cell_type": "code",
   "execution_count": null,
   "id": "551ff399",
   "metadata": {},
   "outputs": [],
   "source": []
  }
 ],
 "metadata": {
  "kernelspec": {
   "display_name": "Python 3 (ipykernel)",
   "language": "python",
   "name": "python3"
  },
  "language_info": {
   "codemirror_mode": {
    "name": "ipython",
    "version": 3
   },
   "file_extension": ".py",
   "mimetype": "text/x-python",
   "name": "python",
   "nbconvert_exporter": "python",
   "pygments_lexer": "ipython3",
   "version": "3.9.7"
  }
 },
 "nbformat": 4,
 "nbformat_minor": 5
}
