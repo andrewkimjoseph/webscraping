{
 "cells": [
  {
   "cell_type": "code",
   "execution_count": 46,
   "id": "c7fbb46e",
   "metadata": {},
   "outputs": [],
   "source": [
    "from selenium import webdriver\n",
    "import time\n",
    "import re"
   ]
  },
  {
   "cell_type": "code",
   "execution_count": 2,
   "id": "5971017a",
   "metadata": {},
   "outputs": [],
   "source": [
    "path = \"C:\\webdrivers\\chromedriver_win32\\chromedriver.exe\"\n",
    "\n",
    "agent = \"user-agent=Mozilla/5.0 (X11; Linux x86_64) AppleWebKit/537.36 (KHTML, like Gecko) Chrome/77.0.3865.90 Safari/537.36\"\n",
    "\n",
    "#headless = \"--headless\"\n",
    "\n",
    "the_options = webdriver.ChromeOptions()\n",
    "the_options.add_argument(path)\n",
    "#the_options.add_argument(headless)"
   ]
  },
  {
   "cell_type": "code",
   "execution_count": 3,
   "id": "6b01738b",
   "metadata": {},
   "outputs": [],
   "source": [
    "driver = webdriver.Chrome(path, options=the_options)\n",
    "\n",
    "driver.maximize_window()"
   ]
  },
  {
   "cell_type": "code",
   "execution_count": 4,
   "id": "d87f66cf",
   "metadata": {},
   "outputs": [],
   "source": [
    "link = \"https://www.thegrandwhiskyauction.com/past-auctions\"\n",
    "\n",
    "driver.get(link)"
   ]
  },
  {
   "cell_type": "code",
   "execution_count": 5,
   "id": "435a3286",
   "metadata": {},
   "outputs": [],
   "source": [
    "time.sleep(10)"
   ]
  },
  {
   "cell_type": "code",
   "execution_count": 6,
   "id": "d14b5b9d",
   "metadata": {},
   "outputs": [],
   "source": [
    "no_thanks = driver.find_element_by_xpath('//*[@id=\"onesignal-slidedown-cancel-button\"]')\n",
    "\n",
    "no_thanks.click()\n",
    "\n",
    "time.sleep(3)\n",
    "cookies_accept = driver.find_element_by_xpath('//*[@id=\"cookiescript_accept\"]')\n",
    "\n",
    "cookies_accept.click()"
   ]
  },
  {
   "cell_type": "code",
   "execution_count": 8,
   "id": "42a02a42",
   "metadata": {},
   "outputs": [],
   "source": [
    "whisky_months = driver.find_elements_by_xpath('//*[@id=\"browse\"]/div/ul/li')"
   ]
  },
  {
   "cell_type": "code",
   "execution_count": 11,
   "id": "31214051",
   "metadata": {},
   "outputs": [],
   "source": [
    "whisky_months[0].click()"
   ]
  },
  {
   "cell_type": "code",
   "execution_count": null,
   "id": "6558bffb",
   "metadata": {},
   "outputs": [],
   "source": []
  },
  {
   "cell_type": "code",
   "execution_count": null,
   "id": "6539803f",
   "metadata": {},
   "outputs": [],
   "source": []
  },
  {
   "cell_type": "code",
   "execution_count": 38,
   "id": "3d0065e2",
   "metadata": {},
   "outputs": [],
   "source": [
    "names = driver.find_elements_by_xpath(\"//div[@class='nameAndLot']/h3/a\")"
   ]
  },
  {
   "cell_type": "code",
   "execution_count": 39,
   "id": "62e3e3e1",
   "metadata": {},
   "outputs": [],
   "source": [
    "ids = driver.find_elements_by_xpath(\"//div[@class='nameAndLot']/span\")"
   ]
  },
  {
   "cell_type": "code",
   "execution_count": 40,
   "id": "e356aae8",
   "metadata": {},
   "outputs": [
    {
     "data": {
      "text/plain": [
       "'380668'"
      ]
     },
     "execution_count": 40,
     "metadata": {},
     "output_type": "execute_result"
    }
   ],
   "source": [
    "ids[0].text.replace('LOT ID: ', '')"
   ]
  },
  {
   "cell_type": "code",
   "execution_count": null,
   "id": "68727a32",
   "metadata": {},
   "outputs": [],
   "source": []
  },
  {
   "cell_type": "code",
   "execution_count": 41,
   "id": "ad95cc35",
   "metadata": {},
   "outputs": [],
   "source": [
    "bid_prices = driver.find_elements_by_xpath(\"//div[@class='priceRow']/span/span[@class='multiPrice']/span[@class='GBP show']\")"
   ]
  },
  {
   "cell_type": "code",
   "execution_count": null,
   "id": "cd1bf806",
   "metadata": {},
   "outputs": [],
   "source": []
  },
  {
   "cell_type": "code",
   "execution_count": 42,
   "id": "cdb33e7c",
   "metadata": {},
   "outputs": [
    {
     "data": {
      "text/plain": [
       "'£12,500.00'"
      ]
     },
     "execution_count": 42,
     "metadata": {},
     "output_type": "execute_result"
    }
   ],
   "source": [
    "bid_prices[0].text"
   ]
  },
  {
   "cell_type": "code",
   "execution_count": null,
   "id": "9a58fd02",
   "metadata": {},
   "outputs": [],
   "source": []
  },
  {
   "cell_type": "code",
   "execution_count": 43,
   "id": "ecde8fb0",
   "metadata": {},
   "outputs": [],
   "source": [
    "dates = driver.find_elements_by_xpath(\"//div[@class='bidWrap soldNotSold']\")"
   ]
  },
  {
   "cell_type": "code",
   "execution_count": 54,
   "id": "90bd191d",
   "metadata": {},
   "outputs": [],
   "source": [
    "date = dates[0].text"
   ]
  },
  {
   "cell_type": "code",
   "execution_count": 62,
   "id": "d2b41a4c",
   "metadata": {},
   "outputs": [
    {
     "data": {
      "text/plain": [
       "'Sold on 13/06/2022'"
      ]
     },
     "execution_count": 62,
     "metadata": {},
     "output_type": "execute_result"
    }
   ],
   "source": [
    "date"
   ]
  },
  {
   "cell_type": "code",
   "execution_count": 74,
   "id": "8d8370bd",
   "metadata": {},
   "outputs": [],
   "source": [
    "pattern = r\"^(?:(?:31(\\/|-|\\.)(?:0?[13578]|1[02]))\\1|(?:(?:29|30)(\\/|-|\\.)(?:0?[13-9]|1[0-2])\\2))(?:(?:1[6-9]|[2-9]\\d)?\\d{2})$|^(?:29(\\/|-|\\.)0?2\\3(?:(?:(?:1[6-9]|[2-9]\\d)?(?:0[48]|[2468][048]|[13579][26])|(?:(?:16|[2468][048]|[3579][26])00))))$|^(?:0?[1-9]|1\\d|2[0-8])(\\/|-|\\.)(?:(?:0?[1-9])|(?:1[0-2]))\\4(?:(?:1[6-9]|[2-9]\\d)?\\d{2})$\""
   ]
  },
  {
   "cell_type": "code",
   "execution_count": 75,
   "id": "a942eb2f",
   "metadata": {},
   "outputs": [],
   "source": [
    "search = re.search(pattern, date)"
   ]
  },
  {
   "cell_type": "code",
   "execution_count": 76,
   "id": "ab7082d8",
   "metadata": {},
   "outputs": [],
   "source": [
    "txt =\"Date of birth: 12/01/1900\""
   ]
  },
  {
   "cell_type": "code",
   "execution_count": 77,
   "id": "a84ee96c",
   "metadata": {},
   "outputs": [],
   "source": [
    "pat = r\"(Date of birth:|Birthday:)\\s+(?:0[1-9]|[12][0-9]|3[01])[-/.](?:0[1-9]|1[012])[-/.](?:19\\d{2}|20[01][0-9]|2020)\\b\""
   ]
  },
  {
   "cell_type": "code",
   "execution_count": null,
   "id": "29363235",
   "metadata": {},
   "outputs": [],
   "source": []
  },
  {
   "cell_type": "code",
   "execution_count": 73,
   "id": "5ac149cb",
   "metadata": {},
   "outputs": [],
   "source": [
    "srch = re.search(pat, txt)"
   ]
  },
  {
   "cell_type": "code",
   "execution_count": null,
   "id": "bde706ce",
   "metadata": {},
   "outputs": [],
   "source": []
  },
  {
   "cell_type": "code",
   "execution_count": null,
   "id": "487ead22",
   "metadata": {},
   "outputs": [],
   "source": []
  }
 ],
 "metadata": {
  "kernelspec": {
   "display_name": "Python 3 (ipykernel)",
   "language": "python",
   "name": "python3"
  },
  "language_info": {
   "codemirror_mode": {
    "name": "ipython",
    "version": 3
   },
   "file_extension": ".py",
   "mimetype": "text/x-python",
   "name": "python",
   "nbconvert_exporter": "python",
   "pygments_lexer": "ipython3",
   "version": "3.9.12"
  }
 },
 "nbformat": 4,
 "nbformat_minor": 5
}
