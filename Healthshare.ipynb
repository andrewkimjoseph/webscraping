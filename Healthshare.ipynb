{
 "cells": [
  {
   "cell_type": "code",
   "execution_count": 1,
   "id": "694cfdce",
   "metadata": {},
   "outputs": [],
   "source": [
    "from selenium import webdriver  # driver\n",
    "from selenium.webdriver.chrome.options import Options  # setting User Agent\n",
    "from selenium.common.exceptions import StaleElementReferenceException, NoSuchElementException, NoSuchWindowException\n",
    "from selenium.webdriver.common.by import By # helps implicit waiting\n",
    "from selenium.webdriver.support import expected_conditions as EC # this one too\n",
    "from selenium.webdriver.support.ui import WebDriverWait # implicit waiting\n",
    "from selenium.webdriver import ActionChains\n",
    "import time\n",
    "import csv\n",
    "from ipywidgets import IntProgress\n",
    "from IPython.display import display"
   ]
  },
  {
   "cell_type": "code",
   "execution_count": null,
   "id": "6fa309e6",
   "metadata": {},
   "outputs": [],
   "source": []
  },
  {
   "cell_type": "code",
   "execution_count": 2,
   "id": "6279713e",
   "metadata": {},
   "outputs": [],
   "source": [
    "data = open('input.csv', encoding='utf-8')  # opens the input file you shared\n",
    "csv_data = csv.reader(data)\n",
    "doctor_urls = list(csv_data)  # then, it transforms the data into a list of list\n",
    "all_urls = []\n",
    "# here, it unpacks the list of lists\n",
    "# and sorts it into one list, namely all_urls\n",
    "for urls in doctor_urls:\n",
    "    for url in urls:\n",
    "        all_urls.append(url)\n",
    "data.close()"
   ]
  },
  {
   "cell_type": "code",
   "execution_count": null,
   "id": "e4d21242",
   "metadata": {},
   "outputs": [],
   "source": []
  },
  {
   "cell_type": "code",
   "execution_count": 3,
   "id": "6fab3e7a",
   "metadata": {},
   "outputs": [],
   "source": [
    "path = \"C:\\webdrivers\\chromedriver_win32(104)\\chromedriver.exe\"\n",
    "agent = \"user-agent=Mozilla/5.0 (X11; Linux x86_64) AppleWebKit/537.36 (KHTML, like Gecko) Chrome/77.0.3865.90 Safari/537.36\"\n",
    "headless = \"--headless\"\n",
    "the_options = webdriver.ChromeOptions()\n",
    "the_options.add_argument(path)\n",
    "the_options.binary_location = \"C:\\Program Files\\Google\\Chrome Beta\\Application\\chrome.exe\"\n",
    "the_options.add_argument(headless)\n",
    "driver = webdriver.Chrome(executable_path=path, options=the_options)\n",
    "driver.maximize_window()"
   ]
  },
  {
   "cell_type": "code",
   "execution_count": null,
   "id": "dc2d89fb",
   "metadata": {},
   "outputs": [],
   "source": []
  },
  {
   "cell_type": "code",
   "execution_count": 4,
   "id": "e145b975",
   "metadata": {},
   "outputs": [
    {
     "data": {
      "application/vnd.jupyter.widget-view+json": {
       "model_id": "dc0d5a8d75cd44a1860e4fc1d68438d7",
       "version_major": 2,
       "version_minor": 0
      },
      "text/plain": [
       "IntProgress(value=0, description='Starting...', max=200)"
      ]
     },
     "metadata": {},
     "output_type": "display_data"
    }
   ],
   "source": [
    "headers = ['URL', 'Name', 'About',\n",
    "   'Special Interests', 'Practice Location','Address',\n",
    "   'Telephone', 'Hospital Affiliations'] # first row of any good CSV file are column headers\n",
    "table = []\n",
    "table.append(headers)\n",
    "\n",
    "max_count = len(all_urls)\n",
    "bar = IntProgress(min=0, max=max_count, description='Starting...')\n",
    "display(bar)\n",
    "\n",
    "for url in all_urls:\n",
    "    driver.get(url)\n",
    "    driver.implicitly_wait(5)\n",
    "    bar.value +=1\n",
    "    bar.description = f\"[{bar.value} of {max_count}]\"\n",
    "    locations = WebDriverWait(driver, 1).until(\n",
    "        EC.presence_of_all_elements_located((By.XPATH, \"//li[starts-with(@class, 'location')]\"))\n",
    "    )\n",
    "    for location in locations:\n",
    "        index = locations.index(location)\n",
    "        if index == 0:\n",
    "            url = url\n",
    "            name = driver.find_element_by_xpath(\"//header[@class='card-profile']/div/div/h1\").text\n",
    "            about = WebDriverWait(driver, 3).until(\n",
    "                EC.presence_of_element_located((By.XPATH, \"//article[@class='bio']/div[1]\"))\n",
    "            ).text\n",
    "            try:\n",
    "                special_interests = driver.find_element_by_xpath(\"//article[@class='bio']/div[2]/div\").text\n",
    "            except NoSuchElementException:\n",
    "                special_interests = ''\n",
    "            practice_location = driver.find_element_by_xpath(\"//li[starts-with(@class, 'location')][1]/*/h3\").text\n",
    "            address = driver.find_element_by_xpath(\"//li[starts-with(@class, 'location')][1]/*/address\").text\n",
    "            phone_button = WebDriverWait(driver, 3).until(\n",
    "                EC.visibility_of_element_located((By.XPATH, \"(//button[contains(@title, 'Click to show phone number')])[1]\"))\n",
    "            )\n",
    "            driver.execute_script(\"arguments[0].click();\", phone_button)\n",
    "            time.sleep(1)\n",
    "            phone_number = driver.find_element_by_xpath(\"//b/a\").text\n",
    "            time.sleep(1)\n",
    "            close_button = driver.find_element_by_xpath(\"//button[@class='dismiss']\").click()\n",
    "            try:\n",
    "                hospital_affiliations = [affiliation.text for affiliation in driver.find_elements_by_xpath(\"//*[contains(text(), 'Hospital affiliations')]/../ul/li\")]\n",
    "                hospital_affiliations = '\\n'.join(hospital_affiliations)\n",
    "            except NoSuchElementException:\n",
    "                pass\n",
    "\n",
    "            first_record = [url, name, about,\n",
    "                           special_interests, practice_location, address,\n",
    "                           phone_number, hospital_affiliations]\n",
    "\n",
    "            table.append(first_record)\n",
    "\n",
    "        elif index != 0:\n",
    "            url = ''\n",
    "            name = ''\n",
    "            about = ''\n",
    "            special_interests = ''\n",
    "            practice_location = driver.find_element_by_xpath(f\"//li[starts-with(@class, 'location')][{index + 1}]/*/h3\").text\n",
    "            address = driver.find_element_by_xpath(f\"//li[starts-with(@class, 'location')][{index + 1}]/*/address\").text\n",
    "            phone_button = WebDriverWait(driver, 3).until(\n",
    "                EC.visibility_of_element_located((By.XPATH, \"(//button[contains(@title, 'Click to show phone number')])[1]\"))\n",
    "            )\n",
    "            driver.execute_script(\"arguments[0].click();\", phone_button)           \n",
    "            time.sleep(1)\n",
    "            phone_number = driver.find_element_by_xpath(\"//b/a\").text\n",
    "            time.sleep(1)\n",
    "            close_button = driver.find_element_by_xpath(\"//button[@class='dismiss']\").click()\n",
    "            hospital_affiliations = ''\n",
    "            sub_record = [url, name, about,\n",
    "                          special_interests, practice_location, address,\n",
    "                          phone_number, hospital_affiliations]\n",
    "\n",
    "            table.append(sub_record)"
   ]
  },
  {
   "cell_type": "code",
   "execution_count": null,
   "id": "e72556ce",
   "metadata": {},
   "outputs": [],
   "source": []
  },
  {
   "cell_type": "code",
   "execution_count": null,
   "id": "d3bd3cc1",
   "metadata": {},
   "outputs": [],
   "source": []
  },
  {
   "cell_type": "code",
   "execution_count": 5,
   "id": "07bdadb6",
   "metadata": {},
   "outputs": [],
   "source": [
    "csv_file = open('output.csv','w',newline='')\n",
    "csv_writer = csv.writer(csv_file,delimiter=',')\n",
    "csv_writer.writerows(table)\n",
    "csv_file.close()"
   ]
  },
  {
   "cell_type": "code",
   "execution_count": null,
   "id": "867449ac",
   "metadata": {},
   "outputs": [],
   "source": []
  },
  {
   "cell_type": "code",
   "execution_count": null,
   "id": "0d287203",
   "metadata": {},
   "outputs": [],
   "source": []
  }
 ],
 "metadata": {
  "interpreter": {
   "hash": "d23624b13311fb1af1c90e93df5b4884b185f1d04f2264343d59e90a86c3d0b7"
  },
  "kernelspec": {
   "display_name": "Python 3 (ipykernel)",
   "language": "python",
   "name": "python3"
  },
  "language_info": {
   "codemirror_mode": {
    "name": "ipython",
    "version": 3
   },
   "file_extension": ".py",
   "mimetype": "text/x-python",
   "name": "python",
   "nbconvert_exporter": "python",
   "pygments_lexer": "ipython3",
   "version": "3.9.12"
  }
 },
 "nbformat": 4,
 "nbformat_minor": 5
}
